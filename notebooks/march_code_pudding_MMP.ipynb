{
  "cells": [
    {
      "cell_type": "markdown",
      "metadata": {
        "id": "5ZonpnyNRcDW"
      },
      "source": [
        "# March Madness Machine Learning Predictor"
      ]
    },
    {
      "cell_type": "markdown",
      "metadata": {
        "id": "jjnhdo0rRcDX"
      },
      "source": [
        "## Introduction"
      ]
    },
    {
      "cell_type": "markdown",
      "metadata": {
        "id": "E0AXIRvmRcDY"
      },
      "source": [
        "The project is to build a machine learning model to predict NCAA Tournament Winners based on historical data and team stats.This is done by using the top NCAA Teams to build a training set to predict who wins in a match up between through teams.It is building a model that will take in a single team and decide if they are gonna win a game.The input to the machine learning model is a match up between 2 teams, and important information about the team involved such as the teams overall league rankings - different teams ranked for different categories along with average number of points per game, average defenisve rating per game, average speed of pace for a game."
      ]
    },
    {
      "cell_type": "markdown",
      "source": [
        "## Import Libraries"
      ],
      "metadata": {
        "id": "87Gaq-dAlyoL"
      }
    },
    {
      "cell_type": "code",
      "source": [
        "pip install catboost"
      ],
      "metadata": {
        "colab": {
          "base_uri": "https://localhost:8080/"
        },
        "id": "zBvP8CNzPe21",
        "outputId": "e1cdfce3-360f-456a-d334-f9905db86955"
      },
      "execution_count": null,
      "outputs": [
        {
          "output_type": "stream",
          "name": "stdout",
          "text": [
            "Requirement already satisfied: catboost in /usr/local/lib/python3.11/dist-packages (1.2.7)\n",
            "Requirement already satisfied: graphviz in /usr/local/lib/python3.11/dist-packages (from catboost) (0.20.3)\n",
            "Requirement already satisfied: matplotlib in /usr/local/lib/python3.11/dist-packages (from catboost) (3.10.0)\n",
            "Requirement already satisfied: numpy<2.0,>=1.16.0 in /usr/local/lib/python3.11/dist-packages (from catboost) (1.26.4)\n",
            "Requirement already satisfied: pandas>=0.24 in /usr/local/lib/python3.11/dist-packages (from catboost) (2.2.2)\n",
            "Requirement already satisfied: scipy in /usr/local/lib/python3.11/dist-packages (from catboost) (1.13.1)\n",
            "Requirement already satisfied: plotly in /usr/local/lib/python3.11/dist-packages (from catboost) (5.24.1)\n",
            "Requirement already satisfied: six in /usr/local/lib/python3.11/dist-packages (from catboost) (1.17.0)\n",
            "Requirement already satisfied: python-dateutil>=2.8.2 in /usr/local/lib/python3.11/dist-packages (from pandas>=0.24->catboost) (2.8.2)\n",
            "Requirement already satisfied: pytz>=2020.1 in /usr/local/lib/python3.11/dist-packages (from pandas>=0.24->catboost) (2025.1)\n",
            "Requirement already satisfied: tzdata>=2022.7 in /usr/local/lib/python3.11/dist-packages (from pandas>=0.24->catboost) (2025.1)\n",
            "Requirement already satisfied: contourpy>=1.0.1 in /usr/local/lib/python3.11/dist-packages (from matplotlib->catboost) (1.3.1)\n",
            "Requirement already satisfied: cycler>=0.10 in /usr/local/lib/python3.11/dist-packages (from matplotlib->catboost) (0.12.1)\n",
            "Requirement already satisfied: fonttools>=4.22.0 in /usr/local/lib/python3.11/dist-packages (from matplotlib->catboost) (4.56.0)\n",
            "Requirement already satisfied: kiwisolver>=1.3.1 in /usr/local/lib/python3.11/dist-packages (from matplotlib->catboost) (1.4.8)\n",
            "Requirement already satisfied: packaging>=20.0 in /usr/local/lib/python3.11/dist-packages (from matplotlib->catboost) (24.2)\n",
            "Requirement already satisfied: pillow>=8 in /usr/local/lib/python3.11/dist-packages (from matplotlib->catboost) (11.1.0)\n",
            "Requirement already satisfied: pyparsing>=2.3.1 in /usr/local/lib/python3.11/dist-packages (from matplotlib->catboost) (3.2.1)\n",
            "Requirement already satisfied: tenacity>=6.2.0 in /usr/local/lib/python3.11/dist-packages (from plotly->catboost) (9.0.0)\n"
          ]
        }
      ]
    },
    {
      "cell_type": "code",
      "execution_count": null,
      "metadata": {
        "id": "HpWjkaa0RcDY"
      },
      "outputs": [],
      "source": [
        "import pandas as pd\n",
        "from matplotlib import pyplot as plt\n",
        "import seaborn as sns\n",
        "import numpy as np\n",
        "from scipy import stats as st"
      ]
    },
    {
      "cell_type": "code",
      "execution_count": null,
      "metadata": {
        "id": "hlJkpiItRcDY"
      },
      "outputs": [],
      "source": [
        "from sklearn.model_selection import train_test_split, cross_val_score, GridSearchCV\n",
        "from sklearn.utils import resample, shuffle"
      ]
    },
    {
      "cell_type": "code",
      "execution_count": null,
      "metadata": {
        "id": "Z8O_kETSRcDZ"
      },
      "outputs": [],
      "source": [
        "from sklearn.ensemble import RandomForestClassifier\n",
        "from sklearn.linear_model import LogisticRegression\n",
        "from catboost import CatBoostClassifier\n",
        "from lightgbm import LGBMClassifier\n",
        "from xgboost import XGBClassifier\n",
        "\n",
        "from sklearn.metrics import mean_squared_error, mean_absolute_error, accuracy_score, confusion_matrix, classification_report, roc_auc_score, precision_score, recall_score, f1_score, make_scorer\n",
        "\n",
        "from sklearn.preprocessing import StandardScaler"
      ]
    },
    {
      "cell_type": "code",
      "execution_count": null,
      "metadata": {
        "id": "IJiQxBj9RcDZ"
      },
      "outputs": [],
      "source": [
        "team_matchups = pd.read_csv('datasets/team_matchups.csv')"
      ]
    },
    {
      "cell_type": "markdown",
      "metadata": {
        "id": "9eHc7dq-RcDZ"
      },
      "source": [
        "## Data Preprocessing"
      ]
    },
    {
      "cell_type": "code",
      "source": [
        "#output of first 5 rows of initial dataset\n",
        "team_matchups.head()"
      ],
      "metadata": {
        "colab": {
          "base_uri": "https://localhost:8080/",
          "height": 394
        },
        "id": "SkqGewFF5ENU",
        "outputId": "773b6fdc-c206-4981-bca9-c2af654ef105"
      },
      "execution_count": null,
      "outputs": [
        {
          "output_type": "execute_result",
          "data": {
            "text/plain": [
              "                      team1  team1_bpi             team2  team2_bpi  \\\n",
              "0              Baylor Bears         21  Gonzaga Bulldogs          9   \n",
              "1       Ohio State Buckeyes         35   Texas Longhorns         34   \n",
              "2  North Carolina Tar Heels         27   Kansas Jayhawks         11   \n",
              "3          New Mexico Lobos         49       UCLA Bruins         26   \n",
              "4             Auburn Tigers          3   Houston Cougars          2   \n",
              "\n",
              "   team1_points  team2_points  points_difference  offensive_efficiency_team1  \\\n",
              "0            63           101                 38                       121.1   \n",
              "1            80            72                  8                       118.1   \n",
              "2            89            92                  3                       119.2   \n",
              "3            72            64                  8                       113.7   \n",
              "4            74            69                  5                       130.7   \n",
              "\n",
              "   offensive_efficiency_team2  offensive_efficiency_difference  ...  \\\n",
              "0                       125.2                              4.1  ...   \n",
              "1                       116.7                              1.4  ...   \n",
              "2                       115.4                              3.8  ...   \n",
              "3                       116.5                              2.8  ...   \n",
              "4                       124.9                              5.8  ...   \n",
              "\n",
              "   team2_efgpct  efgpct_difference  team1_experience  team2_experience  \\\n",
              "0         56.41               4.36              2.72              2.97   \n",
              "1         52.90               0.81              2.16              2.85   \n",
              "2         53.14               1.12              2.24              3.62   \n",
              "3         52.94               1.69              2.45              2.23   \n",
              "4         53.21               2.84              2.79              2.63   \n",
              "\n",
              "   experience_difference  team1_rating  team2_rating  rating_difference  \\\n",
              "0                   0.12          20.3          27.3                7.0   \n",
              "1                   1.46          19.5          16.0                3.5   \n",
              "2                   0.01          17.2          23.2                6.0   \n",
              "3                   0.19          17.1          21.5                4.4   \n",
              "4                   1.25          37.6          35.4                2.2   \n",
              "\n",
              "   team1_winner  team2_winner  \n",
              "0             0             1  \n",
              "1             1             0  \n",
              "2             0             1  \n",
              "3             1             0  \n",
              "4             1             0  \n",
              "\n",
              "[5 rows x 27 columns]"
            ],
            "text/html": [
              "\n",
              "  <div id=\"df-75c0040e-1a08-4a32-a6a0-f10e6267524c\" class=\"colab-df-container\">\n",
              "    <div>\n",
              "<style scoped>\n",
              "    .dataframe tbody tr th:only-of-type {\n",
              "        vertical-align: middle;\n",
              "    }\n",
              "\n",
              "    .dataframe tbody tr th {\n",
              "        vertical-align: top;\n",
              "    }\n",
              "\n",
              "    .dataframe thead th {\n",
              "        text-align: right;\n",
              "    }\n",
              "</style>\n",
              "<table border=\"1\" class=\"dataframe\">\n",
              "  <thead>\n",
              "    <tr style=\"text-align: right;\">\n",
              "      <th></th>\n",
              "      <th>team1</th>\n",
              "      <th>team1_bpi</th>\n",
              "      <th>team2</th>\n",
              "      <th>team2_bpi</th>\n",
              "      <th>team1_points</th>\n",
              "      <th>team2_points</th>\n",
              "      <th>points_difference</th>\n",
              "      <th>offensive_efficiency_team1</th>\n",
              "      <th>offensive_efficiency_team2</th>\n",
              "      <th>offensive_efficiency_difference</th>\n",
              "      <th>...</th>\n",
              "      <th>team2_efgpct</th>\n",
              "      <th>efgpct_difference</th>\n",
              "      <th>team1_experience</th>\n",
              "      <th>team2_experience</th>\n",
              "      <th>experience_difference</th>\n",
              "      <th>team1_rating</th>\n",
              "      <th>team2_rating</th>\n",
              "      <th>rating_difference</th>\n",
              "      <th>team1_winner</th>\n",
              "      <th>team2_winner</th>\n",
              "    </tr>\n",
              "  </thead>\n",
              "  <tbody>\n",
              "    <tr>\n",
              "      <th>0</th>\n",
              "      <td>Baylor Bears</td>\n",
              "      <td>21</td>\n",
              "      <td>Gonzaga Bulldogs</td>\n",
              "      <td>9</td>\n",
              "      <td>63</td>\n",
              "      <td>101</td>\n",
              "      <td>38</td>\n",
              "      <td>121.1</td>\n",
              "      <td>125.2</td>\n",
              "      <td>4.1</td>\n",
              "      <td>...</td>\n",
              "      <td>56.41</td>\n",
              "      <td>4.36</td>\n",
              "      <td>2.72</td>\n",
              "      <td>2.97</td>\n",
              "      <td>0.12</td>\n",
              "      <td>20.3</td>\n",
              "      <td>27.3</td>\n",
              "      <td>7.0</td>\n",
              "      <td>0</td>\n",
              "      <td>1</td>\n",
              "    </tr>\n",
              "    <tr>\n",
              "      <th>1</th>\n",
              "      <td>Ohio State Buckeyes</td>\n",
              "      <td>35</td>\n",
              "      <td>Texas Longhorns</td>\n",
              "      <td>34</td>\n",
              "      <td>80</td>\n",
              "      <td>72</td>\n",
              "      <td>8</td>\n",
              "      <td>118.1</td>\n",
              "      <td>116.7</td>\n",
              "      <td>1.4</td>\n",
              "      <td>...</td>\n",
              "      <td>52.90</td>\n",
              "      <td>0.81</td>\n",
              "      <td>2.16</td>\n",
              "      <td>2.85</td>\n",
              "      <td>1.46</td>\n",
              "      <td>19.5</td>\n",
              "      <td>16.0</td>\n",
              "      <td>3.5</td>\n",
              "      <td>1</td>\n",
              "      <td>0</td>\n",
              "    </tr>\n",
              "    <tr>\n",
              "      <th>2</th>\n",
              "      <td>North Carolina Tar Heels</td>\n",
              "      <td>27</td>\n",
              "      <td>Kansas Jayhawks</td>\n",
              "      <td>11</td>\n",
              "      <td>89</td>\n",
              "      <td>92</td>\n",
              "      <td>3</td>\n",
              "      <td>119.2</td>\n",
              "      <td>115.4</td>\n",
              "      <td>3.8</td>\n",
              "      <td>...</td>\n",
              "      <td>53.14</td>\n",
              "      <td>1.12</td>\n",
              "      <td>2.24</td>\n",
              "      <td>3.62</td>\n",
              "      <td>0.01</td>\n",
              "      <td>17.2</td>\n",
              "      <td>23.2</td>\n",
              "      <td>6.0</td>\n",
              "      <td>0</td>\n",
              "      <td>1</td>\n",
              "    </tr>\n",
              "    <tr>\n",
              "      <th>3</th>\n",
              "      <td>New Mexico Lobos</td>\n",
              "      <td>49</td>\n",
              "      <td>UCLA Bruins</td>\n",
              "      <td>26</td>\n",
              "      <td>72</td>\n",
              "      <td>64</td>\n",
              "      <td>8</td>\n",
              "      <td>113.7</td>\n",
              "      <td>116.5</td>\n",
              "      <td>2.8</td>\n",
              "      <td>...</td>\n",
              "      <td>52.94</td>\n",
              "      <td>1.69</td>\n",
              "      <td>2.45</td>\n",
              "      <td>2.23</td>\n",
              "      <td>0.19</td>\n",
              "      <td>17.1</td>\n",
              "      <td>21.5</td>\n",
              "      <td>4.4</td>\n",
              "      <td>1</td>\n",
              "      <td>0</td>\n",
              "    </tr>\n",
              "    <tr>\n",
              "      <th>4</th>\n",
              "      <td>Auburn Tigers</td>\n",
              "      <td>3</td>\n",
              "      <td>Houston Cougars</td>\n",
              "      <td>2</td>\n",
              "      <td>74</td>\n",
              "      <td>69</td>\n",
              "      <td>5</td>\n",
              "      <td>130.7</td>\n",
              "      <td>124.9</td>\n",
              "      <td>5.8</td>\n",
              "      <td>...</td>\n",
              "      <td>53.21</td>\n",
              "      <td>2.84</td>\n",
              "      <td>2.79</td>\n",
              "      <td>2.63</td>\n",
              "      <td>1.25</td>\n",
              "      <td>37.6</td>\n",
              "      <td>35.4</td>\n",
              "      <td>2.2</td>\n",
              "      <td>1</td>\n",
              "      <td>0</td>\n",
              "    </tr>\n",
              "  </tbody>\n",
              "</table>\n",
              "<p>5 rows × 27 columns</p>\n",
              "</div>\n",
              "    <div class=\"colab-df-buttons\">\n",
              "\n",
              "  <div class=\"colab-df-container\">\n",
              "    <button class=\"colab-df-convert\" onclick=\"convertToInteractive('df-75c0040e-1a08-4a32-a6a0-f10e6267524c')\"\n",
              "            title=\"Convert this dataframe to an interactive table.\"\n",
              "            style=\"display:none;\">\n",
              "\n",
              "  <svg xmlns=\"http://www.w3.org/2000/svg\" height=\"24px\" viewBox=\"0 -960 960 960\">\n",
              "    <path d=\"M120-120v-720h720v720H120Zm60-500h600v-160H180v160Zm220 220h160v-160H400v160Zm0 220h160v-160H400v160ZM180-400h160v-160H180v160Zm440 0h160v-160H620v160ZM180-180h160v-160H180v160Zm440 0h160v-160H620v160Z\"/>\n",
              "  </svg>\n",
              "    </button>\n",
              "\n",
              "  <style>\n",
              "    .colab-df-container {\n",
              "      display:flex;\n",
              "      gap: 12px;\n",
              "    }\n",
              "\n",
              "    .colab-df-convert {\n",
              "      background-color: #E8F0FE;\n",
              "      border: none;\n",
              "      border-radius: 50%;\n",
              "      cursor: pointer;\n",
              "      display: none;\n",
              "      fill: #1967D2;\n",
              "      height: 32px;\n",
              "      padding: 0 0 0 0;\n",
              "      width: 32px;\n",
              "    }\n",
              "\n",
              "    .colab-df-convert:hover {\n",
              "      background-color: #E2EBFA;\n",
              "      box-shadow: 0px 1px 2px rgba(60, 64, 67, 0.3), 0px 1px 3px 1px rgba(60, 64, 67, 0.15);\n",
              "      fill: #174EA6;\n",
              "    }\n",
              "\n",
              "    .colab-df-buttons div {\n",
              "      margin-bottom: 4px;\n",
              "    }\n",
              "\n",
              "    [theme=dark] .colab-df-convert {\n",
              "      background-color: #3B4455;\n",
              "      fill: #D2E3FC;\n",
              "    }\n",
              "\n",
              "    [theme=dark] .colab-df-convert:hover {\n",
              "      background-color: #434B5C;\n",
              "      box-shadow: 0px 1px 3px 1px rgba(0, 0, 0, 0.15);\n",
              "      filter: drop-shadow(0px 1px 2px rgba(0, 0, 0, 0.3));\n",
              "      fill: #FFFFFF;\n",
              "    }\n",
              "  </style>\n",
              "\n",
              "    <script>\n",
              "      const buttonEl =\n",
              "        document.querySelector('#df-75c0040e-1a08-4a32-a6a0-f10e6267524c button.colab-df-convert');\n",
              "      buttonEl.style.display =\n",
              "        google.colab.kernel.accessAllowed ? 'block' : 'none';\n",
              "\n",
              "      async function convertToInteractive(key) {\n",
              "        const element = document.querySelector('#df-75c0040e-1a08-4a32-a6a0-f10e6267524c');\n",
              "        const dataTable =\n",
              "          await google.colab.kernel.invokeFunction('convertToInteractive',\n",
              "                                                    [key], {});\n",
              "        if (!dataTable) return;\n",
              "\n",
              "        const docLinkHtml = 'Like what you see? Visit the ' +\n",
              "          '<a target=\"_blank\" href=https://colab.research.google.com/notebooks/data_table.ipynb>data table notebook</a>'\n",
              "          + ' to learn more about interactive tables.';\n",
              "        element.innerHTML = '';\n",
              "        dataTable['output_type'] = 'display_data';\n",
              "        await google.colab.output.renderOutput(dataTable, element);\n",
              "        const docLink = document.createElement('div');\n",
              "        docLink.innerHTML = docLinkHtml;\n",
              "        element.appendChild(docLink);\n",
              "      }\n",
              "    </script>\n",
              "  </div>\n",
              "\n",
              "\n",
              "<div id=\"df-2343539d-617a-44fb-9a32-fcbc0e80b127\">\n",
              "  <button class=\"colab-df-quickchart\" onclick=\"quickchart('df-2343539d-617a-44fb-9a32-fcbc0e80b127')\"\n",
              "            title=\"Suggest charts\"\n",
              "            style=\"display:none;\">\n",
              "\n",
              "<svg xmlns=\"http://www.w3.org/2000/svg\" height=\"24px\"viewBox=\"0 0 24 24\"\n",
              "     width=\"24px\">\n",
              "    <g>\n",
              "        <path d=\"M19 3H5c-1.1 0-2 .9-2 2v14c0 1.1.9 2 2 2h14c1.1 0 2-.9 2-2V5c0-1.1-.9-2-2-2zM9 17H7v-7h2v7zm4 0h-2V7h2v10zm4 0h-2v-4h2v4z\"/>\n",
              "    </g>\n",
              "</svg>\n",
              "  </button>\n",
              "\n",
              "<style>\n",
              "  .colab-df-quickchart {\n",
              "      --bg-color: #E8F0FE;\n",
              "      --fill-color: #1967D2;\n",
              "      --hover-bg-color: #E2EBFA;\n",
              "      --hover-fill-color: #174EA6;\n",
              "      --disabled-fill-color: #AAA;\n",
              "      --disabled-bg-color: #DDD;\n",
              "  }\n",
              "\n",
              "  [theme=dark] .colab-df-quickchart {\n",
              "      --bg-color: #3B4455;\n",
              "      --fill-color: #D2E3FC;\n",
              "      --hover-bg-color: #434B5C;\n",
              "      --hover-fill-color: #FFFFFF;\n",
              "      --disabled-bg-color: #3B4455;\n",
              "      --disabled-fill-color: #666;\n",
              "  }\n",
              "\n",
              "  .colab-df-quickchart {\n",
              "    background-color: var(--bg-color);\n",
              "    border: none;\n",
              "    border-radius: 50%;\n",
              "    cursor: pointer;\n",
              "    display: none;\n",
              "    fill: var(--fill-color);\n",
              "    height: 32px;\n",
              "    padding: 0;\n",
              "    width: 32px;\n",
              "  }\n",
              "\n",
              "  .colab-df-quickchart:hover {\n",
              "    background-color: var(--hover-bg-color);\n",
              "    box-shadow: 0 1px 2px rgba(60, 64, 67, 0.3), 0 1px 3px 1px rgba(60, 64, 67, 0.15);\n",
              "    fill: var(--button-hover-fill-color);\n",
              "  }\n",
              "\n",
              "  .colab-df-quickchart-complete:disabled,\n",
              "  .colab-df-quickchart-complete:disabled:hover {\n",
              "    background-color: var(--disabled-bg-color);\n",
              "    fill: var(--disabled-fill-color);\n",
              "    box-shadow: none;\n",
              "  }\n",
              "\n",
              "  .colab-df-spinner {\n",
              "    border: 2px solid var(--fill-color);\n",
              "    border-color: transparent;\n",
              "    border-bottom-color: var(--fill-color);\n",
              "    animation:\n",
              "      spin 1s steps(1) infinite;\n",
              "  }\n",
              "\n",
              "  @keyframes spin {\n",
              "    0% {\n",
              "      border-color: transparent;\n",
              "      border-bottom-color: var(--fill-color);\n",
              "      border-left-color: var(--fill-color);\n",
              "    }\n",
              "    20% {\n",
              "      border-color: transparent;\n",
              "      border-left-color: var(--fill-color);\n",
              "      border-top-color: var(--fill-color);\n",
              "    }\n",
              "    30% {\n",
              "      border-color: transparent;\n",
              "      border-left-color: var(--fill-color);\n",
              "      border-top-color: var(--fill-color);\n",
              "      border-right-color: var(--fill-color);\n",
              "    }\n",
              "    40% {\n",
              "      border-color: transparent;\n",
              "      border-right-color: var(--fill-color);\n",
              "      border-top-color: var(--fill-color);\n",
              "    }\n",
              "    60% {\n",
              "      border-color: transparent;\n",
              "      border-right-color: var(--fill-color);\n",
              "    }\n",
              "    80% {\n",
              "      border-color: transparent;\n",
              "      border-right-color: var(--fill-color);\n",
              "      border-bottom-color: var(--fill-color);\n",
              "    }\n",
              "    90% {\n",
              "      border-color: transparent;\n",
              "      border-bottom-color: var(--fill-color);\n",
              "    }\n",
              "  }\n",
              "</style>\n",
              "\n",
              "  <script>\n",
              "    async function quickchart(key) {\n",
              "      const quickchartButtonEl =\n",
              "        document.querySelector('#' + key + ' button');\n",
              "      quickchartButtonEl.disabled = true;  // To prevent multiple clicks.\n",
              "      quickchartButtonEl.classList.add('colab-df-spinner');\n",
              "      try {\n",
              "        const charts = await google.colab.kernel.invokeFunction(\n",
              "            'suggestCharts', [key], {});\n",
              "      } catch (error) {\n",
              "        console.error('Error during call to suggestCharts:', error);\n",
              "      }\n",
              "      quickchartButtonEl.classList.remove('colab-df-spinner');\n",
              "      quickchartButtonEl.classList.add('colab-df-quickchart-complete');\n",
              "    }\n",
              "    (() => {\n",
              "      let quickchartButtonEl =\n",
              "        document.querySelector('#df-2343539d-617a-44fb-9a32-fcbc0e80b127 button');\n",
              "      quickchartButtonEl.style.display =\n",
              "        google.colab.kernel.accessAllowed ? 'block' : 'none';\n",
              "    })();\n",
              "  </script>\n",
              "</div>\n",
              "\n",
              "    </div>\n",
              "  </div>\n"
            ],
            "application/vnd.google.colaboratory.intrinsic+json": {
              "type": "dataframe",
              "variable_name": "team_matchups"
            }
          },
          "metadata": {},
          "execution_count": 68
        }
      ]
    },
    {
      "cell_type": "code",
      "source": [
        "team_matchups = team_matchups.drop(columns=['team2_winner'])  # Drop specific columns\n",
        "team_matchups = team_matchups.rename(columns={'team1_winner': 'winner'})  # Rename columns"
      ],
      "metadata": {
        "id": "eeuqYsVLNaB5"
      },
      "execution_count": null,
      "outputs": []
    },
    {
      "cell_type": "code",
      "source": [
        "team_matchups.head()"
      ],
      "metadata": {
        "colab": {
          "base_uri": "https://localhost:8080/",
          "height": 394
        },
        "id": "972vxwqYO7sB",
        "outputId": "42aa5180-7e9a-41b1-fa24-6662d23f1fd4"
      },
      "execution_count": null,
      "outputs": [
        {
          "output_type": "execute_result",
          "data": {
            "text/plain": [
              "                      team1  team1_bpi             team2  team2_bpi  \\\n",
              "0              Baylor Bears         21  Gonzaga Bulldogs          9   \n",
              "1       Ohio State Buckeyes         35   Texas Longhorns         34   \n",
              "2  North Carolina Tar Heels         27   Kansas Jayhawks         11   \n",
              "3          New Mexico Lobos         49       UCLA Bruins         26   \n",
              "4             Auburn Tigers          3   Houston Cougars          2   \n",
              "\n",
              "   team1_points  team2_points  points_difference  offensive_efficiency_team1  \\\n",
              "0            63           101                 38                       121.1   \n",
              "1            80            72                  8                       118.1   \n",
              "2            89            92                  3                       119.2   \n",
              "3            72            64                  8                       113.7   \n",
              "4            74            69                  5                       130.7   \n",
              "\n",
              "   offensive_efficiency_team2  offensive_efficiency_difference  ...  \\\n",
              "0                       125.2                              4.1  ...   \n",
              "1                       116.7                              1.4  ...   \n",
              "2                       115.4                              3.8  ...   \n",
              "3                       116.5                              2.8  ...   \n",
              "4                       124.9                              5.8  ...   \n",
              "\n",
              "   team1_efgpct  team2_efgpct  efgpct_difference  team1_experience  \\\n",
              "0         52.05         56.41               4.36              2.72   \n",
              "1         53.70         52.90               0.81              2.16   \n",
              "2         54.26         53.14               1.12              2.24   \n",
              "3         51.25         52.94               1.69              2.45   \n",
              "4         56.05         53.21               2.84              2.79   \n",
              "\n",
              "   team2_experience  experience_difference  team1_rating  team2_rating  \\\n",
              "0              2.97                   0.12          20.3          27.3   \n",
              "1              2.85                   1.46          19.5          16.0   \n",
              "2              3.62                   0.01          17.2          23.2   \n",
              "3              2.23                   0.19          17.1          21.5   \n",
              "4              2.63                   1.25          37.6          35.4   \n",
              "\n",
              "   rating_difference  winner  \n",
              "0                7.0       0  \n",
              "1                3.5       1  \n",
              "2                6.0       0  \n",
              "3                4.4       1  \n",
              "4                2.2       1  \n",
              "\n",
              "[5 rows x 26 columns]"
            ],
            "text/html": [
              "\n",
              "  <div id=\"df-1c54e0b8-1a58-4c61-ab67-138ddcb6c352\" class=\"colab-df-container\">\n",
              "    <div>\n",
              "<style scoped>\n",
              "    .dataframe tbody tr th:only-of-type {\n",
              "        vertical-align: middle;\n",
              "    }\n",
              "\n",
              "    .dataframe tbody tr th {\n",
              "        vertical-align: top;\n",
              "    }\n",
              "\n",
              "    .dataframe thead th {\n",
              "        text-align: right;\n",
              "    }\n",
              "</style>\n",
              "<table border=\"1\" class=\"dataframe\">\n",
              "  <thead>\n",
              "    <tr style=\"text-align: right;\">\n",
              "      <th></th>\n",
              "      <th>team1</th>\n",
              "      <th>team1_bpi</th>\n",
              "      <th>team2</th>\n",
              "      <th>team2_bpi</th>\n",
              "      <th>team1_points</th>\n",
              "      <th>team2_points</th>\n",
              "      <th>points_difference</th>\n",
              "      <th>offensive_efficiency_team1</th>\n",
              "      <th>offensive_efficiency_team2</th>\n",
              "      <th>offensive_efficiency_difference</th>\n",
              "      <th>...</th>\n",
              "      <th>team1_efgpct</th>\n",
              "      <th>team2_efgpct</th>\n",
              "      <th>efgpct_difference</th>\n",
              "      <th>team1_experience</th>\n",
              "      <th>team2_experience</th>\n",
              "      <th>experience_difference</th>\n",
              "      <th>team1_rating</th>\n",
              "      <th>team2_rating</th>\n",
              "      <th>rating_difference</th>\n",
              "      <th>winner</th>\n",
              "    </tr>\n",
              "  </thead>\n",
              "  <tbody>\n",
              "    <tr>\n",
              "      <th>0</th>\n",
              "      <td>Baylor Bears</td>\n",
              "      <td>21</td>\n",
              "      <td>Gonzaga Bulldogs</td>\n",
              "      <td>9</td>\n",
              "      <td>63</td>\n",
              "      <td>101</td>\n",
              "      <td>38</td>\n",
              "      <td>121.1</td>\n",
              "      <td>125.2</td>\n",
              "      <td>4.1</td>\n",
              "      <td>...</td>\n",
              "      <td>52.05</td>\n",
              "      <td>56.41</td>\n",
              "      <td>4.36</td>\n",
              "      <td>2.72</td>\n",
              "      <td>2.97</td>\n",
              "      <td>0.12</td>\n",
              "      <td>20.3</td>\n",
              "      <td>27.3</td>\n",
              "      <td>7.0</td>\n",
              "      <td>0</td>\n",
              "    </tr>\n",
              "    <tr>\n",
              "      <th>1</th>\n",
              "      <td>Ohio State Buckeyes</td>\n",
              "      <td>35</td>\n",
              "      <td>Texas Longhorns</td>\n",
              "      <td>34</td>\n",
              "      <td>80</td>\n",
              "      <td>72</td>\n",
              "      <td>8</td>\n",
              "      <td>118.1</td>\n",
              "      <td>116.7</td>\n",
              "      <td>1.4</td>\n",
              "      <td>...</td>\n",
              "      <td>53.70</td>\n",
              "      <td>52.90</td>\n",
              "      <td>0.81</td>\n",
              "      <td>2.16</td>\n",
              "      <td>2.85</td>\n",
              "      <td>1.46</td>\n",
              "      <td>19.5</td>\n",
              "      <td>16.0</td>\n",
              "      <td>3.5</td>\n",
              "      <td>1</td>\n",
              "    </tr>\n",
              "    <tr>\n",
              "      <th>2</th>\n",
              "      <td>North Carolina Tar Heels</td>\n",
              "      <td>27</td>\n",
              "      <td>Kansas Jayhawks</td>\n",
              "      <td>11</td>\n",
              "      <td>89</td>\n",
              "      <td>92</td>\n",
              "      <td>3</td>\n",
              "      <td>119.2</td>\n",
              "      <td>115.4</td>\n",
              "      <td>3.8</td>\n",
              "      <td>...</td>\n",
              "      <td>54.26</td>\n",
              "      <td>53.14</td>\n",
              "      <td>1.12</td>\n",
              "      <td>2.24</td>\n",
              "      <td>3.62</td>\n",
              "      <td>0.01</td>\n",
              "      <td>17.2</td>\n",
              "      <td>23.2</td>\n",
              "      <td>6.0</td>\n",
              "      <td>0</td>\n",
              "    </tr>\n",
              "    <tr>\n",
              "      <th>3</th>\n",
              "      <td>New Mexico Lobos</td>\n",
              "      <td>49</td>\n",
              "      <td>UCLA Bruins</td>\n",
              "      <td>26</td>\n",
              "      <td>72</td>\n",
              "      <td>64</td>\n",
              "      <td>8</td>\n",
              "      <td>113.7</td>\n",
              "      <td>116.5</td>\n",
              "      <td>2.8</td>\n",
              "      <td>...</td>\n",
              "      <td>51.25</td>\n",
              "      <td>52.94</td>\n",
              "      <td>1.69</td>\n",
              "      <td>2.45</td>\n",
              "      <td>2.23</td>\n",
              "      <td>0.19</td>\n",
              "      <td>17.1</td>\n",
              "      <td>21.5</td>\n",
              "      <td>4.4</td>\n",
              "      <td>1</td>\n",
              "    </tr>\n",
              "    <tr>\n",
              "      <th>4</th>\n",
              "      <td>Auburn Tigers</td>\n",
              "      <td>3</td>\n",
              "      <td>Houston Cougars</td>\n",
              "      <td>2</td>\n",
              "      <td>74</td>\n",
              "      <td>69</td>\n",
              "      <td>5</td>\n",
              "      <td>130.7</td>\n",
              "      <td>124.9</td>\n",
              "      <td>5.8</td>\n",
              "      <td>...</td>\n",
              "      <td>56.05</td>\n",
              "      <td>53.21</td>\n",
              "      <td>2.84</td>\n",
              "      <td>2.79</td>\n",
              "      <td>2.63</td>\n",
              "      <td>1.25</td>\n",
              "      <td>37.6</td>\n",
              "      <td>35.4</td>\n",
              "      <td>2.2</td>\n",
              "      <td>1</td>\n",
              "    </tr>\n",
              "  </tbody>\n",
              "</table>\n",
              "<p>5 rows × 26 columns</p>\n",
              "</div>\n",
              "    <div class=\"colab-df-buttons\">\n",
              "\n",
              "  <div class=\"colab-df-container\">\n",
              "    <button class=\"colab-df-convert\" onclick=\"convertToInteractive('df-1c54e0b8-1a58-4c61-ab67-138ddcb6c352')\"\n",
              "            title=\"Convert this dataframe to an interactive table.\"\n",
              "            style=\"display:none;\">\n",
              "\n",
              "  <svg xmlns=\"http://www.w3.org/2000/svg\" height=\"24px\" viewBox=\"0 -960 960 960\">\n",
              "    <path d=\"M120-120v-720h720v720H120Zm60-500h600v-160H180v160Zm220 220h160v-160H400v160Zm0 220h160v-160H400v160ZM180-400h160v-160H180v160Zm440 0h160v-160H620v160ZM180-180h160v-160H180v160Zm440 0h160v-160H620v160Z\"/>\n",
              "  </svg>\n",
              "    </button>\n",
              "\n",
              "  <style>\n",
              "    .colab-df-container {\n",
              "      display:flex;\n",
              "      gap: 12px;\n",
              "    }\n",
              "\n",
              "    .colab-df-convert {\n",
              "      background-color: #E8F0FE;\n",
              "      border: none;\n",
              "      border-radius: 50%;\n",
              "      cursor: pointer;\n",
              "      display: none;\n",
              "      fill: #1967D2;\n",
              "      height: 32px;\n",
              "      padding: 0 0 0 0;\n",
              "      width: 32px;\n",
              "    }\n",
              "\n",
              "    .colab-df-convert:hover {\n",
              "      background-color: #E2EBFA;\n",
              "      box-shadow: 0px 1px 2px rgba(60, 64, 67, 0.3), 0px 1px 3px 1px rgba(60, 64, 67, 0.15);\n",
              "      fill: #174EA6;\n",
              "    }\n",
              "\n",
              "    .colab-df-buttons div {\n",
              "      margin-bottom: 4px;\n",
              "    }\n",
              "\n",
              "    [theme=dark] .colab-df-convert {\n",
              "      background-color: #3B4455;\n",
              "      fill: #D2E3FC;\n",
              "    }\n",
              "\n",
              "    [theme=dark] .colab-df-convert:hover {\n",
              "      background-color: #434B5C;\n",
              "      box-shadow: 0px 1px 3px 1px rgba(0, 0, 0, 0.15);\n",
              "      filter: drop-shadow(0px 1px 2px rgba(0, 0, 0, 0.3));\n",
              "      fill: #FFFFFF;\n",
              "    }\n",
              "  </style>\n",
              "\n",
              "    <script>\n",
              "      const buttonEl =\n",
              "        document.querySelector('#df-1c54e0b8-1a58-4c61-ab67-138ddcb6c352 button.colab-df-convert');\n",
              "      buttonEl.style.display =\n",
              "        google.colab.kernel.accessAllowed ? 'block' : 'none';\n",
              "\n",
              "      async function convertToInteractive(key) {\n",
              "        const element = document.querySelector('#df-1c54e0b8-1a58-4c61-ab67-138ddcb6c352');\n",
              "        const dataTable =\n",
              "          await google.colab.kernel.invokeFunction('convertToInteractive',\n",
              "                                                    [key], {});\n",
              "        if (!dataTable) return;\n",
              "\n",
              "        const docLinkHtml = 'Like what you see? Visit the ' +\n",
              "          '<a target=\"_blank\" href=https://colab.research.google.com/notebooks/data_table.ipynb>data table notebook</a>'\n",
              "          + ' to learn more about interactive tables.';\n",
              "        element.innerHTML = '';\n",
              "        dataTable['output_type'] = 'display_data';\n",
              "        await google.colab.output.renderOutput(dataTable, element);\n",
              "        const docLink = document.createElement('div');\n",
              "        docLink.innerHTML = docLinkHtml;\n",
              "        element.appendChild(docLink);\n",
              "      }\n",
              "    </script>\n",
              "  </div>\n",
              "\n",
              "\n",
              "<div id=\"df-e1aa724b-d450-423b-9cf4-e69780f13662\">\n",
              "  <button class=\"colab-df-quickchart\" onclick=\"quickchart('df-e1aa724b-d450-423b-9cf4-e69780f13662')\"\n",
              "            title=\"Suggest charts\"\n",
              "            style=\"display:none;\">\n",
              "\n",
              "<svg xmlns=\"http://www.w3.org/2000/svg\" height=\"24px\"viewBox=\"0 0 24 24\"\n",
              "     width=\"24px\">\n",
              "    <g>\n",
              "        <path d=\"M19 3H5c-1.1 0-2 .9-2 2v14c0 1.1.9 2 2 2h14c1.1 0 2-.9 2-2V5c0-1.1-.9-2-2-2zM9 17H7v-7h2v7zm4 0h-2V7h2v10zm4 0h-2v-4h2v4z\"/>\n",
              "    </g>\n",
              "</svg>\n",
              "  </button>\n",
              "\n",
              "<style>\n",
              "  .colab-df-quickchart {\n",
              "      --bg-color: #E8F0FE;\n",
              "      --fill-color: #1967D2;\n",
              "      --hover-bg-color: #E2EBFA;\n",
              "      --hover-fill-color: #174EA6;\n",
              "      --disabled-fill-color: #AAA;\n",
              "      --disabled-bg-color: #DDD;\n",
              "  }\n",
              "\n",
              "  [theme=dark] .colab-df-quickchart {\n",
              "      --bg-color: #3B4455;\n",
              "      --fill-color: #D2E3FC;\n",
              "      --hover-bg-color: #434B5C;\n",
              "      --hover-fill-color: #FFFFFF;\n",
              "      --disabled-bg-color: #3B4455;\n",
              "      --disabled-fill-color: #666;\n",
              "  }\n",
              "\n",
              "  .colab-df-quickchart {\n",
              "    background-color: var(--bg-color);\n",
              "    border: none;\n",
              "    border-radius: 50%;\n",
              "    cursor: pointer;\n",
              "    display: none;\n",
              "    fill: var(--fill-color);\n",
              "    height: 32px;\n",
              "    padding: 0;\n",
              "    width: 32px;\n",
              "  }\n",
              "\n",
              "  .colab-df-quickchart:hover {\n",
              "    background-color: var(--hover-bg-color);\n",
              "    box-shadow: 0 1px 2px rgba(60, 64, 67, 0.3), 0 1px 3px 1px rgba(60, 64, 67, 0.15);\n",
              "    fill: var(--button-hover-fill-color);\n",
              "  }\n",
              "\n",
              "  .colab-df-quickchart-complete:disabled,\n",
              "  .colab-df-quickchart-complete:disabled:hover {\n",
              "    background-color: var(--disabled-bg-color);\n",
              "    fill: var(--disabled-fill-color);\n",
              "    box-shadow: none;\n",
              "  }\n",
              "\n",
              "  .colab-df-spinner {\n",
              "    border: 2px solid var(--fill-color);\n",
              "    border-color: transparent;\n",
              "    border-bottom-color: var(--fill-color);\n",
              "    animation:\n",
              "      spin 1s steps(1) infinite;\n",
              "  }\n",
              "\n",
              "  @keyframes spin {\n",
              "    0% {\n",
              "      border-color: transparent;\n",
              "      border-bottom-color: var(--fill-color);\n",
              "      border-left-color: var(--fill-color);\n",
              "    }\n",
              "    20% {\n",
              "      border-color: transparent;\n",
              "      border-left-color: var(--fill-color);\n",
              "      border-top-color: var(--fill-color);\n",
              "    }\n",
              "    30% {\n",
              "      border-color: transparent;\n",
              "      border-left-color: var(--fill-color);\n",
              "      border-top-color: var(--fill-color);\n",
              "      border-right-color: var(--fill-color);\n",
              "    }\n",
              "    40% {\n",
              "      border-color: transparent;\n",
              "      border-right-color: var(--fill-color);\n",
              "      border-top-color: var(--fill-color);\n",
              "    }\n",
              "    60% {\n",
              "      border-color: transparent;\n",
              "      border-right-color: var(--fill-color);\n",
              "    }\n",
              "    80% {\n",
              "      border-color: transparent;\n",
              "      border-right-color: var(--fill-color);\n",
              "      border-bottom-color: var(--fill-color);\n",
              "    }\n",
              "    90% {\n",
              "      border-color: transparent;\n",
              "      border-bottom-color: var(--fill-color);\n",
              "    }\n",
              "  }\n",
              "</style>\n",
              "\n",
              "  <script>\n",
              "    async function quickchart(key) {\n",
              "      const quickchartButtonEl =\n",
              "        document.querySelector('#' + key + ' button');\n",
              "      quickchartButtonEl.disabled = true;  // To prevent multiple clicks.\n",
              "      quickchartButtonEl.classList.add('colab-df-spinner');\n",
              "      try {\n",
              "        const charts = await google.colab.kernel.invokeFunction(\n",
              "            'suggestCharts', [key], {});\n",
              "      } catch (error) {\n",
              "        console.error('Error during call to suggestCharts:', error);\n",
              "      }\n",
              "      quickchartButtonEl.classList.remove('colab-df-spinner');\n",
              "      quickchartButtonEl.classList.add('colab-df-quickchart-complete');\n",
              "    }\n",
              "    (() => {\n",
              "      let quickchartButtonEl =\n",
              "        document.querySelector('#df-e1aa724b-d450-423b-9cf4-e69780f13662 button');\n",
              "      quickchartButtonEl.style.display =\n",
              "        google.colab.kernel.accessAllowed ? 'block' : 'none';\n",
              "    })();\n",
              "  </script>\n",
              "</div>\n",
              "\n",
              "    </div>\n",
              "  </div>\n"
            ],
            "application/vnd.google.colaboratory.intrinsic+json": {
              "type": "dataframe",
              "variable_name": "team_matchups"
            }
          },
          "metadata": {},
          "execution_count": 70
        }
      ]
    },
    {
      "cell_type": "code",
      "execution_count": null,
      "metadata": {
        "colab": {
          "base_uri": "https://localhost:8080/"
        },
        "id": "rVSsmyqoRcDZ",
        "outputId": "a72cc1a4-03b4-496e-a154-5348118ffff9"
      },
      "outputs": [
        {
          "output_type": "stream",
          "name": "stdout",
          "text": [
            "The DataFrame has 358 rows and 26 columns\n"
          ]
        }
      ],
      "source": [
        "n_rows, n_cols = team_matchups.shape\n",
        "print(f\"The DataFrame has {n_rows} rows and {n_cols} columns\")"
      ]
    },
    {
      "cell_type": "code",
      "execution_count": null,
      "metadata": {
        "colab": {
          "base_uri": "https://localhost:8080/"
        },
        "id": "vO4vx-txRcDa",
        "outputId": "bb3ce6b1-598c-41b2-8af0-46beeda7b8ae"
      },
      "outputs": [
        {
          "output_type": "stream",
          "name": "stdout",
          "text": [
            "<class 'pandas.core.frame.DataFrame'>\n",
            "RangeIndex: 358 entries, 0 to 357\n",
            "Data columns (total 26 columns):\n",
            " #   Column                           Non-Null Count  Dtype  \n",
            "---  ------                           --------------  -----  \n",
            " 0   team1                            358 non-null    object \n",
            " 1   team1_bpi                        358 non-null    int64  \n",
            " 2   team2                            358 non-null    object \n",
            " 3   team2_bpi                        358 non-null    int64  \n",
            " 4   team1_points                     358 non-null    int64  \n",
            " 5   team2_points                     358 non-null    int64  \n",
            " 6   points_difference                358 non-null    int64  \n",
            " 7   offensive_efficiency_team1       358 non-null    float64\n",
            " 8   offensive_efficiency_team2       358 non-null    float64\n",
            " 9   offensive_efficiency_difference  358 non-null    float64\n",
            " 10  defensive_efficiency_team1       358 non-null    float64\n",
            " 11  defensive_efficiency_team2       358 non-null    float64\n",
            " 12  defensive_efficiency_difference  358 non-null    float64\n",
            " 13  team1_tempo                      358 non-null    float64\n",
            " 14  team2_tempo                      358 non-null    float64\n",
            " 15  tempo_difference                 358 non-null    float64\n",
            " 16  team1_efgpct                     358 non-null    float64\n",
            " 17  team2_efgpct                     358 non-null    float64\n",
            " 18  efgpct_difference                358 non-null    float64\n",
            " 19  team1_experience                 358 non-null    float64\n",
            " 20  team2_experience                 358 non-null    float64\n",
            " 21  experience_difference            358 non-null    float64\n",
            " 22  team1_rating                     358 non-null    float64\n",
            " 23  team2_rating                     358 non-null    float64\n",
            " 24  rating_difference                358 non-null    float64\n",
            " 25  winner                           358 non-null    int64  \n",
            "dtypes: float64(18), int64(6), object(2)\n",
            "memory usage: 72.8+ KB\n"
          ]
        }
      ],
      "source": [
        "#output of dataset column names, data types & presence of any null values\n",
        "team_matchups.info()"
      ]
    },
    {
      "cell_type": "code",
      "execution_count": null,
      "metadata": {
        "colab": {
          "base_uri": "https://localhost:8080/",
          "height": 350
        },
        "id": "gRhQzQKZRcDa",
        "outputId": "bd4ff0a0-1de6-4c25-de80-28f348ef82bd"
      },
      "outputs": [
        {
          "output_type": "execute_result",
          "data": {
            "text/plain": [
              "        team1_bpi   team2_bpi  team1_points  team2_points  points_difference  \\\n",
              "count  358.000000  358.000000    358.000000    358.000000         358.000000   \n",
              "mean    27.952514   28.536313     73.011173     76.846369          10.832402   \n",
              "std     18.231640   18.704021     11.947358     11.241997           8.423314   \n",
              "min      1.000000    1.000000     36.000000     40.000000           1.000000   \n",
              "25%     12.000000   13.000000     65.250000     69.000000           4.000000   \n",
              "50%     24.500000   25.000000     73.000000     76.000000           8.500000   \n",
              "75%     41.000000   43.000000     80.750000     83.000000          15.000000   \n",
              "max     64.000000   66.000000    110.000000    116.000000          43.000000   \n",
              "\n",
              "       offensive_efficiency_team1  offensive_efficiency_team2  \\\n",
              "count                  358.000000                  358.000000   \n",
              "mean                   119.153631                  119.027654   \n",
              "std                      4.882597                    4.938098   \n",
              "min                    107.100000                  107.100000   \n",
              "25%                    115.900000                  115.900000   \n",
              "50%                    118.400000                  118.400000   \n",
              "75%                    122.400000                  122.400000   \n",
              "max                    130.700000                  130.700000   \n",
              "\n",
              "       offensive_efficiency_difference  defensive_efficiency_team1  \\\n",
              "count                       358.000000                  358.000000   \n",
              "mean                          5.494134                   97.176536   \n",
              "std                           4.182415                    4.154604   \n",
              "min                           0.000000                   87.200000   \n",
              "25%                           2.025000                   95.000000   \n",
              "50%                           4.350000                   97.650000   \n",
              "75%                           8.200000                  100.375000   \n",
              "max                          18.900000                  107.000000   \n",
              "\n",
              "       defensive_efficiency_team2  ...  team1_efgpct  team2_efgpct  \\\n",
              "count                  358.000000  ...    358.000000    358.000000   \n",
              "mean                    97.221229  ...     53.474246     53.388101   \n",
              "std                      4.209459  ...      2.241590      2.291111   \n",
              "min                     87.200000  ...     47.580000     47.580000   \n",
              "25%                     95.000000  ...     52.130000     52.130000   \n",
              "50%                     97.400000  ...     53.210000     53.210000   \n",
              "75%                    100.400000  ...     55.360000     55.080000   \n",
              "max                    107.000000  ...     57.790000     57.790000   \n",
              "\n",
              "       efgpct_difference  team1_experience  team2_experience  \\\n",
              "count         358.000000        358.000000        358.000000   \n",
              "mean            2.702793          2.467765          2.443296   \n",
              "std             1.919576          0.537955          0.508252   \n",
              "min             0.000000          1.070000          1.070000   \n",
              "25%             1.272500          2.140000          2.140000   \n",
              "50%             2.335000          2.510000          2.510000   \n",
              "75%             3.900000          2.820000          2.790000   \n",
              "max            10.210000          3.620000          3.620000   \n",
              "\n",
              "       experience_difference  team1_rating  team2_rating  rating_difference  \\\n",
              "count             358.000000    358.000000    358.000000         358.000000   \n",
              "mean                0.599972     21.991899     21.852793           7.780447   \n",
              "std                 0.435270      6.509903      6.712965           5.432907   \n",
              "min                 0.000000      9.700000      9.700000           0.000000   \n",
              "25%                 0.250000     16.600000     16.600000           3.500000   \n",
              "50%                 0.530000     22.100000     22.100000           6.950000   \n",
              "75%                 0.827500     25.650000     25.200000          11.000000   \n",
              "max                 2.390000     39.100000     39.100000          25.700000   \n",
              "\n",
              "           winner  \n",
              "count  358.000000  \n",
              "mean     0.405028  \n",
              "std      0.491585  \n",
              "min      0.000000  \n",
              "25%      0.000000  \n",
              "50%      0.000000  \n",
              "75%      1.000000  \n",
              "max      1.000000  \n",
              "\n",
              "[8 rows x 24 columns]"
            ],
            "text/html": [
              "\n",
              "  <div id=\"df-b7350a07-0ad1-4eae-8e56-daab1c724bcd\" class=\"colab-df-container\">\n",
              "    <div>\n",
              "<style scoped>\n",
              "    .dataframe tbody tr th:only-of-type {\n",
              "        vertical-align: middle;\n",
              "    }\n",
              "\n",
              "    .dataframe tbody tr th {\n",
              "        vertical-align: top;\n",
              "    }\n",
              "\n",
              "    .dataframe thead th {\n",
              "        text-align: right;\n",
              "    }\n",
              "</style>\n",
              "<table border=\"1\" class=\"dataframe\">\n",
              "  <thead>\n",
              "    <tr style=\"text-align: right;\">\n",
              "      <th></th>\n",
              "      <th>team1_bpi</th>\n",
              "      <th>team2_bpi</th>\n",
              "      <th>team1_points</th>\n",
              "      <th>team2_points</th>\n",
              "      <th>points_difference</th>\n",
              "      <th>offensive_efficiency_team1</th>\n",
              "      <th>offensive_efficiency_team2</th>\n",
              "      <th>offensive_efficiency_difference</th>\n",
              "      <th>defensive_efficiency_team1</th>\n",
              "      <th>defensive_efficiency_team2</th>\n",
              "      <th>...</th>\n",
              "      <th>team1_efgpct</th>\n",
              "      <th>team2_efgpct</th>\n",
              "      <th>efgpct_difference</th>\n",
              "      <th>team1_experience</th>\n",
              "      <th>team2_experience</th>\n",
              "      <th>experience_difference</th>\n",
              "      <th>team1_rating</th>\n",
              "      <th>team2_rating</th>\n",
              "      <th>rating_difference</th>\n",
              "      <th>winner</th>\n",
              "    </tr>\n",
              "  </thead>\n",
              "  <tbody>\n",
              "    <tr>\n",
              "      <th>count</th>\n",
              "      <td>358.000000</td>\n",
              "      <td>358.000000</td>\n",
              "      <td>358.000000</td>\n",
              "      <td>358.000000</td>\n",
              "      <td>358.000000</td>\n",
              "      <td>358.000000</td>\n",
              "      <td>358.000000</td>\n",
              "      <td>358.000000</td>\n",
              "      <td>358.000000</td>\n",
              "      <td>358.000000</td>\n",
              "      <td>...</td>\n",
              "      <td>358.000000</td>\n",
              "      <td>358.000000</td>\n",
              "      <td>358.000000</td>\n",
              "      <td>358.000000</td>\n",
              "      <td>358.000000</td>\n",
              "      <td>358.000000</td>\n",
              "      <td>358.000000</td>\n",
              "      <td>358.000000</td>\n",
              "      <td>358.000000</td>\n",
              "      <td>358.000000</td>\n",
              "    </tr>\n",
              "    <tr>\n",
              "      <th>mean</th>\n",
              "      <td>27.952514</td>\n",
              "      <td>28.536313</td>\n",
              "      <td>73.011173</td>\n",
              "      <td>76.846369</td>\n",
              "      <td>10.832402</td>\n",
              "      <td>119.153631</td>\n",
              "      <td>119.027654</td>\n",
              "      <td>5.494134</td>\n",
              "      <td>97.176536</td>\n",
              "      <td>97.221229</td>\n",
              "      <td>...</td>\n",
              "      <td>53.474246</td>\n",
              "      <td>53.388101</td>\n",
              "      <td>2.702793</td>\n",
              "      <td>2.467765</td>\n",
              "      <td>2.443296</td>\n",
              "      <td>0.599972</td>\n",
              "      <td>21.991899</td>\n",
              "      <td>21.852793</td>\n",
              "      <td>7.780447</td>\n",
              "      <td>0.405028</td>\n",
              "    </tr>\n",
              "    <tr>\n",
              "      <th>std</th>\n",
              "      <td>18.231640</td>\n",
              "      <td>18.704021</td>\n",
              "      <td>11.947358</td>\n",
              "      <td>11.241997</td>\n",
              "      <td>8.423314</td>\n",
              "      <td>4.882597</td>\n",
              "      <td>4.938098</td>\n",
              "      <td>4.182415</td>\n",
              "      <td>4.154604</td>\n",
              "      <td>4.209459</td>\n",
              "      <td>...</td>\n",
              "      <td>2.241590</td>\n",
              "      <td>2.291111</td>\n",
              "      <td>1.919576</td>\n",
              "      <td>0.537955</td>\n",
              "      <td>0.508252</td>\n",
              "      <td>0.435270</td>\n",
              "      <td>6.509903</td>\n",
              "      <td>6.712965</td>\n",
              "      <td>5.432907</td>\n",
              "      <td>0.491585</td>\n",
              "    </tr>\n",
              "    <tr>\n",
              "      <th>min</th>\n",
              "      <td>1.000000</td>\n",
              "      <td>1.000000</td>\n",
              "      <td>36.000000</td>\n",
              "      <td>40.000000</td>\n",
              "      <td>1.000000</td>\n",
              "      <td>107.100000</td>\n",
              "      <td>107.100000</td>\n",
              "      <td>0.000000</td>\n",
              "      <td>87.200000</td>\n",
              "      <td>87.200000</td>\n",
              "      <td>...</td>\n",
              "      <td>47.580000</td>\n",
              "      <td>47.580000</td>\n",
              "      <td>0.000000</td>\n",
              "      <td>1.070000</td>\n",
              "      <td>1.070000</td>\n",
              "      <td>0.000000</td>\n",
              "      <td>9.700000</td>\n",
              "      <td>9.700000</td>\n",
              "      <td>0.000000</td>\n",
              "      <td>0.000000</td>\n",
              "    </tr>\n",
              "    <tr>\n",
              "      <th>25%</th>\n",
              "      <td>12.000000</td>\n",
              "      <td>13.000000</td>\n",
              "      <td>65.250000</td>\n",
              "      <td>69.000000</td>\n",
              "      <td>4.000000</td>\n",
              "      <td>115.900000</td>\n",
              "      <td>115.900000</td>\n",
              "      <td>2.025000</td>\n",
              "      <td>95.000000</td>\n",
              "      <td>95.000000</td>\n",
              "      <td>...</td>\n",
              "      <td>52.130000</td>\n",
              "      <td>52.130000</td>\n",
              "      <td>1.272500</td>\n",
              "      <td>2.140000</td>\n",
              "      <td>2.140000</td>\n",
              "      <td>0.250000</td>\n",
              "      <td>16.600000</td>\n",
              "      <td>16.600000</td>\n",
              "      <td>3.500000</td>\n",
              "      <td>0.000000</td>\n",
              "    </tr>\n",
              "    <tr>\n",
              "      <th>50%</th>\n",
              "      <td>24.500000</td>\n",
              "      <td>25.000000</td>\n",
              "      <td>73.000000</td>\n",
              "      <td>76.000000</td>\n",
              "      <td>8.500000</td>\n",
              "      <td>118.400000</td>\n",
              "      <td>118.400000</td>\n",
              "      <td>4.350000</td>\n",
              "      <td>97.650000</td>\n",
              "      <td>97.400000</td>\n",
              "      <td>...</td>\n",
              "      <td>53.210000</td>\n",
              "      <td>53.210000</td>\n",
              "      <td>2.335000</td>\n",
              "      <td>2.510000</td>\n",
              "      <td>2.510000</td>\n",
              "      <td>0.530000</td>\n",
              "      <td>22.100000</td>\n",
              "      <td>22.100000</td>\n",
              "      <td>6.950000</td>\n",
              "      <td>0.000000</td>\n",
              "    </tr>\n",
              "    <tr>\n",
              "      <th>75%</th>\n",
              "      <td>41.000000</td>\n",
              "      <td>43.000000</td>\n",
              "      <td>80.750000</td>\n",
              "      <td>83.000000</td>\n",
              "      <td>15.000000</td>\n",
              "      <td>122.400000</td>\n",
              "      <td>122.400000</td>\n",
              "      <td>8.200000</td>\n",
              "      <td>100.375000</td>\n",
              "      <td>100.400000</td>\n",
              "      <td>...</td>\n",
              "      <td>55.360000</td>\n",
              "      <td>55.080000</td>\n",
              "      <td>3.900000</td>\n",
              "      <td>2.820000</td>\n",
              "      <td>2.790000</td>\n",
              "      <td>0.827500</td>\n",
              "      <td>25.650000</td>\n",
              "      <td>25.200000</td>\n",
              "      <td>11.000000</td>\n",
              "      <td>1.000000</td>\n",
              "    </tr>\n",
              "    <tr>\n",
              "      <th>max</th>\n",
              "      <td>64.000000</td>\n",
              "      <td>66.000000</td>\n",
              "      <td>110.000000</td>\n",
              "      <td>116.000000</td>\n",
              "      <td>43.000000</td>\n",
              "      <td>130.700000</td>\n",
              "      <td>130.700000</td>\n",
              "      <td>18.900000</td>\n",
              "      <td>107.000000</td>\n",
              "      <td>107.000000</td>\n",
              "      <td>...</td>\n",
              "      <td>57.790000</td>\n",
              "      <td>57.790000</td>\n",
              "      <td>10.210000</td>\n",
              "      <td>3.620000</td>\n",
              "      <td>3.620000</td>\n",
              "      <td>2.390000</td>\n",
              "      <td>39.100000</td>\n",
              "      <td>39.100000</td>\n",
              "      <td>25.700000</td>\n",
              "      <td>1.000000</td>\n",
              "    </tr>\n",
              "  </tbody>\n",
              "</table>\n",
              "<p>8 rows × 24 columns</p>\n",
              "</div>\n",
              "    <div class=\"colab-df-buttons\">\n",
              "\n",
              "  <div class=\"colab-df-container\">\n",
              "    <button class=\"colab-df-convert\" onclick=\"convertToInteractive('df-b7350a07-0ad1-4eae-8e56-daab1c724bcd')\"\n",
              "            title=\"Convert this dataframe to an interactive table.\"\n",
              "            style=\"display:none;\">\n",
              "\n",
              "  <svg xmlns=\"http://www.w3.org/2000/svg\" height=\"24px\" viewBox=\"0 -960 960 960\">\n",
              "    <path d=\"M120-120v-720h720v720H120Zm60-500h600v-160H180v160Zm220 220h160v-160H400v160Zm0 220h160v-160H400v160ZM180-400h160v-160H180v160Zm440 0h160v-160H620v160ZM180-180h160v-160H180v160Zm440 0h160v-160H620v160Z\"/>\n",
              "  </svg>\n",
              "    </button>\n",
              "\n",
              "  <style>\n",
              "    .colab-df-container {\n",
              "      display:flex;\n",
              "      gap: 12px;\n",
              "    }\n",
              "\n",
              "    .colab-df-convert {\n",
              "      background-color: #E8F0FE;\n",
              "      border: none;\n",
              "      border-radius: 50%;\n",
              "      cursor: pointer;\n",
              "      display: none;\n",
              "      fill: #1967D2;\n",
              "      height: 32px;\n",
              "      padding: 0 0 0 0;\n",
              "      width: 32px;\n",
              "    }\n",
              "\n",
              "    .colab-df-convert:hover {\n",
              "      background-color: #E2EBFA;\n",
              "      box-shadow: 0px 1px 2px rgba(60, 64, 67, 0.3), 0px 1px 3px 1px rgba(60, 64, 67, 0.15);\n",
              "      fill: #174EA6;\n",
              "    }\n",
              "\n",
              "    .colab-df-buttons div {\n",
              "      margin-bottom: 4px;\n",
              "    }\n",
              "\n",
              "    [theme=dark] .colab-df-convert {\n",
              "      background-color: #3B4455;\n",
              "      fill: #D2E3FC;\n",
              "    }\n",
              "\n",
              "    [theme=dark] .colab-df-convert:hover {\n",
              "      background-color: #434B5C;\n",
              "      box-shadow: 0px 1px 3px 1px rgba(0, 0, 0, 0.15);\n",
              "      filter: drop-shadow(0px 1px 2px rgba(0, 0, 0, 0.3));\n",
              "      fill: #FFFFFF;\n",
              "    }\n",
              "  </style>\n",
              "\n",
              "    <script>\n",
              "      const buttonEl =\n",
              "        document.querySelector('#df-b7350a07-0ad1-4eae-8e56-daab1c724bcd button.colab-df-convert');\n",
              "      buttonEl.style.display =\n",
              "        google.colab.kernel.accessAllowed ? 'block' : 'none';\n",
              "\n",
              "      async function convertToInteractive(key) {\n",
              "        const element = document.querySelector('#df-b7350a07-0ad1-4eae-8e56-daab1c724bcd');\n",
              "        const dataTable =\n",
              "          await google.colab.kernel.invokeFunction('convertToInteractive',\n",
              "                                                    [key], {});\n",
              "        if (!dataTable) return;\n",
              "\n",
              "        const docLinkHtml = 'Like what you see? Visit the ' +\n",
              "          '<a target=\"_blank\" href=https://colab.research.google.com/notebooks/data_table.ipynb>data table notebook</a>'\n",
              "          + ' to learn more about interactive tables.';\n",
              "        element.innerHTML = '';\n",
              "        dataTable['output_type'] = 'display_data';\n",
              "        await google.colab.output.renderOutput(dataTable, element);\n",
              "        const docLink = document.createElement('div');\n",
              "        docLink.innerHTML = docLinkHtml;\n",
              "        element.appendChild(docLink);\n",
              "      }\n",
              "    </script>\n",
              "  </div>\n",
              "\n",
              "\n",
              "<div id=\"df-d690a090-4cc8-4d83-abcd-78549cab51d6\">\n",
              "  <button class=\"colab-df-quickchart\" onclick=\"quickchart('df-d690a090-4cc8-4d83-abcd-78549cab51d6')\"\n",
              "            title=\"Suggest charts\"\n",
              "            style=\"display:none;\">\n",
              "\n",
              "<svg xmlns=\"http://www.w3.org/2000/svg\" height=\"24px\"viewBox=\"0 0 24 24\"\n",
              "     width=\"24px\">\n",
              "    <g>\n",
              "        <path d=\"M19 3H5c-1.1 0-2 .9-2 2v14c0 1.1.9 2 2 2h14c1.1 0 2-.9 2-2V5c0-1.1-.9-2-2-2zM9 17H7v-7h2v7zm4 0h-2V7h2v10zm4 0h-2v-4h2v4z\"/>\n",
              "    </g>\n",
              "</svg>\n",
              "  </button>\n",
              "\n",
              "<style>\n",
              "  .colab-df-quickchart {\n",
              "      --bg-color: #E8F0FE;\n",
              "      --fill-color: #1967D2;\n",
              "      --hover-bg-color: #E2EBFA;\n",
              "      --hover-fill-color: #174EA6;\n",
              "      --disabled-fill-color: #AAA;\n",
              "      --disabled-bg-color: #DDD;\n",
              "  }\n",
              "\n",
              "  [theme=dark] .colab-df-quickchart {\n",
              "      --bg-color: #3B4455;\n",
              "      --fill-color: #D2E3FC;\n",
              "      --hover-bg-color: #434B5C;\n",
              "      --hover-fill-color: #FFFFFF;\n",
              "      --disabled-bg-color: #3B4455;\n",
              "      --disabled-fill-color: #666;\n",
              "  }\n",
              "\n",
              "  .colab-df-quickchart {\n",
              "    background-color: var(--bg-color);\n",
              "    border: none;\n",
              "    border-radius: 50%;\n",
              "    cursor: pointer;\n",
              "    display: none;\n",
              "    fill: var(--fill-color);\n",
              "    height: 32px;\n",
              "    padding: 0;\n",
              "    width: 32px;\n",
              "  }\n",
              "\n",
              "  .colab-df-quickchart:hover {\n",
              "    background-color: var(--hover-bg-color);\n",
              "    box-shadow: 0 1px 2px rgba(60, 64, 67, 0.3), 0 1px 3px 1px rgba(60, 64, 67, 0.15);\n",
              "    fill: var(--button-hover-fill-color);\n",
              "  }\n",
              "\n",
              "  .colab-df-quickchart-complete:disabled,\n",
              "  .colab-df-quickchart-complete:disabled:hover {\n",
              "    background-color: var(--disabled-bg-color);\n",
              "    fill: var(--disabled-fill-color);\n",
              "    box-shadow: none;\n",
              "  }\n",
              "\n",
              "  .colab-df-spinner {\n",
              "    border: 2px solid var(--fill-color);\n",
              "    border-color: transparent;\n",
              "    border-bottom-color: var(--fill-color);\n",
              "    animation:\n",
              "      spin 1s steps(1) infinite;\n",
              "  }\n",
              "\n",
              "  @keyframes spin {\n",
              "    0% {\n",
              "      border-color: transparent;\n",
              "      border-bottom-color: var(--fill-color);\n",
              "      border-left-color: var(--fill-color);\n",
              "    }\n",
              "    20% {\n",
              "      border-color: transparent;\n",
              "      border-left-color: var(--fill-color);\n",
              "      border-top-color: var(--fill-color);\n",
              "    }\n",
              "    30% {\n",
              "      border-color: transparent;\n",
              "      border-left-color: var(--fill-color);\n",
              "      border-top-color: var(--fill-color);\n",
              "      border-right-color: var(--fill-color);\n",
              "    }\n",
              "    40% {\n",
              "      border-color: transparent;\n",
              "      border-right-color: var(--fill-color);\n",
              "      border-top-color: var(--fill-color);\n",
              "    }\n",
              "    60% {\n",
              "      border-color: transparent;\n",
              "      border-right-color: var(--fill-color);\n",
              "    }\n",
              "    80% {\n",
              "      border-color: transparent;\n",
              "      border-right-color: var(--fill-color);\n",
              "      border-bottom-color: var(--fill-color);\n",
              "    }\n",
              "    90% {\n",
              "      border-color: transparent;\n",
              "      border-bottom-color: var(--fill-color);\n",
              "    }\n",
              "  }\n",
              "</style>\n",
              "\n",
              "  <script>\n",
              "    async function quickchart(key) {\n",
              "      const quickchartButtonEl =\n",
              "        document.querySelector('#' + key + ' button');\n",
              "      quickchartButtonEl.disabled = true;  // To prevent multiple clicks.\n",
              "      quickchartButtonEl.classList.add('colab-df-spinner');\n",
              "      try {\n",
              "        const charts = await google.colab.kernel.invokeFunction(\n",
              "            'suggestCharts', [key], {});\n",
              "      } catch (error) {\n",
              "        console.error('Error during call to suggestCharts:', error);\n",
              "      }\n",
              "      quickchartButtonEl.classList.remove('colab-df-spinner');\n",
              "      quickchartButtonEl.classList.add('colab-df-quickchart-complete');\n",
              "    }\n",
              "    (() => {\n",
              "      let quickchartButtonEl =\n",
              "        document.querySelector('#df-d690a090-4cc8-4d83-abcd-78549cab51d6 button');\n",
              "      quickchartButtonEl.style.display =\n",
              "        google.colab.kernel.accessAllowed ? 'block' : 'none';\n",
              "    })();\n",
              "  </script>\n",
              "</div>\n",
              "\n",
              "    </div>\n",
              "  </div>\n"
            ],
            "application/vnd.google.colaboratory.intrinsic+json": {
              "type": "dataframe"
            }
          },
          "metadata": {},
          "execution_count": 73
        }
      ],
      "source": [
        "team_matchups.describe()"
      ]
    },
    {
      "cell_type": "markdown",
      "metadata": {
        "id": "IFccFGyaRcDa"
      },
      "source": [
        "### Duplicates"
      ]
    },
    {
      "cell_type": "code",
      "execution_count": null,
      "metadata": {
        "colab": {
          "base_uri": "https://localhost:8080/",
          "height": 35
        },
        "id": "nwYKmCe1RcDa",
        "outputId": "6f13f748-ed13-46bb-b52c-5b7394d252ad"
      },
      "outputs": [
        {
          "output_type": "display_data",
          "data": {
            "text/plain": [
              "'Number of duplicated data: 1'"
            ],
            "application/vnd.google.colaboratory.intrinsic+json": {
              "type": "string"
            }
          },
          "metadata": {}
        }
      ],
      "source": [
        "duplicates = team_matchups[team_matchups.duplicated()]\n",
        "display(f\"Number of duplicated data: {duplicates.shape[0]}\")"
      ]
    },
    {
      "cell_type": "code",
      "execution_count": null,
      "metadata": {
        "colab": {
          "base_uri": "https://localhost:8080/",
          "height": 147
        },
        "id": "mppyQ1sKRcDa",
        "outputId": "a8ba66fa-d13c-4e7a-9923-eb44b42b0a26"
      },
      "outputs": [
        {
          "output_type": "display_data",
          "data": {
            "text/plain": [
              "          team1  team1_bpi             team2  team2_bpi  team1_points  \\\n",
              "84  UCLA Bruins         26  Arizona Wildcats         10            57   \n",
              "\n",
              "    team2_points  points_difference  offensive_efficiency_team1  \\\n",
              "84            54                  3                       116.5   \n",
              "\n",
              "    offensive_efficiency_team2  offensive_efficiency_difference  ...  \\\n",
              "84                       120.2                              3.7  ...   \n",
              "\n",
              "    team1_efgpct  team2_efgpct  efgpct_difference  team1_experience  \\\n",
              "84         52.94         52.14                0.8              2.23   \n",
              "\n",
              "    team2_experience  experience_difference  team1_rating  team2_rating  \\\n",
              "84              2.72                   0.49          21.5          25.2   \n",
              "\n",
              "    rating_difference  winner  \n",
              "84                3.7       1  \n",
              "\n",
              "[1 rows x 26 columns]"
            ],
            "text/html": [
              "\n",
              "  <div id=\"df-cf62f2c3-0f21-438e-9557-112940065fb2\" class=\"colab-df-container\">\n",
              "    <div>\n",
              "<style scoped>\n",
              "    .dataframe tbody tr th:only-of-type {\n",
              "        vertical-align: middle;\n",
              "    }\n",
              "\n",
              "    .dataframe tbody tr th {\n",
              "        vertical-align: top;\n",
              "    }\n",
              "\n",
              "    .dataframe thead th {\n",
              "        text-align: right;\n",
              "    }\n",
              "</style>\n",
              "<table border=\"1\" class=\"dataframe\">\n",
              "  <thead>\n",
              "    <tr style=\"text-align: right;\">\n",
              "      <th></th>\n",
              "      <th>team1</th>\n",
              "      <th>team1_bpi</th>\n",
              "      <th>team2</th>\n",
              "      <th>team2_bpi</th>\n",
              "      <th>team1_points</th>\n",
              "      <th>team2_points</th>\n",
              "      <th>points_difference</th>\n",
              "      <th>offensive_efficiency_team1</th>\n",
              "      <th>offensive_efficiency_team2</th>\n",
              "      <th>offensive_efficiency_difference</th>\n",
              "      <th>...</th>\n",
              "      <th>team1_efgpct</th>\n",
              "      <th>team2_efgpct</th>\n",
              "      <th>efgpct_difference</th>\n",
              "      <th>team1_experience</th>\n",
              "      <th>team2_experience</th>\n",
              "      <th>experience_difference</th>\n",
              "      <th>team1_rating</th>\n",
              "      <th>team2_rating</th>\n",
              "      <th>rating_difference</th>\n",
              "      <th>winner</th>\n",
              "    </tr>\n",
              "  </thead>\n",
              "  <tbody>\n",
              "    <tr>\n",
              "      <th>84</th>\n",
              "      <td>UCLA Bruins</td>\n",
              "      <td>26</td>\n",
              "      <td>Arizona Wildcats</td>\n",
              "      <td>10</td>\n",
              "      <td>57</td>\n",
              "      <td>54</td>\n",
              "      <td>3</td>\n",
              "      <td>116.5</td>\n",
              "      <td>120.2</td>\n",
              "      <td>3.7</td>\n",
              "      <td>...</td>\n",
              "      <td>52.94</td>\n",
              "      <td>52.14</td>\n",
              "      <td>0.8</td>\n",
              "      <td>2.23</td>\n",
              "      <td>2.72</td>\n",
              "      <td>0.49</td>\n",
              "      <td>21.5</td>\n",
              "      <td>25.2</td>\n",
              "      <td>3.7</td>\n",
              "      <td>1</td>\n",
              "    </tr>\n",
              "  </tbody>\n",
              "</table>\n",
              "<p>1 rows × 26 columns</p>\n",
              "</div>\n",
              "    <div class=\"colab-df-buttons\">\n",
              "\n",
              "  <div class=\"colab-df-container\">\n",
              "    <button class=\"colab-df-convert\" onclick=\"convertToInteractive('df-cf62f2c3-0f21-438e-9557-112940065fb2')\"\n",
              "            title=\"Convert this dataframe to an interactive table.\"\n",
              "            style=\"display:none;\">\n",
              "\n",
              "  <svg xmlns=\"http://www.w3.org/2000/svg\" height=\"24px\" viewBox=\"0 -960 960 960\">\n",
              "    <path d=\"M120-120v-720h720v720H120Zm60-500h600v-160H180v160Zm220 220h160v-160H400v160Zm0 220h160v-160H400v160ZM180-400h160v-160H180v160Zm440 0h160v-160H620v160ZM180-180h160v-160H180v160Zm440 0h160v-160H620v160Z\"/>\n",
              "  </svg>\n",
              "    </button>\n",
              "\n",
              "  <style>\n",
              "    .colab-df-container {\n",
              "      display:flex;\n",
              "      gap: 12px;\n",
              "    }\n",
              "\n",
              "    .colab-df-convert {\n",
              "      background-color: #E8F0FE;\n",
              "      border: none;\n",
              "      border-radius: 50%;\n",
              "      cursor: pointer;\n",
              "      display: none;\n",
              "      fill: #1967D2;\n",
              "      height: 32px;\n",
              "      padding: 0 0 0 0;\n",
              "      width: 32px;\n",
              "    }\n",
              "\n",
              "    .colab-df-convert:hover {\n",
              "      background-color: #E2EBFA;\n",
              "      box-shadow: 0px 1px 2px rgba(60, 64, 67, 0.3), 0px 1px 3px 1px rgba(60, 64, 67, 0.15);\n",
              "      fill: #174EA6;\n",
              "    }\n",
              "\n",
              "    .colab-df-buttons div {\n",
              "      margin-bottom: 4px;\n",
              "    }\n",
              "\n",
              "    [theme=dark] .colab-df-convert {\n",
              "      background-color: #3B4455;\n",
              "      fill: #D2E3FC;\n",
              "    }\n",
              "\n",
              "    [theme=dark] .colab-df-convert:hover {\n",
              "      background-color: #434B5C;\n",
              "      box-shadow: 0px 1px 3px 1px rgba(0, 0, 0, 0.15);\n",
              "      filter: drop-shadow(0px 1px 2px rgba(0, 0, 0, 0.3));\n",
              "      fill: #FFFFFF;\n",
              "    }\n",
              "  </style>\n",
              "\n",
              "    <script>\n",
              "      const buttonEl =\n",
              "        document.querySelector('#df-cf62f2c3-0f21-438e-9557-112940065fb2 button.colab-df-convert');\n",
              "      buttonEl.style.display =\n",
              "        google.colab.kernel.accessAllowed ? 'block' : 'none';\n",
              "\n",
              "      async function convertToInteractive(key) {\n",
              "        const element = document.querySelector('#df-cf62f2c3-0f21-438e-9557-112940065fb2');\n",
              "        const dataTable =\n",
              "          await google.colab.kernel.invokeFunction('convertToInteractive',\n",
              "                                                    [key], {});\n",
              "        if (!dataTable) return;\n",
              "\n",
              "        const docLinkHtml = 'Like what you see? Visit the ' +\n",
              "          '<a target=\"_blank\" href=https://colab.research.google.com/notebooks/data_table.ipynb>data table notebook</a>'\n",
              "          + ' to learn more about interactive tables.';\n",
              "        element.innerHTML = '';\n",
              "        dataTable['output_type'] = 'display_data';\n",
              "        await google.colab.output.renderOutput(dataTable, element);\n",
              "        const docLink = document.createElement('div');\n",
              "        docLink.innerHTML = docLinkHtml;\n",
              "        element.appendChild(docLink);\n",
              "      }\n",
              "    </script>\n",
              "  </div>\n",
              "\n",
              "\n",
              "  <div id=\"id_c4575cc6-73b0-4f11-9bce-31a167a70f77\">\n",
              "    <style>\n",
              "      .colab-df-generate {\n",
              "        background-color: #E8F0FE;\n",
              "        border: none;\n",
              "        border-radius: 50%;\n",
              "        cursor: pointer;\n",
              "        display: none;\n",
              "        fill: #1967D2;\n",
              "        height: 32px;\n",
              "        padding: 0 0 0 0;\n",
              "        width: 32px;\n",
              "      }\n",
              "\n",
              "      .colab-df-generate:hover {\n",
              "        background-color: #E2EBFA;\n",
              "        box-shadow: 0px 1px 2px rgba(60, 64, 67, 0.3), 0px 1px 3px 1px rgba(60, 64, 67, 0.15);\n",
              "        fill: #174EA6;\n",
              "      }\n",
              "\n",
              "      [theme=dark] .colab-df-generate {\n",
              "        background-color: #3B4455;\n",
              "        fill: #D2E3FC;\n",
              "      }\n",
              "\n",
              "      [theme=dark] .colab-df-generate:hover {\n",
              "        background-color: #434B5C;\n",
              "        box-shadow: 0px 1px 3px 1px rgba(0, 0, 0, 0.15);\n",
              "        filter: drop-shadow(0px 1px 2px rgba(0, 0, 0, 0.3));\n",
              "        fill: #FFFFFF;\n",
              "      }\n",
              "    </style>\n",
              "    <button class=\"colab-df-generate\" onclick=\"generateWithVariable('duplicates')\"\n",
              "            title=\"Generate code using this dataframe.\"\n",
              "            style=\"display:none;\">\n",
              "\n",
              "  <svg xmlns=\"http://www.w3.org/2000/svg\" height=\"24px\"viewBox=\"0 0 24 24\"\n",
              "       width=\"24px\">\n",
              "    <path d=\"M7,19H8.4L18.45,9,17,7.55,7,17.6ZM5,21V16.75L18.45,3.32a2,2,0,0,1,2.83,0l1.4,1.43a1.91,1.91,0,0,1,.58,1.4,1.91,1.91,0,0,1-.58,1.4L9.25,21ZM18.45,9,17,7.55Zm-12,3A5.31,5.31,0,0,0,4.9,8.1,5.31,5.31,0,0,0,1,6.5,5.31,5.31,0,0,0,4.9,4.9,5.31,5.31,0,0,0,6.5,1,5.31,5.31,0,0,0,8.1,4.9,5.31,5.31,0,0,0,12,6.5,5.46,5.46,0,0,0,6.5,12Z\"/>\n",
              "  </svg>\n",
              "    </button>\n",
              "    <script>\n",
              "      (() => {\n",
              "      const buttonEl =\n",
              "        document.querySelector('#id_c4575cc6-73b0-4f11-9bce-31a167a70f77 button.colab-df-generate');\n",
              "      buttonEl.style.display =\n",
              "        google.colab.kernel.accessAllowed ? 'block' : 'none';\n",
              "\n",
              "      buttonEl.onclick = () => {\n",
              "        google.colab.notebook.generateWithVariable('duplicates');\n",
              "      }\n",
              "      })();\n",
              "    </script>\n",
              "  </div>\n",
              "\n",
              "    </div>\n",
              "  </div>\n"
            ],
            "application/vnd.google.colaboratory.intrinsic+json": {
              "type": "dataframe",
              "variable_name": "duplicates"
            }
          },
          "metadata": {}
        }
      ],
      "source": [
        "display(duplicates)"
      ]
    },
    {
      "cell_type": "code",
      "execution_count": null,
      "metadata": {
        "id": "RLY8cTNfRcDb"
      },
      "outputs": [],
      "source": [
        "team_matchups = team_matchups.drop_duplicates()"
      ]
    },
    {
      "cell_type": "code",
      "execution_count": null,
      "metadata": {
        "colab": {
          "base_uri": "https://localhost:8080/",
          "height": 35
        },
        "id": "orpIfTK2RcDb",
        "outputId": "3f5672d2-5e20-450f-c558-fa370406bb2d"
      },
      "outputs": [
        {
          "output_type": "display_data",
          "data": {
            "text/plain": [
              "'Number of duplicated data: 0'"
            ],
            "application/vnd.google.colaboratory.intrinsic+json": {
              "type": "string"
            }
          },
          "metadata": {}
        }
      ],
      "source": [
        "duplicates = team_matchups[team_matchups.duplicated()]\n",
        "display(f\"Number of duplicated data: {duplicates.shape[0]}\")"
      ]
    },
    {
      "cell_type": "markdown",
      "metadata": {
        "id": "CFRp7wAuRcDb"
      },
      "source": [
        "## Exploratory Data Analysis"
      ]
    },
    {
      "cell_type": "code",
      "execution_count": null,
      "metadata": {
        "colab": {
          "base_uri": "https://localhost:8080/",
          "height": 472
        },
        "id": "hd6y6OJORcDb",
        "outputId": "ed180e6b-82d4-456a-dca2-daaed96cf499"
      },
      "outputs": [
        {
          "output_type": "display_data",
          "data": {
            "text/plain": [
              "<Figure size 640x480 with 1 Axes>"
            ],
            "image/png": "[encoded data removed]"
          },
          "metadata": {}
        }
      ],
      "source": [
        "# Plot target variable distribution\n",
        "team_matchups['winner'].value_counts().plot(kind='bar', color=['blue', 'red'])\n",
        "\n",
        "plt.title(\"Distribution of Wins vs. Losses\")\n",
        "plt.xlabel(\"Winner (1=Win, 0=Loss)\")\n",
        "plt.ylabel(\"Count\")\n",
        "plt.xticks(ticks=[0,1], labels=['Loss', 'Win'], rotation=0)\n",
        "plt.show()\n"
      ]
    },
    {
      "cell_type": "markdown",
      "source": [
        "The \"Distribution of Wins vs. Losses\" bar chart shows the number of wins and losses. The y-axis is labeled \"Count,\" while the x-axis is labelled \"Winner (1=Win, 0=Loss)\". There are approximately 125 loses (labeled \"Loss\") and 175 wins (labeled \"Win\"), according to the chart. It means that wins are more common than losses in the dataset under study."
      ],
      "metadata": {
        "id": "J3co7uneAVtx"
      }
    },
    {
      "cell_type": "code",
      "execution_count": null,
      "metadata": {
        "id": "mYakoEH2RcDb"
      },
      "outputs": [],
      "source": [
        "# Selecting key numeric features for distribution plots\n",
        "numeric_features = [\n",
        "    \"team1_bpi\", \"team2_bpi\", \"offensive_efficiency_team1\", \"offensive_efficiency_team2\",\n",
        "    \"defensive_efficiency_team1\", \"defensive_efficiency_team2\", \"team1_tempo\", \"team2_tempo\",\n",
        "    \"team1_efgpct\", \"team2_efgpct\", \"team1_experience\", \"team2_experience\", \"team1_rating\", \"team2_rating\"\n",
        "]\n"
      ]
    },
    {
      "cell_type": "code",
      "execution_count": null,
      "metadata": {
        "id": "0FMj5yoxRcDb",
        "colab": {
          "base_uri": "https://localhost:8080/",
          "height": 873
        },
        "outputId": "82a4abdc-34a7-45fe-b486-50275a958a48"
      },
      "outputs": [
        {
          "output_type": "display_data",
          "data": {
            "text/plain": [
              "<Figure size 1200x1000 with 16 Axes>"
            ],
            "image/png": "[encoded data removed]"
          },
          "metadata": {}
        }
      ],
      "source": [
        "# Plot histograms for selected features\n",
        "team_matchups[numeric_features].hist(figsize=(12, 10), bins=20)\n",
        "plt.suptitle(\"Feature Distributions\", fontsize=16)\n",
        "plt.show()"
      ]
    },
    {
      "cell_type": "markdown",
      "source": [
        "1. team1_bpi: Skewed distribution with most teams having lower BPI values.\n",
        "2. team2_bpi: Similar to team1_bpi, indicating most teams have a lower BPI ranking.\n",
        "3. offensive_efficiency_team1: Peaks around 115-125, showing most teams have similar offensive efficiency.\n",
        "4. offensive_efficiency_team2: Follows the same trend as team1, reinforcing offensive balance.\n",
        "5. defensive_efficiency_team1: Concentrated around 90-100, suggesting defensive consistency.\n",
        "6. defensive_efficiency_team2: Mirrors team1's defensive efficiency, with minimal variation.\n",
        "7. team1_tempo: Normal distribution centered around 67-70, indicating moderate game speed.\n",
        "8. team2_tempo: Matches team1_tempo, showing pace consistency among teams.\n",
        "9. team1_efgpct: Peaks around 50-55%, meaning most teams have similar shooting efficiency.\n",
        "10. team2_efgpct: Follows the same pattern as team1, confirming shooting consistency.\n",
        "11. team1_experience: Most teams have 2-3 years of experience, suggesting a mix of veterans and younger players.\n",
        "12. team2_experience: Similar to team1, reinforcing balanced team compositions.\n",
        "13. team1_rating: Spread between 10-40, indicating a wide range of team rankings.\n",
        "14. team2_rating: Follows the same spread, confirming ranking variability among matchups."
      ],
      "metadata": {
        "id": "G-YzBhTXAZEU"
      }
    },
    {
      "cell_type": "code",
      "execution_count": null,
      "metadata": {
        "id": "uf1eEatURcDc"
      },
      "outputs": [],
      "source": [
        "# Select only numeric columns\n",
        "numeric_team_matchups = team_matchups.select_dtypes(include=['number'])"
      ]
    },
    {
      "cell_type": "code",
      "execution_count": null,
      "metadata": {
        "id": "FJSHmB2fRcDc"
      },
      "outputs": [],
      "source": [
        "# Compute the correlation matrix\n",
        "corr_matrix = numeric_team_matchups.corr()"
      ]
    },
    {
      "cell_type": "code",
      "source": [
        "# output of the correlation matrix\n",
        "corr_matrix"
      ],
      "metadata": {
        "id": "vfptYZn8tDjX",
        "colab": {
          "base_uri": "https://localhost:8080/",
          "height": 851
        },
        "outputId": "14c0bcd2-c696-43c3-d8eb-3277ce2194d6"
      },
      "execution_count": null,
      "outputs": [
        {
          "output_type": "execute_result",
          "data": {
            "text/plain": [
              "                                 team1_bpi  team2_bpi  team1_points  \\\n",
              "team1_bpi                         1.000000  -0.138804     -0.245618   \n",
              "team2_bpi                        -0.138804   1.000000      0.122270   \n",
              "team1_points                     -0.245618   0.122270      1.000000   \n",
              "team2_points                      0.134275  -0.274534      0.352256   \n",
              "points_difference                 0.124985  -0.193307     -0.218342   \n",
              "offensive_efficiency_team1       -0.665813   0.062656      0.401996   \n",
              "offensive_efficiency_team2        0.023510  -0.683541     -0.034416   \n",
              "offensive_efficiency_difference  -0.001070  -0.072274     -0.091605   \n",
              "defensive_efficiency_team1        0.515510  -0.056446      0.014197   \n",
              "defensive_efficiency_team2       -0.114397   0.542877      0.262300   \n",
              "defensive_efficiency_difference  -0.065025  -0.106020     -0.028655   \n",
              "team1_tempo                      -0.015588  -0.012570      0.292440   \n",
              "team2_tempo                       0.017980   0.054809      0.233012   \n",
              "tempo_difference                 -0.243004  -0.198537      0.046285   \n",
              "team1_efgpct                     -0.364155   0.055376      0.275699   \n",
              "team2_efgpct                     -0.022965  -0.343830      0.050834   \n",
              "efgpct_difference                 0.004899  -0.022294     -0.069425   \n",
              "team1_experience                 -0.134993   0.031819      0.055515   \n",
              "team2_experience                 -0.030603  -0.150513     -0.037452   \n",
              "experience_difference            -0.009682  -0.021439     -0.027324   \n",
              "team1_rating                     -0.827775   0.082498      0.288053   \n",
              "team2_rating                      0.088552  -0.835141     -0.183765   \n",
              "rating_difference                -0.006737  -0.091432     -0.065793   \n",
              "winner                           -0.262126   0.219582      0.457539   \n",
              "\n",
              "                                 team2_points  points_difference  \\\n",
              "team1_bpi                            0.134275           0.124985   \n",
              "team2_bpi                           -0.274534          -0.193307   \n",
              "team1_points                         0.352256          -0.218342   \n",
              "team2_points                         1.000000           0.198142   \n",
              "points_difference                    0.198142           1.000000   \n",
              "offensive_efficiency_team1           0.069132          -0.072846   \n",
              "offensive_efficiency_team2           0.309069           0.261639   \n",
              "offensive_efficiency_difference     -0.042972           0.143365   \n",
              "defensive_efficiency_team1           0.379836           0.121715   \n",
              "defensive_efficiency_team2          -0.024928          -0.126544   \n",
              "defensive_efficiency_difference     -0.000924           0.073035   \n",
              "team1_tempo                          0.303379          -0.041982   \n",
              "team2_tempo                          0.210799           0.045169   \n",
              "tempo_difference                     0.038092           0.016503   \n",
              "team1_efgpct                         0.144452          -0.005782   \n",
              "team2_efgpct                         0.262292           0.148209   \n",
              "efgpct_difference                   -0.013857          -0.014230   \n",
              "team1_experience                     0.017224          -0.065958   \n",
              "team2_experience                     0.059326           0.012544   \n",
              "experience_difference               -0.016809           0.071469   \n",
              "team1_rating                        -0.197101          -0.131027   \n",
              "team2_rating                         0.243493           0.263866   \n",
              "rating_difference                   -0.031253           0.245199   \n",
              "winner                              -0.430719          -0.204983   \n",
              "\n",
              "                                 offensive_efficiency_team1  \\\n",
              "team1_bpi                                         -0.665813   \n",
              "team2_bpi                                          0.062656   \n",
              "team1_points                                       0.401996   \n",
              "team2_points                                       0.069132   \n",
              "points_difference                                 -0.072846   \n",
              "offensive_efficiency_team1                         1.000000   \n",
              "offensive_efficiency_team2                         0.012303   \n",
              "offensive_efficiency_difference                    0.083361   \n",
              "defensive_efficiency_team1                        -0.036184   \n",
              "defensive_efficiency_team2                         0.031058   \n",
              "defensive_efficiency_difference                    0.006207   \n",
              "team1_tempo                                        0.138701   \n",
              "team2_tempo                                        0.054643   \n",
              "tempo_difference                                   0.208125   \n",
              "team1_efgpct                                       0.704564   \n",
              "team2_efgpct                                      -0.004158   \n",
              "efgpct_difference                                 -0.047430   \n",
              "team1_experience                                   0.096566   \n",
              "team2_experience                                  -0.016843   \n",
              "experience_difference                             -0.118706   \n",
              "team1_rating                                       0.765059   \n",
              "team2_rating                                      -0.001015   \n",
              "rating_difference                                  0.080828   \n",
              "winner                                             0.249319   \n",
              "\n",
              "                                 offensive_efficiency_team2  \\\n",
              "team1_bpi                                          0.023510   \n",
              "team2_bpi                                         -0.683541   \n",
              "team1_points                                      -0.034416   \n",
              "team2_points                                       0.309069   \n",
              "points_difference                                  0.261639   \n",
              "offensive_efficiency_team1                         0.012303   \n",
              "offensive_efficiency_team2                         1.000000   \n",
              "offensive_efficiency_difference                    0.110733   \n",
              "defensive_efficiency_team1                        -0.027788   \n",
              "defensive_efficiency_team2                        -0.061448   \n",
              "defensive_efficiency_difference                    0.061482   \n",
              "team1_tempo                                        0.042155   \n",
              "team2_tempo                                        0.048359   \n",
              "tempo_difference                                   0.089296   \n",
              "team1_efgpct                                      -0.055966   \n",
              "team2_efgpct                                       0.708638   \n",
              "efgpct_difference                                 -0.040353   \n",
              "team1_experience                                  -0.004334   \n",
              "team2_experience                                   0.152673   \n",
              "experience_difference                             -0.041469   \n",
              "team1_rating                                       0.023997   \n",
              "team2_rating                                       0.778034   \n",
              "rating_difference                                  0.149940   \n",
              "winner                                            -0.125016   \n",
              "\n",
              "                                 offensive_efficiency_difference  \\\n",
              "team1_bpi                                              -0.001070   \n",
              "team2_bpi                                              -0.072274   \n",
              "team1_points                                           -0.091605   \n",
              "team2_points                                           -0.042972   \n",
              "points_difference                                       0.143365   \n",
              "offensive_efficiency_team1                              0.083361   \n",
              "offensive_efficiency_team2                              0.110733   \n",
              "offensive_efficiency_difference                         1.000000   \n",
              "defensive_efficiency_team1                             -0.046895   \n",
              "defensive_efficiency_team2                             -0.094981   \n",
              "defensive_efficiency_difference                        -0.088224   \n",
              "team1_tempo                                            -0.027548   \n",
              "team2_tempo                                            -0.111100   \n",
              "tempo_difference                                        0.027212   \n",
              "team1_efgpct                                            0.037019   \n",
              "team2_efgpct                                            0.015968   \n",
              "efgpct_difference                                       0.367545   \n",
              "team1_experience                                       -0.038067   \n",
              "team2_experience                                       -0.058449   \n",
              "experience_difference                                   0.150003   \n",
              "team1_rating                                            0.095181   \n",
              "team2_rating                                            0.161980   \n",
              "rating_difference                                       0.554778   \n",
              "winner                                                  0.015596   \n",
              "\n",
              "                                 defensive_efficiency_team1  \\\n",
              "team1_bpi                                          0.515510   \n",
              "team2_bpi                                         -0.056446   \n",
              "team1_points                                       0.014197   \n",
              "team2_points                                       0.379836   \n",
              "points_difference                                  0.121715   \n",
              "offensive_efficiency_team1                        -0.036184   \n",
              "offensive_efficiency_team2                        -0.027788   \n",
              "offensive_efficiency_difference                   -0.046895   \n",
              "defensive_efficiency_team1                         1.000000   \n",
              "defensive_efficiency_team2                        -0.116787   \n",
              "defensive_efficiency_difference                   -0.063578   \n",
              "team1_tempo                                        0.179587   \n",
              "team2_tempo                                        0.026979   \n",
              "tempo_difference                                  -0.088061   \n",
              "team1_efgpct                                       0.265999   \n",
              "team2_efgpct                                      -0.036895   \n",
              "efgpct_difference                                 -0.031612   \n",
              "team1_experience                                  -0.101133   \n",
              "team2_experience                                  -0.069599   \n",
              "experience_difference                             -0.094061   \n",
              "team1_rating                                      -0.667654   \n",
              "team2_rating                                       0.047858   \n",
              "rating_difference                                 -0.066365   \n",
              "winner                                            -0.233180   \n",
              "\n",
              "                                 defensive_efficiency_team2  ...  \\\n",
              "team1_bpi                                         -0.114397  ...   \n",
              "team2_bpi                                          0.542877  ...   \n",
              "team1_points                                       0.262300  ...   \n",
              "team2_points                                      -0.024928  ...   \n",
              "points_difference                                 -0.126544  ...   \n",
              "offensive_efficiency_team1                         0.031058  ...   \n",
              "offensive_efficiency_team2                        -0.061448  ...   \n",
              "offensive_efficiency_difference                   -0.094981  ...   \n",
              "defensive_efficiency_team1                        -0.116787  ...   \n",
              "defensive_efficiency_team2                         1.000000  ...   \n",
              "defensive_efficiency_difference                   -0.096572  ...   \n",
              "team1_tempo                                        0.003627  ...   \n",
              "team2_tempo                                        0.187352  ...   \n",
              "tempo_difference                                  -0.176129  ...   \n",
              "team1_efgpct                                      -0.025297  ...   \n",
              "team2_efgpct                                       0.289201  ...   \n",
              "efgpct_difference                                 -0.051397  ...   \n",
              "team1_experience                                   0.049252  ...   \n",
              "team2_experience                                  -0.093873  ...   \n",
              "experience_difference                             -0.030312  ...   \n",
              "team1_rating                                       0.093264  ...   \n",
              "team2_rating                                      -0.656320  ...   \n",
              "rating_difference                                 -0.143739  ...   \n",
              "winner                                             0.217452  ...   \n",
              "\n",
              "                                 team1_efgpct  team2_efgpct  \\\n",
              "team1_bpi                           -0.364155     -0.022965   \n",
              "team2_bpi                            0.055376     -0.343830   \n",
              "team1_points                         0.275699      0.050834   \n",
              "team2_points                         0.144452      0.262292   \n",
              "points_difference                   -0.005782      0.148209   \n",
              "offensive_efficiency_team1           0.704564     -0.004158   \n",
              "offensive_efficiency_team2          -0.055966      0.708638   \n",
              "offensive_efficiency_difference      0.037019      0.015968   \n",
              "defensive_efficiency_team1           0.265999     -0.036895   \n",
              "defensive_efficiency_team2          -0.025297      0.289201   \n",
              "defensive_efficiency_difference     -0.013353     -0.021833   \n",
              "team1_tempo                          0.192111      0.027805   \n",
              "team2_tempo                          0.032711      0.146978   \n",
              "tempo_difference                     0.113701     -0.017091   \n",
              "team1_efgpct                         1.000000     -0.071124   \n",
              "team2_efgpct                        -0.071124      1.000000   \n",
              "efgpct_difference                   -0.109498     -0.130676   \n",
              "team1_experience                     0.081438      0.036603   \n",
              "team2_experience                    -0.064596      0.056784   \n",
              "experience_difference               -0.098994     -0.045300   \n",
              "team1_rating                         0.354504      0.020973   \n",
              "team2_rating                        -0.020045      0.342881   \n",
              "rating_difference                    0.041490      0.007378   \n",
              "winner                               0.078877     -0.066245   \n",
              "\n",
              "                                 efgpct_difference  team1_experience  \\\n",
              "team1_bpi                                 0.004899         -0.134993   \n",
              "team2_bpi                                -0.022294          0.031819   \n",
              "team1_points                             -0.069425          0.055515   \n",
              "team2_points                             -0.013857          0.017224   \n",
              "points_difference                        -0.014230         -0.065958   \n",
              "offensive_efficiency_team1               -0.047430          0.096566   \n",
              "offensive_efficiency_team2               -0.040353         -0.004334   \n",
              "offensive_efficiency_difference           0.367545         -0.038067   \n",
              "defensive_efficiency_team1               -0.031612         -0.101133   \n",
              "defensive_efficiency_team2               -0.051397          0.049252   \n",
              "defensive_efficiency_difference           0.019980          0.038144   \n",
              "team1_tempo                              -0.055321          0.074410   \n",
              "team2_tempo                              -0.071964         -0.042224   \n",
              "tempo_difference                         -0.091601          0.009136   \n",
              "team1_efgpct                             -0.109498          0.081438   \n",
              "team2_efgpct                             -0.130676          0.036603   \n",
              "efgpct_difference                         1.000000          0.007710   \n",
              "team1_experience                          0.007710          1.000000   \n",
              "team2_experience                         -0.043785          0.007159   \n",
              "experience_difference                     0.048137         -0.110274   \n",
              "team1_rating                             -0.013346          0.134335   \n",
              "team2_rating                              0.001818         -0.038774   \n",
              "rating_difference                         0.051016         -0.043998   \n",
              "winner                                   -0.053764          0.036054   \n",
              "\n",
              "                                 team2_experience  experience_difference  \\\n",
              "team1_bpi                               -0.030603              -0.009682   \n",
              "team2_bpi                               -0.150513              -0.021439   \n",
              "team1_points                            -0.037452              -0.027324   \n",
              "team2_points                             0.059326              -0.016809   \n",
              "points_difference                        0.012544               0.071469   \n",
              "offensive_efficiency_team1              -0.016843              -0.118706   \n",
              "offensive_efficiency_team2               0.152673              -0.041469   \n",
              "offensive_efficiency_difference         -0.058449               0.150003   \n",
              "defensive_efficiency_team1              -0.069599              -0.094061   \n",
              "defensive_efficiency_team2              -0.093873              -0.030312   \n",
              "defensive_efficiency_difference          0.044684              -0.083708   \n",
              "team1_tempo                             -0.078729               0.107470   \n",
              "team2_tempo                              0.016372               0.015173   \n",
              "tempo_difference                         0.017302              -0.071515   \n",
              "team1_efgpct                            -0.064596              -0.098994   \n",
              "team2_efgpct                             0.056784              -0.045300   \n",
              "efgpct_difference                       -0.043785               0.048137   \n",
              "team1_experience                         0.007159              -0.110274   \n",
              "team2_experience                         1.000000              -0.149251   \n",
              "experience_difference                   -0.149251               1.000000   \n",
              "team1_rating                             0.038172              -0.024652   \n",
              "team2_rating                             0.171460              -0.007966   \n",
              "rating_difference                        0.065872               0.045024   \n",
              "winner                                  -0.037797              -0.002759   \n",
              "\n",
              "                                 team1_rating  team2_rating  \\\n",
              "team1_bpi                           -0.827775      0.088552   \n",
              "team2_bpi                            0.082498     -0.835141   \n",
              "team1_points                         0.288053     -0.183765   \n",
              "team2_points                        -0.197101      0.243493   \n",
              "points_difference                   -0.131027      0.263866   \n",
              "offensive_efficiency_team1           0.765059     -0.001015   \n",
              "offensive_efficiency_team2           0.023997      0.778034   \n",
              "offensive_efficiency_difference      0.095181      0.161980   \n",
              "defensive_efficiency_team1          -0.667654      0.047858   \n",
              "defensive_efficiency_team2           0.093264     -0.656320   \n",
              "defensive_efficiency_difference      0.039861      0.124609   \n",
              "team1_tempo                         -0.013296      0.026380   \n",
              "team2_tempo                          0.027782     -0.089606   \n",
              "tempo_difference                     0.204465      0.176150   \n",
              "team1_efgpct                         0.354504     -0.020045   \n",
              "team2_efgpct                         0.020973      0.342881   \n",
              "efgpct_difference                   -0.013346      0.001818   \n",
              "team1_experience                     0.134335     -0.038774   \n",
              "team2_experience                     0.038172      0.171460   \n",
              "experience_difference               -0.024652     -0.007966   \n",
              "team1_rating                         1.000000     -0.031475   \n",
              "team2_rating                        -0.031475      1.000000   \n",
              "rating_difference                    0.101552      0.213195   \n",
              "winner                               0.334856     -0.213359   \n",
              "\n",
              "                                 rating_difference    winner  \n",
              "team1_bpi                                -0.006737 -0.262126  \n",
              "team2_bpi                                -0.091432  0.219582  \n",
              "team1_points                             -0.065793  0.457539  \n",
              "team2_points                             -0.031253 -0.430719  \n",
              "points_difference                         0.245199 -0.204983  \n",
              "offensive_efficiency_team1                0.080828  0.249319  \n",
              "offensive_efficiency_team2                0.149940 -0.125016  \n",
              "offensive_efficiency_difference           0.554778  0.015596  \n",
              "defensive_efficiency_team1               -0.066365 -0.233180  \n",
              "defensive_efficiency_team2               -0.143739  0.217452  \n",
              "defensive_efficiency_difference           0.376069  0.002616  \n",
              "team1_tempo                              -0.087586  0.004465  \n",
              "team2_tempo                              -0.087195  0.006987  \n",
              "tempo_difference                          0.006104  0.017636  \n",
              "team1_efgpct                              0.041490  0.078877  \n",
              "team2_efgpct                              0.007378 -0.066245  \n",
              "efgpct_difference                         0.051016 -0.053764  \n",
              "team1_experience                         -0.043998  0.036054  \n",
              "team2_experience                          0.065872 -0.037797  \n",
              "experience_difference                     0.045024 -0.002759  \n",
              "team1_rating                              0.101552  0.334856  \n",
              "team2_rating                              0.213195 -0.213359  \n",
              "rating_difference                         1.000000  0.020268  \n",
              "winner                                    0.020268  1.000000  \n",
              "\n",
              "[24 rows x 24 columns]"
            ],
            "text/html": [
              "\n",
              "  <div id=\"df-0a7b6165-daad-438a-88cf-3438274c4c5f\" class=\"colab-df-container\">\n",
              "    <div>\n",
              "<style scoped>\n",
              "    .dataframe tbody tr th:only-of-type {\n",
              "        vertical-align: middle;\n",
              "    }\n",
              "\n",
              "    .dataframe tbody tr th {\n",
              "        vertical-align: top;\n",
              "    }\n",
              "\n",
              "    .dataframe thead th {\n",
              "        text-align: right;\n",
              "    }\n",
              "</style>\n",
              "<table border=\"1\" class=\"dataframe\">\n",
              "  <thead>\n",
              "    <tr style=\"text-align: right;\">\n",
              "      <th></th>\n",
              "      <th>team1_bpi</th>\n",
              "      <th>team2_bpi</th>\n",
              "      <th>team1_points</th>\n",
              "      <th>team2_points</th>\n",
              "      <th>points_difference</th>\n",
              "      <th>offensive_efficiency_team1</th>\n",
              "      <th>offensive_efficiency_team2</th>\n",
              "      <th>offensive_efficiency_difference</th>\n",
              "      <th>defensive_efficiency_team1</th>\n",
              "      <th>defensive_efficiency_team2</th>\n",
              "      <th>...</th>\n",
              "      <th>team1_efgpct</th>\n",
              "      <th>team2_efgpct</th>\n",
              "      <th>efgpct_difference</th>\n",
              "      <th>team1_experience</th>\n",
              "      <th>team2_experience</th>\n",
              "      <th>experience_difference</th>\n",
              "      <th>team1_rating</th>\n",
              "      <th>team2_rating</th>\n",
              "      <th>rating_difference</th>\n",
              "      <th>winner</th>\n",
              "    </tr>\n",
              "  </thead>\n",
              "  <tbody>\n",
              "    <tr>\n",
              "      <th>team1_bpi</th>\n",
              "      <td>1.000000</td>\n",
              "      <td>-0.138804</td>\n",
              "      <td>-0.245618</td>\n",
              "      <td>0.134275</td>\n",
              "      <td>0.124985</td>\n",
              "      <td>-0.665813</td>\n",
              "      <td>0.023510</td>\n",
              "      <td>-0.001070</td>\n",
              "      <td>0.515510</td>\n",
              "      <td>-0.114397</td>\n",
              "      <td>...</td>\n",
              "      <td>-0.364155</td>\n",
              "      <td>-0.022965</td>\n",
              "      <td>0.004899</td>\n",
              "      <td>-0.134993</td>\n",
              "      <td>-0.030603</td>\n",
              "      <td>-0.009682</td>\n",
              "      <td>-0.827775</td>\n",
              "      <td>0.088552</td>\n",
              "      <td>-0.006737</td>\n",
              "      <td>-0.262126</td>\n",
              "    </tr>\n",
              "    <tr>\n",
              "      <th>team2_bpi</th>\n",
              "      <td>-0.138804</td>\n",
              "      <td>1.000000</td>\n",
              "      <td>0.122270</td>\n",
              "      <td>-0.274534</td>\n",
              "      <td>-0.193307</td>\n",
              "      <td>0.062656</td>\n",
              "      <td>-0.683541</td>\n",
              "      <td>-0.072274</td>\n",
              "      <td>-0.056446</td>\n",
              "      <td>0.542877</td>\n",
              "      <td>...</td>\n",
              "      <td>0.055376</td>\n",
              "      <td>-0.343830</td>\n",
              "      <td>-0.022294</td>\n",
              "      <td>0.031819</td>\n",
              "      <td>-0.150513</td>\n",
              "      <td>-0.021439</td>\n",
              "      <td>0.082498</td>\n",
              "      <td>-0.835141</td>\n",
              "      <td>-0.091432</td>\n",
              "      <td>0.219582</td>\n",
              "    </tr>\n",
              "    <tr>\n",
              "      <th>team1_points</th>\n",
              "      <td>-0.245618</td>\n",
              "      <td>0.122270</td>\n",
              "      <td>1.000000</td>\n",
              "      <td>0.352256</td>\n",
              "      <td>-0.218342</td>\n",
              "      <td>0.401996</td>\n",
              "      <td>-0.034416</td>\n",
              "      <td>-0.091605</td>\n",
              "      <td>0.014197</td>\n",
              "      <td>0.262300</td>\n",
              "      <td>...</td>\n",
              "      <td>0.275699</td>\n",
              "      <td>0.050834</td>\n",
              "      <td>-0.069425</td>\n",
              "      <td>0.055515</td>\n",
              "      <td>-0.037452</td>\n",
              "      <td>-0.027324</td>\n",
              "      <td>0.288053</td>\n",
              "      <td>-0.183765</td>\n",
              "      <td>-0.065793</td>\n",
              "      <td>0.457539</td>\n",
              "    </tr>\n",
              "    <tr>\n",
              "      <th>team2_points</th>\n",
              "      <td>0.134275</td>\n",
              "      <td>-0.274534</td>\n",
              "      <td>0.352256</td>\n",
              "      <td>1.000000</td>\n",
              "      <td>0.198142</td>\n",
              "      <td>0.069132</td>\n",
              "      <td>0.309069</td>\n",
              "      <td>-0.042972</td>\n",
              "      <td>0.379836</td>\n",
              "      <td>-0.024928</td>\n",
              "      <td>...</td>\n",
              "      <td>0.144452</td>\n",
              "      <td>0.262292</td>\n",
              "      <td>-0.013857</td>\n",
              "      <td>0.017224</td>\n",
              "      <td>0.059326</td>\n",
              "      <td>-0.016809</td>\n",
              "      <td>-0.197101</td>\n",
              "      <td>0.243493</td>\n",
              "      <td>-0.031253</td>\n",
              "      <td>-0.430719</td>\n",
              "    </tr>\n",
              "    <tr>\n",
              "      <th>points_difference</th>\n",
              "      <td>0.124985</td>\n",
              "      <td>-0.193307</td>\n",
              "      <td>-0.218342</td>\n",
              "      <td>0.198142</td>\n",
              "      <td>1.000000</td>\n",
              "      <td>-0.072846</td>\n",
              "      <td>0.261639</td>\n",
              "      <td>0.143365</td>\n",
              "      <td>0.121715</td>\n",
              "      <td>-0.126544</td>\n",
              "      <td>...</td>\n",
              "      <td>-0.005782</td>\n",
              "      <td>0.148209</td>\n",
              "      <td>-0.014230</td>\n",
              "      <td>-0.065958</td>\n",
              "      <td>0.012544</td>\n",
              "      <td>0.071469</td>\n",
              "      <td>-0.131027</td>\n",
              "      <td>0.263866</td>\n",
              "      <td>0.245199</td>\n",
              "      <td>-0.204983</td>\n",
              "    </tr>\n",
              "    <tr>\n",
              "      <th>offensive_efficiency_team1</th>\n",
              "      <td>-0.665813</td>\n",
              "      <td>0.062656</td>\n",
              "      <td>0.401996</td>\n",
              "      <td>0.069132</td>\n",
              "      <td>-0.072846</td>\n",
              "      <td>1.000000</td>\n",
              "      <td>0.012303</td>\n",
              "      <td>0.083361</td>\n",
              "      <td>-0.036184</td>\n",
              "      <td>0.031058</td>\n",
              "      <td>...</td>\n",
              "      <td>0.704564</td>\n",
              "      <td>-0.004158</td>\n",
              "      <td>-0.047430</td>\n",
              "      <td>0.096566</td>\n",
              "      <td>-0.016843</td>\n",
              "      <td>-0.118706</td>\n",
              "      <td>0.765059</td>\n",
              "      <td>-0.001015</td>\n",
              "      <td>0.080828</td>\n",
              "      <td>0.249319</td>\n",
              "    </tr>\n",
              "    <tr>\n",
              "      <th>offensive_efficiency_team2</th>\n",
              "      <td>0.023510</td>\n",
              "      <td>-0.683541</td>\n",
              "      <td>-0.034416</td>\n",
              "      <td>0.309069</td>\n",
              "      <td>0.261639</td>\n",
              "      <td>0.012303</td>\n",
              "      <td>1.000000</td>\n",
              "      <td>0.110733</td>\n",
              "      <td>-0.027788</td>\n",
              "      <td>-0.061448</td>\n",
              "      <td>...</td>\n",
              "      <td>-0.055966</td>\n",
              "      <td>0.708638</td>\n",
              "      <td>-0.040353</td>\n",
              "      <td>-0.004334</td>\n",
              "      <td>0.152673</td>\n",
              "      <td>-0.041469</td>\n",
              "      <td>0.023997</td>\n",
              "      <td>0.778034</td>\n",
              "      <td>0.149940</td>\n",
              "      <td>-0.125016</td>\n",
              "    </tr>\n",
              "    <tr>\n",
              "      <th>offensive_efficiency_difference</th>\n",
              "      <td>-0.001070</td>\n",
              "      <td>-0.072274</td>\n",
              "      <td>-0.091605</td>\n",
              "      <td>-0.042972</td>\n",
              "      <td>0.143365</td>\n",
              "      <td>0.083361</td>\n",
              "      <td>0.110733</td>\n",
              "      <td>1.000000</td>\n",
              "      <td>-0.046895</td>\n",
              "      <td>-0.094981</td>\n",
              "      <td>...</td>\n",
              "      <td>0.037019</td>\n",
              "      <td>0.015968</td>\n",
              "      <td>0.367545</td>\n",
              "      <td>-0.038067</td>\n",
              "      <td>-0.058449</td>\n",
              "      <td>0.150003</td>\n",
              "      <td>0.095181</td>\n",
              "      <td>0.161980</td>\n",
              "      <td>0.554778</td>\n",
              "      <td>0.015596</td>\n",
              "    </tr>\n",
              "    <tr>\n",
              "      <th>defensive_efficiency_team1</th>\n",
              "      <td>0.515510</td>\n",
              "      <td>-0.056446</td>\n",
              "      <td>0.014197</td>\n",
              "      <td>0.379836</td>\n",
              "      <td>0.121715</td>\n",
              "      <td>-0.036184</td>\n",
              "      <td>-0.027788</td>\n",
              "      <td>-0.046895</td>\n",
              "      <td>1.000000</td>\n",
              "      <td>-0.116787</td>\n",
              "      <td>...</td>\n",
              "      <td>0.265999</td>\n",
              "      <td>-0.036895</td>\n",
              "      <td>-0.031612</td>\n",
              "      <td>-0.101133</td>\n",
              "      <td>-0.069599</td>\n",
              "      <td>-0.094061</td>\n",
              "      <td>-0.667654</td>\n",
              "      <td>0.047858</td>\n",
              "      <td>-0.066365</td>\n",
              "      <td>-0.233180</td>\n",
              "    </tr>\n",
              "    <tr>\n",
              "      <th>defensive_efficiency_team2</th>\n",
              "      <td>-0.114397</td>\n",
              "      <td>0.542877</td>\n",
              "      <td>0.262300</td>\n",
              "      <td>-0.024928</td>\n",
              "      <td>-0.126544</td>\n",
              "      <td>0.031058</td>\n",
              "      <td>-0.061448</td>\n",
              "      <td>-0.094981</td>\n",
              "      <td>-0.116787</td>\n",
              "      <td>1.000000</td>\n",
              "      <td>...</td>\n",
              "      <td>-0.025297</td>\n",
              "      <td>0.289201</td>\n",
              "      <td>-0.051397</td>\n",
              "      <td>0.049252</td>\n",
              "      <td>-0.093873</td>\n",
              "      <td>-0.030312</td>\n",
              "      <td>0.093264</td>\n",
              "      <td>-0.656320</td>\n",
              "      <td>-0.143739</td>\n",
              "      <td>0.217452</td>\n",
              "    </tr>\n",
              "    <tr>\n",
              "      <th>defensive_efficiency_difference</th>\n",
              "      <td>-0.065025</td>\n",
              "      <td>-0.106020</td>\n",
              "      <td>-0.028655</td>\n",
              "      <td>-0.000924</td>\n",
              "      <td>0.073035</td>\n",
              "      <td>0.006207</td>\n",
              "      <td>0.061482</td>\n",
              "      <td>-0.088224</td>\n",
              "      <td>-0.063578</td>\n",
              "      <td>-0.096572</td>\n",
              "      <td>...</td>\n",
              "      <td>-0.013353</td>\n",
              "      <td>-0.021833</td>\n",
              "      <td>0.019980</td>\n",
              "      <td>0.038144</td>\n",
              "      <td>0.044684</td>\n",
              "      <td>-0.083708</td>\n",
              "      <td>0.039861</td>\n",
              "      <td>0.124609</td>\n",
              "      <td>0.376069</td>\n",
              "      <td>0.002616</td>\n",
              "    </tr>\n",
              "    <tr>\n",
              "      <th>team1_tempo</th>\n",
              "      <td>-0.015588</td>\n",
              "      <td>-0.012570</td>\n",
              "      <td>0.292440</td>\n",
              "      <td>0.303379</td>\n",
              "      <td>-0.041982</td>\n",
              "      <td>0.138701</td>\n",
              "      <td>0.042155</td>\n",
              "      <td>-0.027548</td>\n",
              "      <td>0.179587</td>\n",
              "      <td>0.003627</td>\n",
              "      <td>...</td>\n",
              "      <td>0.192111</td>\n",
              "      <td>0.027805</td>\n",
              "      <td>-0.055321</td>\n",
              "      <td>0.074410</td>\n",
              "      <td>-0.078729</td>\n",
              "      <td>0.107470</td>\n",
              "      <td>-0.013296</td>\n",
              "      <td>0.026380</td>\n",
              "      <td>-0.087586</td>\n",
              "      <td>0.004465</td>\n",
              "    </tr>\n",
              "    <tr>\n",
              "      <th>team2_tempo</th>\n",
              "      <td>0.017980</td>\n",
              "      <td>0.054809</td>\n",
              "      <td>0.233012</td>\n",
              "      <td>0.210799</td>\n",
              "      <td>0.045169</td>\n",
              "      <td>0.054643</td>\n",
              "      <td>0.048359</td>\n",
              "      <td>-0.111100</td>\n",
              "      <td>0.026979</td>\n",
              "      <td>0.187352</td>\n",
              "      <td>...</td>\n",
              "      <td>0.032711</td>\n",
              "      <td>0.146978</td>\n",
              "      <td>-0.071964</td>\n",
              "      <td>-0.042224</td>\n",
              "      <td>0.016372</td>\n",
              "      <td>0.015173</td>\n",
              "      <td>0.027782</td>\n",
              "      <td>-0.089606</td>\n",
              "      <td>-0.087195</td>\n",
              "      <td>0.006987</td>\n",
              "    </tr>\n",
              "    <tr>\n",
              "      <th>tempo_difference</th>\n",
              "      <td>-0.243004</td>\n",
              "      <td>-0.198537</td>\n",
              "      <td>0.046285</td>\n",
              "      <td>0.038092</td>\n",
              "      <td>0.016503</td>\n",
              "      <td>0.208125</td>\n",
              "      <td>0.089296</td>\n",
              "      <td>0.027212</td>\n",
              "      <td>-0.088061</td>\n",
              "      <td>-0.176129</td>\n",
              "      <td>...</td>\n",
              "      <td>0.113701</td>\n",
              "      <td>-0.017091</td>\n",
              "      <td>-0.091601</td>\n",
              "      <td>0.009136</td>\n",
              "      <td>0.017302</td>\n",
              "      <td>-0.071515</td>\n",
              "      <td>0.204465</td>\n",
              "      <td>0.176150</td>\n",
              "      <td>0.006104</td>\n",
              "      <td>0.017636</td>\n",
              "    </tr>\n",
              "    <tr>\n",
              "      <th>team1_efgpct</th>\n",
              "      <td>-0.364155</td>\n",
              "      <td>0.055376</td>\n",
              "      <td>0.275699</td>\n",
              "      <td>0.144452</td>\n",
              "      <td>-0.005782</td>\n",
              "      <td>0.704564</td>\n",
              "      <td>-0.055966</td>\n",
              "      <td>0.037019</td>\n",
              "      <td>0.265999</td>\n",
              "      <td>-0.025297</td>\n",
              "      <td>...</td>\n",
              "      <td>1.000000</td>\n",
              "      <td>-0.071124</td>\n",
              "      <td>-0.109498</td>\n",
              "      <td>0.081438</td>\n",
              "      <td>-0.064596</td>\n",
              "      <td>-0.098994</td>\n",
              "      <td>0.354504</td>\n",
              "      <td>-0.020045</td>\n",
              "      <td>0.041490</td>\n",
              "      <td>0.078877</td>\n",
              "    </tr>\n",
              "    <tr>\n",
              "      <th>team2_efgpct</th>\n",
              "      <td>-0.022965</td>\n",
              "      <td>-0.343830</td>\n",
              "      <td>0.050834</td>\n",
              "      <td>0.262292</td>\n",
              "      <td>0.148209</td>\n",
              "      <td>-0.004158</td>\n",
              "      <td>0.708638</td>\n",
              "      <td>0.015968</td>\n",
              "      <td>-0.036895</td>\n",
              "      <td>0.289201</td>\n",
              "      <td>...</td>\n",
              "      <td>-0.071124</td>\n",
              "      <td>1.000000</td>\n",
              "      <td>-0.130676</td>\n",
              "      <td>0.036603</td>\n",
              "      <td>0.056784</td>\n",
              "      <td>-0.045300</td>\n",
              "      <td>0.020973</td>\n",
              "      <td>0.342881</td>\n",
              "      <td>0.007378</td>\n",
              "      <td>-0.066245</td>\n",
              "    </tr>\n",
              "    <tr>\n",
              "      <th>efgpct_difference</th>\n",
              "      <td>0.004899</td>\n",
              "      <td>-0.022294</td>\n",
              "      <td>-0.069425</td>\n",
              "      <td>-0.013857</td>\n",
              "      <td>-0.014230</td>\n",
              "      <td>-0.047430</td>\n",
              "      <td>-0.040353</td>\n",
              "      <td>0.367545</td>\n",
              "      <td>-0.031612</td>\n",
              "      <td>-0.051397</td>\n",
              "      <td>...</td>\n",
              "      <td>-0.109498</td>\n",
              "      <td>-0.130676</td>\n",
              "      <td>1.000000</td>\n",
              "      <td>0.007710</td>\n",
              "      <td>-0.043785</td>\n",
              "      <td>0.048137</td>\n",
              "      <td>-0.013346</td>\n",
              "      <td>0.001818</td>\n",
              "      <td>0.051016</td>\n",
              "      <td>-0.053764</td>\n",
              "    </tr>\n",
              "    <tr>\n",
              "      <th>team1_experience</th>\n",
              "      <td>-0.134993</td>\n",
              "      <td>0.031819</td>\n",
              "      <td>0.055515</td>\n",
              "      <td>0.017224</td>\n",
              "      <td>-0.065958</td>\n",
              "      <td>0.096566</td>\n",
              "      <td>-0.004334</td>\n",
              "      <td>-0.038067</td>\n",
              "      <td>-0.101133</td>\n",
              "      <td>0.049252</td>\n",
              "      <td>...</td>\n",
              "      <td>0.081438</td>\n",
              "      <td>0.036603</td>\n",
              "      <td>0.007710</td>\n",
              "      <td>1.000000</td>\n",
              "      <td>0.007159</td>\n",
              "      <td>-0.110274</td>\n",
              "      <td>0.134335</td>\n",
              "      <td>-0.038774</td>\n",
              "      <td>-0.043998</td>\n",
              "      <td>0.036054</td>\n",
              "    </tr>\n",
              "    <tr>\n",
              "      <th>team2_experience</th>\n",
              "      <td>-0.030603</td>\n",
              "      <td>-0.150513</td>\n",
              "      <td>-0.037452</td>\n",
              "      <td>0.059326</td>\n",
              "      <td>0.012544</td>\n",
              "      <td>-0.016843</td>\n",
              "      <td>0.152673</td>\n",
              "      <td>-0.058449</td>\n",
              "      <td>-0.069599</td>\n",
              "      <td>-0.093873</td>\n",
              "      <td>...</td>\n",
              "      <td>-0.064596</td>\n",
              "      <td>0.056784</td>\n",
              "      <td>-0.043785</td>\n",
              "      <td>0.007159</td>\n",
              "      <td>1.000000</td>\n",
              "      <td>-0.149251</td>\n",
              "      <td>0.038172</td>\n",
              "      <td>0.171460</td>\n",
              "      <td>0.065872</td>\n",
              "      <td>-0.037797</td>\n",
              "    </tr>\n",
              "    <tr>\n",
              "      <th>experience_difference</th>\n",
              "      <td>-0.009682</td>\n",
              "      <td>-0.021439</td>\n",
              "      <td>-0.027324</td>\n",
              "      <td>-0.016809</td>\n",
              "      <td>0.071469</td>\n",
              "      <td>-0.118706</td>\n",
              "      <td>-0.041469</td>\n",
              "      <td>0.150003</td>\n",
              "      <td>-0.094061</td>\n",
              "      <td>-0.030312</td>\n",
              "      <td>...</td>\n",
              "      <td>-0.098994</td>\n",
              "      <td>-0.045300</td>\n",
              "      <td>0.048137</td>\n",
              "      <td>-0.110274</td>\n",
              "      <td>-0.149251</td>\n",
              "      <td>1.000000</td>\n",
              "      <td>-0.024652</td>\n",
              "      <td>-0.007966</td>\n",
              "      <td>0.045024</td>\n",
              "      <td>-0.002759</td>\n",
              "    </tr>\n",
              "    <tr>\n",
              "      <th>team1_rating</th>\n",
              "      <td>-0.827775</td>\n",
              "      <td>0.082498</td>\n",
              "      <td>0.288053</td>\n",
              "      <td>-0.197101</td>\n",
              "      <td>-0.131027</td>\n",
              "      <td>0.765059</td>\n",
              "      <td>0.023997</td>\n",
              "      <td>0.095181</td>\n",
              "      <td>-0.667654</td>\n",
              "      <td>0.093264</td>\n",
              "      <td>...</td>\n",
              "      <td>0.354504</td>\n",
              "      <td>0.020973</td>\n",
              "      <td>-0.013346</td>\n",
              "      <td>0.134335</td>\n",
              "      <td>0.038172</td>\n",
              "      <td>-0.024652</td>\n",
              "      <td>1.000000</td>\n",
              "      <td>-0.031475</td>\n",
              "      <td>0.101552</td>\n",
              "      <td>0.334856</td>\n",
              "    </tr>\n",
              "    <tr>\n",
              "      <th>team2_rating</th>\n",
              "      <td>0.088552</td>\n",
              "      <td>-0.835141</td>\n",
              "      <td>-0.183765</td>\n",
              "      <td>0.243493</td>\n",
              "      <td>0.263866</td>\n",
              "      <td>-0.001015</td>\n",
              "      <td>0.778034</td>\n",
              "      <td>0.161980</td>\n",
              "      <td>0.047858</td>\n",
              "      <td>-0.656320</td>\n",
              "      <td>...</td>\n",
              "      <td>-0.020045</td>\n",
              "      <td>0.342881</td>\n",
              "      <td>0.001818</td>\n",
              "      <td>-0.038774</td>\n",
              "      <td>0.171460</td>\n",
              "      <td>-0.007966</td>\n",
              "      <td>-0.031475</td>\n",
              "      <td>1.000000</td>\n",
              "      <td>0.213195</td>\n",
              "      <td>-0.213359</td>\n",
              "    </tr>\n",
              "    <tr>\n",
              "      <th>rating_difference</th>\n",
              "      <td>-0.006737</td>\n",
              "      <td>-0.091432</td>\n",
              "      <td>-0.065793</td>\n",
              "      <td>-0.031253</td>\n",
              "      <td>0.245199</td>\n",
              "      <td>0.080828</td>\n",
              "      <td>0.149940</td>\n",
              "      <td>0.554778</td>\n",
              "      <td>-0.066365</td>\n",
              "      <td>-0.143739</td>\n",
              "      <td>...</td>\n",
              "      <td>0.041490</td>\n",
              "      <td>0.007378</td>\n",
              "      <td>0.051016</td>\n",
              "      <td>-0.043998</td>\n",
              "      <td>0.065872</td>\n",
              "      <td>0.045024</td>\n",
              "      <td>0.101552</td>\n",
              "      <td>0.213195</td>\n",
              "      <td>1.000000</td>\n",
              "      <td>0.020268</td>\n",
              "    </tr>\n",
              "    <tr>\n",
              "      <th>winner</th>\n",
              "      <td>-0.262126</td>\n",
              "      <td>0.219582</td>\n",
              "      <td>0.457539</td>\n",
              "      <td>-0.430719</td>\n",
              "      <td>-0.204983</td>\n",
              "      <td>0.249319</td>\n",
              "      <td>-0.125016</td>\n",
              "      <td>0.015596</td>\n",
              "      <td>-0.233180</td>\n",
              "      <td>0.217452</td>\n",
              "      <td>...</td>\n",
              "      <td>0.078877</td>\n",
              "      <td>-0.066245</td>\n",
              "      <td>-0.053764</td>\n",
              "      <td>0.036054</td>\n",
              "      <td>-0.037797</td>\n",
              "      <td>-0.002759</td>\n",
              "      <td>0.334856</td>\n",
              "      <td>-0.213359</td>\n",
              "      <td>0.020268</td>\n",
              "      <td>1.000000</td>\n",
              "    </tr>\n",
              "  </tbody>\n",
              "</table>\n",
              "<p>24 rows × 24 columns</p>\n",
              "</div>\n",
              "    <div class=\"colab-df-buttons\">\n",
              "\n",
              "  <div class=\"colab-df-container\">\n",
              "    <button class=\"colab-df-convert\" onclick=\"convertToInteractive('df-0a7b6165-daad-438a-88cf-3438274c4c5f')\"\n",
              "            title=\"Convert this dataframe to an interactive table.\"\n",
              "            style=\"display:none;\">\n",
              "\n",
              "  <svg xmlns=\"http://www.w3.org/2000/svg\" height=\"24px\" viewBox=\"0 -960 960 960\">\n",
              "    <path d=\"M120-120v-720h720v720H120Zm60-500h600v-160H180v160Zm220 220h160v-160H400v160Zm0 220h160v-160H400v160ZM180-400h160v-160H180v160Zm440 0h160v-160H620v160ZM180-180h160v-160H180v160Zm440 0h160v-160H620v160Z\"/>\n",
              "  </svg>\n",
              "    </button>\n",
              "\n",
              "  <style>\n",
              "    .colab-df-container {\n",
              "      display:flex;\n",
              "      gap: 12px;\n",
              "    }\n",
              "\n",
              "    .colab-df-convert {\n",
              "      background-color: #E8F0FE;\n",
              "      border: none;\n",
              "      border-radius: 50%;\n",
              "      cursor: pointer;\n",
              "      display: none;\n",
              "      fill: #1967D2;\n",
              "      height: 32px;\n",
              "      padding: 0 0 0 0;\n",
              "      width: 32px;\n",
              "    }\n",
              "\n",
              "    .colab-df-convert:hover {\n",
              "      background-color: #E2EBFA;\n",
              "      box-shadow: 0px 1px 2px rgba(60, 64, 67, 0.3), 0px 1px 3px 1px rgba(60, 64, 67, 0.15);\n",
              "      fill: #174EA6;\n",
              "    }\n",
              "\n",
              "    .colab-df-buttons div {\n",
              "      margin-bottom: 4px;\n",
              "    }\n",
              "\n",
              "    [theme=dark] .colab-df-convert {\n",
              "      background-color: #3B4455;\n",
              "      fill: #D2E3FC;\n",
              "    }\n",
              "\n",
              "    [theme=dark] .colab-df-convert:hover {\n",
              "      background-color: #434B5C;\n",
              "      box-shadow: 0px 1px 3px 1px rgba(0, 0, 0, 0.15);\n",
              "      filter: drop-shadow(0px 1px 2px rgba(0, 0, 0, 0.3));\n",
              "      fill: #FFFFFF;\n",
              "    }\n",
              "  </style>\n",
              "\n",
              "    <script>\n",
              "      const buttonEl =\n",
              "        document.querySelector('#df-0a7b6165-daad-438a-88cf-3438274c4c5f button.colab-df-convert');\n",
              "      buttonEl.style.display =\n",
              "        google.colab.kernel.accessAllowed ? 'block' : 'none';\n",
              "\n",
              "      async function convertToInteractive(key) {\n",
              "        const element = document.querySelector('#df-0a7b6165-daad-438a-88cf-3438274c4c5f');\n",
              "        const dataTable =\n",
              "          await google.colab.kernel.invokeFunction('convertToInteractive',\n",
              "                                                    [key], {});\n",
              "        if (!dataTable) return;\n",
              "\n",
              "        const docLinkHtml = 'Like what you see? Visit the ' +\n",
              "          '<a target=\"_blank\" href=https://colab.research.google.com/notebooks/data_table.ipynb>data table notebook</a>'\n",
              "          + ' to learn more about interactive tables.';\n",
              "        element.innerHTML = '';\n",
              "        dataTable['output_type'] = 'display_data';\n",
              "        await google.colab.output.renderOutput(dataTable, element);\n",
              "        const docLink = document.createElement('div');\n",
              "        docLink.innerHTML = docLinkHtml;\n",
              "        element.appendChild(docLink);\n",
              "      }\n",
              "    </script>\n",
              "  </div>\n",
              "\n",
              "\n",
              "<div id=\"df-be99b9d4-7d41-4984-aff8-13da6e168aaf\">\n",
              "  <button class=\"colab-df-quickchart\" onclick=\"quickchart('df-be99b9d4-7d41-4984-aff8-13da6e168aaf')\"\n",
              "            title=\"Suggest charts\"\n",
              "            style=\"display:none;\">\n",
              "\n",
              "<svg xmlns=\"http://www.w3.org/2000/svg\" height=\"24px\"viewBox=\"0 0 24 24\"\n",
              "     width=\"24px\">\n",
              "    <g>\n",
              "        <path d=\"M19 3H5c-1.1 0-2 .9-2 2v14c0 1.1.9 2 2 2h14c1.1 0 2-.9 2-2V5c0-1.1-.9-2-2-2zM9 17H7v-7h2v7zm4 0h-2V7h2v10zm4 0h-2v-4h2v4z\"/>\n",
              "    </g>\n",
              "</svg>\n",
              "  </button>\n",
              "\n",
              "<style>\n",
              "  .colab-df-quickchart {\n",
              "      --bg-color: #E8F0FE;\n",
              "      --fill-color: #1967D2;\n",
              "      --hover-bg-color: #E2EBFA;\n",
              "      --hover-fill-color: #174EA6;\n",
              "      --disabled-fill-color: #AAA;\n",
              "      --disabled-bg-color: #DDD;\n",
              "  }\n",
              "\n",
              "  [theme=dark] .colab-df-quickchart {\n",
              "      --bg-color: #3B4455;\n",
              "      --fill-color: #D2E3FC;\n",
              "      --hover-bg-color: #434B5C;\n",
              "      --hover-fill-color: #FFFFFF;\n",
              "      --disabled-bg-color: #3B4455;\n",
              "      --disabled-fill-color: #666;\n",
              "  }\n",
              "\n",
              "  .colab-df-quickchart {\n",
              "    background-color: var(--bg-color);\n",
              "    border: none;\n",
              "    border-radius: 50%;\n",
              "    cursor: pointer;\n",
              "    display: none;\n",
              "    fill: var(--fill-color);\n",
              "    height: 32px;\n",
              "    padding: 0;\n",
              "    width: 32px;\n",
              "  }\n",
              "\n",
              "  .colab-df-quickchart:hover {\n",
              "    background-color: var(--hover-bg-color);\n",
              "    box-shadow: 0 1px 2px rgba(60, 64, 67, 0.3), 0 1px 3px 1px rgba(60, 64, 67, 0.15);\n",
              "    fill: var(--button-hover-fill-color);\n",
              "  }\n",
              "\n",
              "  .colab-df-quickchart-complete:disabled,\n",
              "  .colab-df-quickchart-complete:disabled:hover {\n",
              "    background-color: var(--disabled-bg-color);\n",
              "    fill: var(--disabled-fill-color);\n",
              "    box-shadow: none;\n",
              "  }\n",
              "\n",
              "  .colab-df-spinner {\n",
              "    border: 2px solid var(--fill-color);\n",
              "    border-color: transparent;\n",
              "    border-bottom-color: var(--fill-color);\n",
              "    animation:\n",
              "      spin 1s steps(1) infinite;\n",
              "  }\n",
              "\n",
              "  @keyframes spin {\n",
              "    0% {\n",
              "      border-color: transparent;\n",
              "      border-bottom-color: var(--fill-color);\n",
              "      border-left-color: var(--fill-color);\n",
              "    }\n",
              "    20% {\n",
              "      border-color: transparent;\n",
              "      border-left-color: var(--fill-color);\n",
              "      border-top-color: var(--fill-color);\n",
              "    }\n",
              "    30% {\n",
              "      border-color: transparent;\n",
              "      border-left-color: var(--fill-color);\n",
              "      border-top-color: var(--fill-color);\n",
              "      border-right-color: var(--fill-color);\n",
              "    }\n",
              "    40% {\n",
              "      border-color: transparent;\n",
              "      border-right-color: var(--fill-color);\n",
              "      border-top-color: var(--fill-color);\n",
              "    }\n",
              "    60% {\n",
              "      border-color: transparent;\n",
              "      border-right-color: var(--fill-color);\n",
              "    }\n",
              "    80% {\n",
              "      border-color: transparent;\n",
              "      border-right-color: var(--fill-color);\n",
              "      border-bottom-color: var(--fill-color);\n",
              "    }\n",
              "    90% {\n",
              "      border-color: transparent;\n",
              "      border-bottom-color: var(--fill-color);\n",
              "    }\n",
              "  }\n",
              "</style>\n",
              "\n",
              "  <script>\n",
              "    async function quickchart(key) {\n",
              "      const quickchartButtonEl =\n",
              "        document.querySelector('#' + key + ' button');\n",
              "      quickchartButtonEl.disabled = true;  // To prevent multiple clicks.\n",
              "      quickchartButtonEl.classList.add('colab-df-spinner');\n",
              "      try {\n",
              "        const charts = await google.colab.kernel.invokeFunction(\n",
              "            'suggestCharts', [key], {});\n",
              "      } catch (error) {\n",
              "        console.error('Error during call to suggestCharts:', error);\n",
              "      }\n",
              "      quickchartButtonEl.classList.remove('colab-df-spinner');\n",
              "      quickchartButtonEl.classList.add('colab-df-quickchart-complete');\n",
              "    }\n",
              "    (() => {\n",
              "      let quickchartButtonEl =\n",
              "        document.querySelector('#df-be99b9d4-7d41-4984-aff8-13da6e168aaf button');\n",
              "      quickchartButtonEl.style.display =\n",
              "        google.colab.kernel.accessAllowed ? 'block' : 'none';\n",
              "    })();\n",
              "  </script>\n",
              "</div>\n",
              "\n",
              "  <div id=\"id_81b66afc-faf1-42ad-9b19-2fed986a7d55\">\n",
              "    <style>\n",
              "      .colab-df-generate {\n",
              "        background-color: #E8F0FE;\n",
              "        border: none;\n",
              "        border-radius: 50%;\n",
              "        cursor: pointer;\n",
              "        display: none;\n",
              "        fill: #1967D2;\n",
              "        height: 32px;\n",
              "        padding: 0 0 0 0;\n",
              "        width: 32px;\n",
              "      }\n",
              "\n",
              "      .colab-df-generate:hover {\n",
              "        background-color: #E2EBFA;\n",
              "        box-shadow: 0px 1px 2px rgba(60, 64, 67, 0.3), 0px 1px 3px 1px rgba(60, 64, 67, 0.15);\n",
              "        fill: #174EA6;\n",
              "      }\n",
              "\n",
              "      [theme=dark] .colab-df-generate {\n",
              "        background-color: #3B4455;\n",
              "        fill: #D2E3FC;\n",
              "      }\n",
              "\n",
              "      [theme=dark] .colab-df-generate:hover {\n",
              "        background-color: #434B5C;\n",
              "        box-shadow: 0px 1px 3px 1px rgba(0, 0, 0, 0.15);\n",
              "        filter: drop-shadow(0px 1px 2px rgba(0, 0, 0, 0.3));\n",
              "        fill: #FFFFFF;\n",
              "      }\n",
              "    </style>\n",
              "    <button class=\"colab-df-generate\" onclick=\"generateWithVariable('corr_matrix')\"\n",
              "            title=\"Generate code using this dataframe.\"\n",
              "            style=\"display:none;\">\n",
              "\n",
              "  <svg xmlns=\"http://www.w3.org/2000/svg\" height=\"24px\"viewBox=\"0 0 24 24\"\n",
              "       width=\"24px\">\n",
              "    <path d=\"M7,19H8.4L18.45,9,17,7.55,7,17.6ZM5,21V16.75L18.45,3.32a2,2,0,0,1,2.83,0l1.4,1.43a1.91,1.91,0,0,1,.58,1.4,1.91,1.91,0,0,1-.58,1.4L9.25,21ZM18.45,9,17,7.55Zm-12,3A5.31,5.31,0,0,0,4.9,8.1,5.31,5.31,0,0,0,1,6.5,5.31,5.31,0,0,0,4.9,4.9,5.31,5.31,0,0,0,6.5,1,5.31,5.31,0,0,0,8.1,4.9,5.31,5.31,0,0,0,12,6.5,5.46,5.46,0,0,0,6.5,12Z\"/>\n",
              "  </svg>\n",
              "    </button>\n",
              "    <script>\n",
              "      (() => {\n",
              "      const buttonEl =\n",
              "        document.querySelector('#id_81b66afc-faf1-42ad-9b19-2fed986a7d55 button.colab-df-generate');\n",
              "      buttonEl.style.display =\n",
              "        google.colab.kernel.accessAllowed ? 'block' : 'none';\n",
              "\n",
              "      buttonEl.onclick = () => {\n",
              "        google.colab.notebook.generateWithVariable('corr_matrix');\n",
              "      }\n",
              "      })();\n",
              "    </script>\n",
              "  </div>\n",
              "\n",
              "    </div>\n",
              "  </div>\n"
            ],
            "application/vnd.google.colaboratory.intrinsic+json": {
              "type": "dataframe",
              "variable_name": "corr_matrix"
            }
          },
          "metadata": {},
          "execution_count": 83
        }
      ]
    },
    {
      "cell_type": "code",
      "execution_count": null,
      "metadata": {
        "id": "rocAu9CqRcDc",
        "colab": {
          "base_uri": "https://localhost:8080/",
          "height": 754
        },
        "outputId": "78b7fe1a-387b-4405-c56f-f0d60f3099c1"
      },
      "outputs": [
        {
          "output_type": "display_data",
          "data": {
            "text/plain": [
              "<Figure size 1200x800 with 2 Axes>"
            ],
            "image/png": "[encoded data removed]"
          },
          "metadata": {}
        }
      ],
      "source": [
        "# Plot a correlation heatmap to visualize the numerical representation of the correlation matrices\n",
        "plt.figure(figsize=(12, 8))\n",
        "sns.heatmap(corr_matrix, annot=False, cmap=\"coolwarm\", linewidths=0.5)\n",
        "plt.title(\"Feature Correlation Heatmap\")\n",
        "plt.show()"
      ]
    },
    {
      "cell_type": "markdown",
      "source": [
        "According to the heatmap, winning is highly correlated with offensive efficiency, points, and ratings, however scoring is negatively impacted by defensive efficiency. Differences in offensive efficiency and rating have the most effects on the winner variable. Team1_rating and team1_bpi are two examples of characteristics that can be unnecessary and could be improved in feature selection."
      ],
      "metadata": {
        "id": "hBQwh3JUBmjr"
      }
    },
    {
      "cell_type": "code",
      "execution_count": null,
      "metadata": {
        "id": "1vXiPXmGRcDc"
      },
      "outputs": [],
      "source": [
        "# Grouping by winners and computing mean values\n",
        "mean_comparison = team_matchups.groupby(\"winner\")[numeric_features].mean().T"
      ]
    },
    {
      "cell_type": "code",
      "execution_count": null,
      "metadata": {
        "id": "oWtBzgT9RcDc",
        "colab": {
          "base_uri": "https://localhost:8080/",
          "height": 648
        },
        "outputId": "ca85aa33-215e-46be-cfb3-a3a6b7873f6c"
      },
      "outputs": [
        {
          "output_type": "display_data",
          "data": {
            "text/plain": [
              "<Figure size 1200x600 with 1 Axes>"
            ],
            "image/png": "[encoded data removed]"
          },
          "metadata": {}
        }
      ],
      "source": [
        "# Plot mean comparison as a bar chart\n",
        "mean_comparison.plot(kind=\"bar\", figsize=(12, 6))\n",
        "plt.title(\"Comparison of Key Stats Between Winning and Losing Teams\")\n",
        "plt.ylabel(\"Mean Value\")\n",
        "plt.xlabel(\"Statistic\")\n",
        "plt.xticks(rotation=45, ha='right')\n",
        "plt.legend([\"Losing Team\", \"Winning Team\"], loc=\"upper right\")\n",
        "plt.show()"
      ]
    },
    {
      "cell_type": "markdown",
      "source": [
        "In comparison with losing teams, winning teams typically have greater ratings, offensive efficiency, and BPI.  Both teams have comparable defensive effectiveness and tempo, but victors often have higher shooting percentages and more experience."
      ],
      "metadata": {
        "id": "wIUJatn7AgfU"
      }
    },
    {
      "cell_type": "code",
      "execution_count": null,
      "metadata": {
        "id": "c2wTQWeORcDd"
      },
      "outputs": [],
      "source": [
        "# Define key features to visualize\n",
        "key_features = [\n",
        "    \"team1_bpi\", \"offensive_efficiency_team1\", \"defensive_efficiency_team1\",\n",
        "    \"team1_tempo\", \"team1_efgpct\", \"team1_experience\", \"team1_rating\"\n",
        "]"
      ]
    },
    {
      "cell_type": "code",
      "execution_count": null,
      "metadata": {
        "id": "4h-iRXPMRcDd",
        "colab": {
          "base_uri": "https://localhost:8080/",
          "height": 664
        },
        "outputId": "4f42feaa-205f-4c61-c4f2-784348db85cc"
      },
      "outputs": [
        {
          "output_type": "display_data",
          "data": {
            "text/plain": [
              "<Figure size 1400x1000 with 7 Axes>"
            ],
            "image/png": "[encoded data removed]"
          },
          "metadata": {}
        }
      ],
      "source": [
        "# Create boxplots for key features grouped by winner\n",
        "plt.figure(figsize=(14, 10))\n",
        "for i, feature in enumerate(key_features, 1):\n",
        "    plt.subplot(3, 3, i)\n",
        "    sns.boxplot(x=team_matchups[\"winner\"], y=team_matchups[feature], hue=team_matchups[\"winner\"], palette=[\"red\", \"blue\"])\n",
        "    plt.title(f\"Boxplot of {feature} by Winning Team\")\n",
        "    plt.xlabel(\"Winner (0 = Team2, 1 = Team1)\")\n",
        "    plt.ylabel(feature)\n",
        "\n",
        "plt.tight_layout()\n",
        "plt.show()\n"
      ]
    },
    {
      "cell_type": "markdown",
      "source": [
        "1. team1_bpi: Winning teams generally have lower BPI values.\n",
        "2. offensive_efficiency_team1: Winning teams show higher offensive efficiency.\n",
        "3. defensive_efficiency_team1: Winning teams have better defensive efficiency.\n",
        "4. team1_tempo: Tempo is similar between winning and losing teams.\n",
        "5. team1_efgpct: Effective field goal percentage is slightly higher for winners.\n",
        "6. team1_experience: No major difference in experience between winners and losers.\n",
        "7. team1_rating: Winning teams tend to have higher ratings."
      ],
      "metadata": {
        "id": "axlnOwKKAi12"
      }
    },
    {
      "cell_type": "markdown",
      "metadata": {
        "id": "yk3x5zPBRcDd"
      },
      "source": [
        "**Exploratory Data Analysis (EDA) Summary - March Madness ML Predictor**\n",
        "\n",
        "**1. Data Overview**\n",
        "- The dataset contains **358 matchups** with **27 columns** capturing team statistics.\n",
        "- No **missing values** were found in the dataset.\n",
        "\n",
        "**2. Target Variable Analysis**\n",
        "- The target variable (`winner`) is slightly imbalanced, with **Team 1 winning fewer matchups than losing**.\n",
        "- This may suggest that matchups were structured in a way that often favors Team 2.\n",
        "\n",
        "**3. Feature Distributions**\n",
        "- **BPI (Basketball Power Index):** Right-skewed, meaning there are more lower-ranked teams.\n",
        "- **Offensive & Defensive Efficiency:** Normally distributed, suggesting a balance in team strengths.\n",
        "- **Effective FG% (eFG%):** Most teams have a shooting efficiency between **45%-55%**.\n",
        "- **Experience & Ratings:** Distributed fairly even, though some teams have significantly more experience.\n",
        "\n",
        "**4. Correlation Analysis**\n",
        "- **Stronger Correlations with Winning:**\n",
        "  - **Offensive & Defensive Efficiency Differences:** Higher efficiency differences increase win probability.\n",
        "  - **Effective FG% Difference:** Teams with a better shooting percentage tend to win more.\n",
        "  - **BPI & Rating Differences:** Higher-ranked teams (lower BPI) are more likely to win.\n",
        "\n",
        "- **Weak or No Correlation:**\n",
        "  - **Tempo:** The speed of play doesn’t significantly affect winning chances.\n",
        "  - **Experience:** Having more experienced players doesn’t always translate to more wins.\n",
        "\n",
        "**5. Winning vs. Losing Teams Analysis**\n",
        "- **Winning Teams Tend to Have:**\n",
        "  - **Lower BPI values (stronger ranking).**\n",
        "  - **Higher offensive efficiency and defensive efficiency.**\n",
        "  - **Slightly better effective FG% and overall team rating.**\n",
        "\n",
        "- **No Major Differences in:**\n",
        "  - **Team Tempo**\n",
        "  - **Experience Levels**\n",
        "\n",
        "**6. Boxplot Analysis of Key Features**\n",
        "- Winning teams have:\n",
        "  - **Higher offensive efficiency**\n",
        "  - **Better defensive efficiency**\n",
        "  - **Higher team rating**\n",
        "- The variability in **experience and tempo** is similar between winners and losers, reinforcing that they are **not strong predictors**.\n",
        "\n",
        "---\n",
        "\n",
        "> **Final Thoughts:**  \n",
        "> Our findings suggest that offensive efficiency, defensive efficiency, and shooting percentage are the most important factors in predicting wins. We have uses these insights to guide our model design.\n"
      ]
    },
    {
      "cell_type": "markdown",
      "metadata": {
        "id": "npN5qCbbRcDd"
      },
      "source": [
        "### Missing Values"
      ]
    },
    {
      "cell_type": "code",
      "execution_count": null,
      "metadata": {
        "id": "JpE2o4ggRcDd",
        "colab": {
          "base_uri": "https://localhost:8080/",
          "height": 899
        },
        "outputId": "46d52ae9-8b7d-4028-896f-19d374b822fb"
      },
      "outputs": [
        {
          "output_type": "execute_result",
          "data": {
            "text/plain": [
              "team1                              0\n",
              "team1_bpi                          0\n",
              "team2                              0\n",
              "team2_bpi                          0\n",
              "team1_points                       0\n",
              "team2_points                       0\n",
              "points_difference                  0\n",
              "offensive_efficiency_team1         0\n",
              "offensive_efficiency_team2         0\n",
              "offensive_efficiency_difference    0\n",
              "defensive_efficiency_team1         0\n",
              "defensive_efficiency_team2         0\n",
              "defensive_efficiency_difference    0\n",
              "team1_tempo                        0\n",
              "team2_tempo                        0\n",
              "tempo_difference                   0\n",
              "team1_efgpct                       0\n",
              "team2_efgpct                       0\n",
              "efgpct_difference                  0\n",
              "team1_experience                   0\n",
              "team2_experience                   0\n",
              "experience_difference              0\n",
              "team1_rating                       0\n",
              "team2_rating                       0\n",
              "rating_difference                  0\n",
              "winner                             0\n",
              "dtype: int64"
            ],
            "text/html": [
              "<div>\n",
              "<style scoped>\n",
              "    .dataframe tbody tr th:only-of-type {\n",
              "        vertical-align: middle;\n",
              "    }\n",
              "\n",
              "    .dataframe tbody tr th {\n",
              "        vertical-align: top;\n",
              "    }\n",
              "\n",
              "    .dataframe thead th {\n",
              "        text-align: right;\n",
              "    }\n",
              "</style>\n",
              "<table border=\"1\" class=\"dataframe\">\n",
              "  <thead>\n",
              "    <tr style=\"text-align: right;\">\n",
              "      <th></th>\n",
              "      <th>0</th>\n",
              "    </tr>\n",
              "  </thead>\n",
              "  <tbody>\n",
              "    <tr>\n",
              "      <th>team1</th>\n",
              "      <td>0</td>\n",
              "    </tr>\n",
              "    <tr>\n",
              "      <th>team1_bpi</th>\n",
              "      <td>0</td>\n",
              "    </tr>\n",
              "    <tr>\n",
              "      <th>team2</th>\n",
              "      <td>0</td>\n",
              "    </tr>\n",
              "    <tr>\n",
              "      <th>team2_bpi</th>\n",
              "      <td>0</td>\n",
              "    </tr>\n",
              "    <tr>\n",
              "      <th>team1_points</th>\n",
              "      <td>0</td>\n",
              "    </tr>\n",
              "    <tr>\n",
              "      <th>team2_points</th>\n",
              "      <td>0</td>\n",
              "    </tr>\n",
              "    <tr>\n",
              "      <th>points_difference</th>\n",
              "      <td>0</td>\n",
              "    </tr>\n",
              "    <tr>\n",
              "      <th>offensive_efficiency_team1</th>\n",
              "      <td>0</td>\n",
              "    </tr>\n",
              "    <tr>\n",
              "      <th>offensive_efficiency_team2</th>\n",
              "      <td>0</td>\n",
              "    </tr>\n",
              "    <tr>\n",
              "      <th>offensive_efficiency_difference</th>\n",
              "      <td>0</td>\n",
              "    </tr>\n",
              "    <tr>\n",
              "      <th>defensive_efficiency_team1</th>\n",
              "      <td>0</td>\n",
              "    </tr>\n",
              "    <tr>\n",
              "      <th>defensive_efficiency_team2</th>\n",
              "      <td>0</td>\n",
              "    </tr>\n",
              "    <tr>\n",
              "      <th>defensive_efficiency_difference</th>\n",
              "      <td>0</td>\n",
              "    </tr>\n",
              "    <tr>\n",
              "      <th>team1_tempo</th>\n",
              "      <td>0</td>\n",
              "    </tr>\n",
              "    <tr>\n",
              "      <th>team2_tempo</th>\n",
              "      <td>0</td>\n",
              "    </tr>\n",
              "    <tr>\n",
              "      <th>tempo_difference</th>\n",
              "      <td>0</td>\n",
              "    </tr>\n",
              "    <tr>\n",
              "      <th>team1_efgpct</th>\n",
              "      <td>0</td>\n",
              "    </tr>\n",
              "    <tr>\n",
              "      <th>team2_efgpct</th>\n",
              "      <td>0</td>\n",
              "    </tr>\n",
              "    <tr>\n",
              "      <th>efgpct_difference</th>\n",
              "      <td>0</td>\n",
              "    </tr>\n",
              "    <tr>\n",
              "      <th>team1_experience</th>\n",
              "      <td>0</td>\n",
              "    </tr>\n",
              "    <tr>\n",
              "      <th>team2_experience</th>\n",
              "      <td>0</td>\n",
              "    </tr>\n",
              "    <tr>\n",
              "      <th>experience_difference</th>\n",
              "      <td>0</td>\n",
              "    </tr>\n",
              "    <tr>\n",
              "      <th>team1_rating</th>\n",
              "      <td>0</td>\n",
              "    </tr>\n",
              "    <tr>\n",
              "      <th>team2_rating</th>\n",
              "      <td>0</td>\n",
              "    </tr>\n",
              "    <tr>\n",
              "      <th>rating_difference</th>\n",
              "      <td>0</td>\n",
              "    </tr>\n",
              "    <tr>\n",
              "      <th>winner</th>\n",
              "      <td>0</td>\n",
              "    </tr>\n",
              "  </tbody>\n",
              "</table>\n",
              "</div><br><label><b>dtype:</b> int64</label>"
            ]
          },
          "metadata": {},
          "execution_count": 89
        }
      ],
      "source": [
        "team_matchups.isna().sum()"
      ]
    },
    {
      "cell_type": "code",
      "execution_count": null,
      "metadata": {
        "id": "4fyoMsTpRcDe",
        "colab": {
          "base_uri": "https://localhost:8080/",
          "height": 899
        },
        "outputId": "9ce26fab-6951-4c40-e885-683236b274bf"
      },
      "outputs": [
        {
          "output_type": "execute_result",
          "data": {
            "text/plain": [
              "team1                               object\n",
              "team1_bpi                            int64\n",
              "team2                               object\n",
              "team2_bpi                            int64\n",
              "team1_points                         int64\n",
              "team2_points                         int64\n",
              "points_difference                    int64\n",
              "offensive_efficiency_team1         float64\n",
              "offensive_efficiency_team2         float64\n",
              "offensive_efficiency_difference    float64\n",
              "defensive_efficiency_team1         float64\n",
              "defensive_efficiency_team2         float64\n",
              "defensive_efficiency_difference    float64\n",
              "team1_tempo                        float64\n",
              "team2_tempo                        float64\n",
              "tempo_difference                   float64\n",
              "team1_efgpct                       float64\n",
              "team2_efgpct                       float64\n",
              "efgpct_difference                  float64\n",
              "team1_experience                   float64\n",
              "team2_experience                   float64\n",
              "experience_difference              float64\n",
              "team1_rating                       float64\n",
              "team2_rating                       float64\n",
              "rating_difference                  float64\n",
              "winner                               int64\n",
              "dtype: object"
            ],
            "text/html": [
              "<div>\n",
              "<style scoped>\n",
              "    .dataframe tbody tr th:only-of-type {\n",
              "        vertical-align: middle;\n",
              "    }\n",
              "\n",
              "    .dataframe tbody tr th {\n",
              "        vertical-align: top;\n",
              "    }\n",
              "\n",
              "    .dataframe thead th {\n",
              "        text-align: right;\n",
              "    }\n",
              "</style>\n",
              "<table border=\"1\" class=\"dataframe\">\n",
              "  <thead>\n",
              "    <tr style=\"text-align: right;\">\n",
              "      <th></th>\n",
              "      <th>0</th>\n",
              "    </tr>\n",
              "  </thead>\n",
              "  <tbody>\n",
              "    <tr>\n",
              "      <th>team1</th>\n",
              "      <td>object</td>\n",
              "    </tr>\n",
              "    <tr>\n",
              "      <th>team1_bpi</th>\n",
              "      <td>int64</td>\n",
              "    </tr>\n",
              "    <tr>\n",
              "      <th>team2</th>\n",
              "      <td>object</td>\n",
              "    </tr>\n",
              "    <tr>\n",
              "      <th>team2_bpi</th>\n",
              "      <td>int64</td>\n",
              "    </tr>\n",
              "    <tr>\n",
              "      <th>team1_points</th>\n",
              "      <td>int64</td>\n",
              "    </tr>\n",
              "    <tr>\n",
              "      <th>team2_points</th>\n",
              "      <td>int64</td>\n",
              "    </tr>\n",
              "    <tr>\n",
              "      <th>points_difference</th>\n",
              "      <td>int64</td>\n",
              "    </tr>\n",
              "    <tr>\n",
              "      <th>offensive_efficiency_team1</th>\n",
              "      <td>float64</td>\n",
              "    </tr>\n",
              "    <tr>\n",
              "      <th>offensive_efficiency_team2</th>\n",
              "      <td>float64</td>\n",
              "    </tr>\n",
              "    <tr>\n",
              "      <th>offensive_efficiency_difference</th>\n",
              "      <td>float64</td>\n",
              "    </tr>\n",
              "    <tr>\n",
              "      <th>defensive_efficiency_team1</th>\n",
              "      <td>float64</td>\n",
              "    </tr>\n",
              "    <tr>\n",
              "      <th>defensive_efficiency_team2</th>\n",
              "      <td>float64</td>\n",
              "    </tr>\n",
              "    <tr>\n",
              "      <th>defensive_efficiency_difference</th>\n",
              "      <td>float64</td>\n",
              "    </tr>\n",
              "    <tr>\n",
              "      <th>team1_tempo</th>\n",
              "      <td>float64</td>\n",
              "    </tr>\n",
              "    <tr>\n",
              "      <th>team2_tempo</th>\n",
              "      <td>float64</td>\n",
              "    </tr>\n",
              "    <tr>\n",
              "      <th>tempo_difference</th>\n",
              "      <td>float64</td>\n",
              "    </tr>\n",
              "    <tr>\n",
              "      <th>team1_efgpct</th>\n",
              "      <td>float64</td>\n",
              "    </tr>\n",
              "    <tr>\n",
              "      <th>team2_efgpct</th>\n",
              "      <td>float64</td>\n",
              "    </tr>\n",
              "    <tr>\n",
              "      <th>efgpct_difference</th>\n",
              "      <td>float64</td>\n",
              "    </tr>\n",
              "    <tr>\n",
              "      <th>team1_experience</th>\n",
              "      <td>float64</td>\n",
              "    </tr>\n",
              "    <tr>\n",
              "      <th>team2_experience</th>\n",
              "      <td>float64</td>\n",
              "    </tr>\n",
              "    <tr>\n",
              "      <th>experience_difference</th>\n",
              "      <td>float64</td>\n",
              "    </tr>\n",
              "    <tr>\n",
              "      <th>team1_rating</th>\n",
              "      <td>float64</td>\n",
              "    </tr>\n",
              "    <tr>\n",
              "      <th>team2_rating</th>\n",
              "      <td>float64</td>\n",
              "    </tr>\n",
              "    <tr>\n",
              "      <th>rating_difference</th>\n",
              "      <td>float64</td>\n",
              "    </tr>\n",
              "    <tr>\n",
              "      <th>winner</th>\n",
              "      <td>int64</td>\n",
              "    </tr>\n",
              "  </tbody>\n",
              "</table>\n",
              "</div><br><label><b>dtype:</b> object</label>"
            ]
          },
          "metadata": {},
          "execution_count": 90
        }
      ],
      "source": [
        "team_matchups.dtypes"
      ]
    },
    {
      "cell_type": "code",
      "execution_count": null,
      "metadata": {
        "id": "zSNV-RBVRcDe"
      },
      "outputs": [],
      "source": [
        "team_matchups = team_matchups.drop(['team1', 'team2'], axis=1)"
      ]
    },
    {
      "cell_type": "code",
      "source": [
        "team_matchups.head()"
      ],
      "metadata": {
        "colab": {
          "base_uri": "https://localhost:8080/",
          "height": 256
        },
        "id": "c4IwZBxmRwDf",
        "outputId": "50b53ae2-4bfa-44da-a50e-d7ba1a304fc9"
      },
      "execution_count": null,
      "outputs": [
        {
          "output_type": "execute_result",
          "data": {
            "text/plain": [
              "   team1_bpi  team2_bpi  team1_points  team2_points  points_difference  \\\n",
              "0         21          9            63           101                 38   \n",
              "1         35         34            80            72                  8   \n",
              "2         27         11            89            92                  3   \n",
              "3         49         26            72            64                  8   \n",
              "4          3          2            74            69                  5   \n",
              "\n",
              "   offensive_efficiency_team1  offensive_efficiency_team2  \\\n",
              "0                       121.1                       125.2   \n",
              "1                       118.1                       116.7   \n",
              "2                       119.2                       115.4   \n",
              "3                       113.7                       116.5   \n",
              "4                       130.7                       124.9   \n",
              "\n",
              "   offensive_efficiency_difference  defensive_efficiency_team1  \\\n",
              "0                              4.1                       100.8   \n",
              "1                              1.4                        98.6   \n",
              "2                              3.8                       102.0   \n",
              "3                              2.8                        96.6   \n",
              "4                              5.8                        93.1   \n",
              "\n",
              "   defensive_efficiency_team2  ...  team1_efgpct  team2_efgpct  \\\n",
              "0                        97.9  ...         52.05         56.41   \n",
              "1                       100.7  ...         53.70         52.90   \n",
              "2                        92.2  ...         54.26         53.14   \n",
              "3                        95.0  ...         51.25         52.94   \n",
              "4                        89.5  ...         56.05         53.21   \n",
              "\n",
              "   efgpct_difference  team1_experience  team2_experience  \\\n",
              "0               4.36              2.72              2.97   \n",
              "1               0.81              2.16              2.85   \n",
              "2               1.12              2.24              3.62   \n",
              "3               1.69              2.45              2.23   \n",
              "4               2.84              2.79              2.63   \n",
              "\n",
              "   experience_difference  team1_rating  team2_rating  rating_difference  \\\n",
              "0                   0.12          20.3          27.3                7.0   \n",
              "1                   1.46          19.5          16.0                3.5   \n",
              "2                   0.01          17.2          23.2                6.0   \n",
              "3                   0.19          17.1          21.5                4.4   \n",
              "4                   1.25          37.6          35.4                2.2   \n",
              "\n",
              "   winner  \n",
              "0       0  \n",
              "1       1  \n",
              "2       0  \n",
              "3       1  \n",
              "4       1  \n",
              "\n",
              "[5 rows x 24 columns]"
            ],
            "text/html": [
              "\n",
              "  <div id=\"df-3372b4fd-3505-428b-b1bb-6dc55b740014\" class=\"colab-df-container\">\n",
              "    <div>\n",
              "<style scoped>\n",
              "    .dataframe tbody tr th:only-of-type {\n",
              "        vertical-align: middle;\n",
              "    }\n",
              "\n",
              "    .dataframe tbody tr th {\n",
              "        vertical-align: top;\n",
              "    }\n",
              "\n",
              "    .dataframe thead th {\n",
              "        text-align: right;\n",
              "    }\n",
              "</style>\n",
              "<table border=\"1\" class=\"dataframe\">\n",
              "  <thead>\n",
              "    <tr style=\"text-align: right;\">\n",
              "      <th></th>\n",
              "      <th>team1_bpi</th>\n",
              "      <th>team2_bpi</th>\n",
              "      <th>team1_points</th>\n",
              "      <th>team2_points</th>\n",
              "      <th>points_difference</th>\n",
              "      <th>offensive_efficiency_team1</th>\n",
              "      <th>offensive_efficiency_team2</th>\n",
              "      <th>offensive_efficiency_difference</th>\n",
              "      <th>defensive_efficiency_team1</th>\n",
              "      <th>defensive_efficiency_team2</th>\n",
              "      <th>...</th>\n",
              "      <th>team1_efgpct</th>\n",
              "      <th>team2_efgpct</th>\n",
              "      <th>efgpct_difference</th>\n",
              "      <th>team1_experience</th>\n",
              "      <th>team2_experience</th>\n",
              "      <th>experience_difference</th>\n",
              "      <th>team1_rating</th>\n",
              "      <th>team2_rating</th>\n",
              "      <th>rating_difference</th>\n",
              "      <th>winner</th>\n",
              "    </tr>\n",
              "  </thead>\n",
              "  <tbody>\n",
              "    <tr>\n",
              "      <th>0</th>\n",
              "      <td>21</td>\n",
              "      <td>9</td>\n",
              "      <td>63</td>\n",
              "      <td>101</td>\n",
              "      <td>38</td>\n",
              "      <td>121.1</td>\n",
              "      <td>125.2</td>\n",
              "      <td>4.1</td>\n",
              "      <td>100.8</td>\n",
              "      <td>97.9</td>\n",
              "      <td>...</td>\n",
              "      <td>52.05</td>\n",
              "      <td>56.41</td>\n",
              "      <td>4.36</td>\n",
              "      <td>2.72</td>\n",
              "      <td>2.97</td>\n",
              "      <td>0.12</td>\n",
              "      <td>20.3</td>\n",
              "      <td>27.3</td>\n",
              "      <td>7.0</td>\n",
              "      <td>0</td>\n",
              "    </tr>\n",
              "    <tr>\n",
              "      <th>1</th>\n",
              "      <td>35</td>\n",
              "      <td>34</td>\n",
              "      <td>80</td>\n",
              "      <td>72</td>\n",
              "      <td>8</td>\n",
              "      <td>118.1</td>\n",
              "      <td>116.7</td>\n",
              "      <td>1.4</td>\n",
              "      <td>98.6</td>\n",
              "      <td>100.7</td>\n",
              "      <td>...</td>\n",
              "      <td>53.70</td>\n",
              "      <td>52.90</td>\n",
              "      <td>0.81</td>\n",
              "      <td>2.16</td>\n",
              "      <td>2.85</td>\n",
              "      <td>1.46</td>\n",
              "      <td>19.5</td>\n",
              "      <td>16.0</td>\n",
              "      <td>3.5</td>\n",
              "      <td>1</td>\n",
              "    </tr>\n",
              "    <tr>\n",
              "      <th>2</th>\n",
              "      <td>27</td>\n",
              "      <td>11</td>\n",
              "      <td>89</td>\n",
              "      <td>92</td>\n",
              "      <td>3</td>\n",
              "      <td>119.2</td>\n",
              "      <td>115.4</td>\n",
              "      <td>3.8</td>\n",
              "      <td>102.0</td>\n",
              "      <td>92.2</td>\n",
              "      <td>...</td>\n",
              "      <td>54.26</td>\n",
              "      <td>53.14</td>\n",
              "      <td>1.12</td>\n",
              "      <td>2.24</td>\n",
              "      <td>3.62</td>\n",
              "      <td>0.01</td>\n",
              "      <td>17.2</td>\n",
              "      <td>23.2</td>\n",
              "      <td>6.0</td>\n",
              "      <td>0</td>\n",
              "    </tr>\n",
              "    <tr>\n",
              "      <th>3</th>\n",
              "      <td>49</td>\n",
              "      <td>26</td>\n",
              "      <td>72</td>\n",
              "      <td>64</td>\n",
              "      <td>8</td>\n",
              "      <td>113.7</td>\n",
              "      <td>116.5</td>\n",
              "      <td>2.8</td>\n",
              "      <td>96.6</td>\n",
              "      <td>95.0</td>\n",
              "      <td>...</td>\n",
              "      <td>51.25</td>\n",
              "      <td>52.94</td>\n",
              "      <td>1.69</td>\n",
              "      <td>2.45</td>\n",
              "      <td>2.23</td>\n",
              "      <td>0.19</td>\n",
              "      <td>17.1</td>\n",
              "      <td>21.5</td>\n",
              "      <td>4.4</td>\n",
              "      <td>1</td>\n",
              "    </tr>\n",
              "    <tr>\n",
              "      <th>4</th>\n",
              "      <td>3</td>\n",
              "      <td>2</td>\n",
              "      <td>74</td>\n",
              "      <td>69</td>\n",
              "      <td>5</td>\n",
              "      <td>130.7</td>\n",
              "      <td>124.9</td>\n",
              "      <td>5.8</td>\n",
              "      <td>93.1</td>\n",
              "      <td>89.5</td>\n",
              "      <td>...</td>\n",
              "      <td>56.05</td>\n",
              "      <td>53.21</td>\n",
              "      <td>2.84</td>\n",
              "      <td>2.79</td>\n",
              "      <td>2.63</td>\n",
              "      <td>1.25</td>\n",
              "      <td>37.6</td>\n",
              "      <td>35.4</td>\n",
              "      <td>2.2</td>\n",
              "      <td>1</td>\n",
              "    </tr>\n",
              "  </tbody>\n",
              "</table>\n",
              "<p>5 rows × 24 columns</p>\n",
              "</div>\n",
              "    <div class=\"colab-df-buttons\">\n",
              "\n",
              "  <div class=\"colab-df-container\">\n",
              "    <button class=\"colab-df-convert\" onclick=\"convertToInteractive('df-3372b4fd-3505-428b-b1bb-6dc55b740014')\"\n",
              "            title=\"Convert this dataframe to an interactive table.\"\n",
              "            style=\"display:none;\">\n",
              "\n",
              "  <svg xmlns=\"http://www.w3.org/2000/svg\" height=\"24px\" viewBox=\"0 -960 960 960\">\n",
              "    <path d=\"M120-120v-720h720v720H120Zm60-500h600v-160H180v160Zm220 220h160v-160H400v160Zm0 220h160v-160H400v160ZM180-400h160v-160H180v160Zm440 0h160v-160H620v160ZM180-180h160v-160H180v160Zm440 0h160v-160H620v160Z\"/>\n",
              "  </svg>\n",
              "    </button>\n",
              "\n",
              "  <style>\n",
              "    .colab-df-container {\n",
              "      display:flex;\n",
              "      gap: 12px;\n",
              "    }\n",
              "\n",
              "    .colab-df-convert {\n",
              "      background-color: #E8F0FE;\n",
              "      border: none;\n",
              "      border-radius: 50%;\n",
              "      cursor: pointer;\n",
              "      display: none;\n",
              "      fill: #1967D2;\n",
              "      height: 32px;\n",
              "      padding: 0 0 0 0;\n",
              "      width: 32px;\n",
              "    }\n",
              "\n",
              "    .colab-df-convert:hover {\n",
              "      background-color: #E2EBFA;\n",
              "      box-shadow: 0px 1px 2px rgba(60, 64, 67, 0.3), 0px 1px 3px 1px rgba(60, 64, 67, 0.15);\n",
              "      fill: #174EA6;\n",
              "    }\n",
              "\n",
              "    .colab-df-buttons div {\n",
              "      margin-bottom: 4px;\n",
              "    }\n",
              "\n",
              "    [theme=dark] .colab-df-convert {\n",
              "      background-color: #3B4455;\n",
              "      fill: #D2E3FC;\n",
              "    }\n",
              "\n",
              "    [theme=dark] .colab-df-convert:hover {\n",
              "      background-color: #434B5C;\n",
              "      box-shadow: 0px 1px 3px 1px rgba(0, 0, 0, 0.15);\n",
              "      filter: drop-shadow(0px 1px 2px rgba(0, 0, 0, 0.3));\n",
              "      fill: #FFFFFF;\n",
              "    }\n",
              "  </style>\n",
              "\n",
              "    <script>\n",
              "      const buttonEl =\n",
              "        document.querySelector('#df-3372b4fd-3505-428b-b1bb-6dc55b740014 button.colab-df-convert');\n",
              "      buttonEl.style.display =\n",
              "        google.colab.kernel.accessAllowed ? 'block' : 'none';\n",
              "\n",
              "      async function convertToInteractive(key) {\n",
              "        const element = document.querySelector('#df-3372b4fd-3505-428b-b1bb-6dc55b740014');\n",
              "        const dataTable =\n",
              "          await google.colab.kernel.invokeFunction('convertToInteractive',\n",
              "                                                    [key], {});\n",
              "        if (!dataTable) return;\n",
              "\n",
              "        const docLinkHtml = 'Like what you see? Visit the ' +\n",
              "          '<a target=\"_blank\" href=https://colab.research.google.com/notebooks/data_table.ipynb>data table notebook</a>'\n",
              "          + ' to learn more about interactive tables.';\n",
              "        element.innerHTML = '';\n",
              "        dataTable['output_type'] = 'display_data';\n",
              "        await google.colab.output.renderOutput(dataTable, element);\n",
              "        const docLink = document.createElement('div');\n",
              "        docLink.innerHTML = docLinkHtml;\n",
              "        element.appendChild(docLink);\n",
              "      }\n",
              "    </script>\n",
              "  </div>\n",
              "\n",
              "\n",
              "<div id=\"df-8c0406d0-59cb-403a-b155-0b6970dee1ac\">\n",
              "  <button class=\"colab-df-quickchart\" onclick=\"quickchart('df-8c0406d0-59cb-403a-b155-0b6970dee1ac')\"\n",
              "            title=\"Suggest charts\"\n",
              "            style=\"display:none;\">\n",
              "\n",
              "<svg xmlns=\"http://www.w3.org/2000/svg\" height=\"24px\"viewBox=\"0 0 24 24\"\n",
              "     width=\"24px\">\n",
              "    <g>\n",
              "        <path d=\"M19 3H5c-1.1 0-2 .9-2 2v14c0 1.1.9 2 2 2h14c1.1 0 2-.9 2-2V5c0-1.1-.9-2-2-2zM9 17H7v-7h2v7zm4 0h-2V7h2v10zm4 0h-2v-4h2v4z\"/>\n",
              "    </g>\n",
              "</svg>\n",
              "  </button>\n",
              "\n",
              "<style>\n",
              "  .colab-df-quickchart {\n",
              "      --bg-color: #E8F0FE;\n",
              "      --fill-color: #1967D2;\n",
              "      --hover-bg-color: #E2EBFA;\n",
              "      --hover-fill-color: #174EA6;\n",
              "      --disabled-fill-color: #AAA;\n",
              "      --disabled-bg-color: #DDD;\n",
              "  }\n",
              "\n",
              "  [theme=dark] .colab-df-quickchart {\n",
              "      --bg-color: #3B4455;\n",
              "      --fill-color: #D2E3FC;\n",
              "      --hover-bg-color: #434B5C;\n",
              "      --hover-fill-color: #FFFFFF;\n",
              "      --disabled-bg-color: #3B4455;\n",
              "      --disabled-fill-color: #666;\n",
              "  }\n",
              "\n",
              "  .colab-df-quickchart {\n",
              "    background-color: var(--bg-color);\n",
              "    border: none;\n",
              "    border-radius: 50%;\n",
              "    cursor: pointer;\n",
              "    display: none;\n",
              "    fill: var(--fill-color);\n",
              "    height: 32px;\n",
              "    padding: 0;\n",
              "    width: 32px;\n",
              "  }\n",
              "\n",
              "  .colab-df-quickchart:hover {\n",
              "    background-color: var(--hover-bg-color);\n",
              "    box-shadow: 0 1px 2px rgba(60, 64, 67, 0.3), 0 1px 3px 1px rgba(60, 64, 67, 0.15);\n",
              "    fill: var(--button-hover-fill-color);\n",
              "  }\n",
              "\n",
              "  .colab-df-quickchart-complete:disabled,\n",
              "  .colab-df-quickchart-complete:disabled:hover {\n",
              "    background-color: var(--disabled-bg-color);\n",
              "    fill: var(--disabled-fill-color);\n",
              "    box-shadow: none;\n",
              "  }\n",
              "\n",
              "  .colab-df-spinner {\n",
              "    border: 2px solid var(--fill-color);\n",
              "    border-color: transparent;\n",
              "    border-bottom-color: var(--fill-color);\n",
              "    animation:\n",
              "      spin 1s steps(1) infinite;\n",
              "  }\n",
              "\n",
              "  @keyframes spin {\n",
              "    0% {\n",
              "      border-color: transparent;\n",
              "      border-bottom-color: var(--fill-color);\n",
              "      border-left-color: var(--fill-color);\n",
              "    }\n",
              "    20% {\n",
              "      border-color: transparent;\n",
              "      border-left-color: var(--fill-color);\n",
              "      border-top-color: var(--fill-color);\n",
              "    }\n",
              "    30% {\n",
              "      border-color: transparent;\n",
              "      border-left-color: var(--fill-color);\n",
              "      border-top-color: var(--fill-color);\n",
              "      border-right-color: var(--fill-color);\n",
              "    }\n",
              "    40% {\n",
              "      border-color: transparent;\n",
              "      border-right-color: var(--fill-color);\n",
              "      border-top-color: var(--fill-color);\n",
              "    }\n",
              "    60% {\n",
              "      border-color: transparent;\n",
              "      border-right-color: var(--fill-color);\n",
              "    }\n",
              "    80% {\n",
              "      border-color: transparent;\n",
              "      border-right-color: var(--fill-color);\n",
              "      border-bottom-color: var(--fill-color);\n",
              "    }\n",
              "    90% {\n",
              "      border-color: transparent;\n",
              "      border-bottom-color: var(--fill-color);\n",
              "    }\n",
              "  }\n",
              "</style>\n",
              "\n",
              "  <script>\n",
              "    async function quickchart(key) {\n",
              "      const quickchartButtonEl =\n",
              "        document.querySelector('#' + key + ' button');\n",
              "      quickchartButtonEl.disabled = true;  // To prevent multiple clicks.\n",
              "      quickchartButtonEl.classList.add('colab-df-spinner');\n",
              "      try {\n",
              "        const charts = await google.colab.kernel.invokeFunction(\n",
              "            'suggestCharts', [key], {});\n",
              "      } catch (error) {\n",
              "        console.error('Error during call to suggestCharts:', error);\n",
              "      }\n",
              "      quickchartButtonEl.classList.remove('colab-df-spinner');\n",
              "      quickchartButtonEl.classList.add('colab-df-quickchart-complete');\n",
              "    }\n",
              "    (() => {\n",
              "      let quickchartButtonEl =\n",
              "        document.querySelector('#df-8c0406d0-59cb-403a-b155-0b6970dee1ac button');\n",
              "      quickchartButtonEl.style.display =\n",
              "        google.colab.kernel.accessAllowed ? 'block' : 'none';\n",
              "    })();\n",
              "  </script>\n",
              "</div>\n",
              "\n",
              "    </div>\n",
              "  </div>\n"
            ],
            "application/vnd.google.colaboratory.intrinsic+json": {
              "type": "dataframe",
              "variable_name": "team_matchups"
            }
          },
          "metadata": {},
          "execution_count": 92
        }
      ]
    },
    {
      "cell_type": "markdown",
      "metadata": {
        "id": "LWcd2utFRcDe"
      },
      "source": [
        "## Machine Learning\n",
        "---"
      ]
    },
    {
      "cell_type": "markdown",
      "metadata": {
        "id": "LmkMHYSFRcDe"
      },
      "source": [
        "### Splitting the dataset"
      ]
    },
    {
      "cell_type": "code",
      "source": [
        "target = team_matchups['winner']\n",
        "features = team_matchups.drop(['winner'], axis=1)"
      ],
      "metadata": {
        "id": "tmEP3EKMzSb2"
      },
      "execution_count": null,
      "outputs": []
    },
    {
      "cell_type": "code",
      "source": [
        "print(features.shape)\n",
        "print(target.shape)"
      ],
      "metadata": {
        "id": "vfF8RzT1zsw8",
        "colab": {
          "base_uri": "https://localhost:8080/"
        },
        "outputId": "fe2bbd56-becc-49be-fb68-6d154228ffa7"
      },
      "execution_count": null,
      "outputs": [
        {
          "output_type": "stream",
          "name": "stdout",
          "text": [
            "(357, 23)\n",
            "(357,)\n"
          ]
        }
      ]
    },
    {
      "cell_type": "code",
      "source": [
        "#splitting dataset into training, validation and test sets\n",
        "features_train, features_rem, target_train, target_rem = train_test_split(features, target, test_size= 0.4, random_state=7)\n",
        "features_valid, features_test, target_valid, target_test = train_test_split(features_rem, target_rem, test_size=0.5, random_state=7)"
      ],
      "metadata": {
        "id": "TvtRfo4VzQpw"
      },
      "execution_count": null,
      "outputs": []
    },
    {
      "cell_type": "code",
      "source": [
        "print(features_train.shape)\n",
        "print(target_train.shape)"
      ],
      "metadata": {
        "id": "t2nadLKX075a",
        "colab": {
          "base_uri": "https://localhost:8080/"
        },
        "outputId": "e7053944-bcc2-4b58-aafb-2db1ab010a00"
      },
      "execution_count": null,
      "outputs": [
        {
          "output_type": "stream",
          "name": "stdout",
          "text": [
            "(214, 23)\n",
            "(214,)\n"
          ]
        }
      ]
    },
    {
      "cell_type": "code",
      "source": [
        "print(features_valid.shape)\n",
        "print(target_valid.shape)"
      ],
      "metadata": {
        "id": "qECmiieV1JGA",
        "colab": {
          "base_uri": "https://localhost:8080/"
        },
        "outputId": "fecbd543-a2ea-4c5c-dafa-554095ec1c1a"
      },
      "execution_count": null,
      "outputs": [
        {
          "output_type": "stream",
          "name": "stdout",
          "text": [
            "(71, 23)\n",
            "(71,)\n"
          ]
        }
      ]
    },
    {
      "cell_type": "code",
      "source": [
        "print(features_test.shape)\n",
        "print(target_test.shape)"
      ],
      "metadata": {
        "id": "v6aMNlij1MwD",
        "colab": {
          "base_uri": "https://localhost:8080/"
        },
        "outputId": "aed3da7d-8066-414d-fd79-fdf8ac7b105b"
      },
      "execution_count": null,
      "outputs": [
        {
          "output_type": "stream",
          "name": "stdout",
          "text": [
            "(72, 23)\n",
            "(72,)\n"
          ]
        }
      ]
    },
    {
      "cell_type": "markdown",
      "metadata": {
        "id": "1-OueoIqRcDg"
      },
      "source": [
        "### CatBoostClassifier Model"
      ]
    },
    {
      "cell_type": "code",
      "execution_count": null,
      "metadata": {
        "id": "662Y8oPNRcDg",
        "colab": {
          "base_uri": "https://localhost:8080/"
        },
        "outputId": "f9406166-40cd-403b-d03f-0b1dffa40f49"
      },
      "outputs": [
        {
          "output_type": "stream",
          "name": "stdout",
          "text": [
            "Fitting 4 folds for each of 27 candidates, totalling 108 fits\n",
            "[CV] END .......depth=3, learning_rate=0.01, n_estimators=50; total time=   0.2s\n",
            "[CV] END .......depth=3, learning_rate=0.01, n_estimators=50; total time=   0.3s\n",
            "[CV] END .......depth=3, learning_rate=0.01, n_estimators=50; total time=   0.1s\n",
            "[CV] END .......depth=3, learning_rate=0.01, n_estimators=50; total time=   0.2s\n",
            "[CV] END ......depth=3, learning_rate=0.01, n_estimators=100; total time=   0.3s\n",
            "[CV] END ......depth=3, learning_rate=0.01, n_estimators=100; total time=   0.2s\n",
            "[CV] END ......depth=3, learning_rate=0.01, n_estimators=100; total time=   0.3s\n",
            "[CV] END ......depth=3, learning_rate=0.01, n_estimators=100; total time=   0.3s\n",
            "[CV] END ......depth=3, learning_rate=0.01, n_estimators=200; total time=   0.5s\n",
            "[CV] END ......depth=3, learning_rate=0.01, n_estimators=200; total time=   0.7s\n",
            "[CV] END ......depth=3, learning_rate=0.01, n_estimators=200; total time=   0.7s\n",
            "[CV] END ......depth=3, learning_rate=0.01, n_estimators=200; total time=   0.3s\n",
            "[CV] END .......depth=3, learning_rate=0.05, n_estimators=50; total time=   0.2s\n",
            "[CV] END .......depth=3, learning_rate=0.05, n_estimators=50; total time=   0.1s\n",
            "[CV] END .......depth=3, learning_rate=0.05, n_estimators=50; total time=   0.1s\n",
            "[CV] END .......depth=3, learning_rate=0.05, n_estimators=50; total time=   0.2s\n",
            "[CV] END ......depth=3, learning_rate=0.05, n_estimators=100; total time=   0.2s\n",
            "[CV] END ......depth=3, learning_rate=0.05, n_estimators=100; total time=   0.3s\n",
            "[CV] END ......depth=3, learning_rate=0.05, n_estimators=100; total time=   0.2s\n",
            "[CV] END ......depth=3, learning_rate=0.05, n_estimators=100; total time=   0.3s\n",
            "[CV] END ......depth=3, learning_rate=0.05, n_estimators=200; total time=   0.3s\n",
            "[CV] END ......depth=3, learning_rate=0.05, n_estimators=200; total time=   0.5s\n",
            "[CV] END ......depth=3, learning_rate=0.05, n_estimators=200; total time=   0.3s\n",
            "[CV] END ......depth=3, learning_rate=0.05, n_estimators=200; total time=   0.3s\n",
            "[CV] END ........depth=3, learning_rate=0.1, n_estimators=50; total time=   0.2s\n",
            "[CV] END ........depth=3, learning_rate=0.1, n_estimators=50; total time=   0.1s\n",
            "[CV] END ........depth=3, learning_rate=0.1, n_estimators=50; total time=   0.2s\n",
            "[CV] END ........depth=3, learning_rate=0.1, n_estimators=50; total time=   0.2s\n",
            "[CV] END .......depth=3, learning_rate=0.1, n_estimators=100; total time=   0.3s\n",
            "[CV] END .......depth=3, learning_rate=0.1, n_estimators=100; total time=   0.4s\n",
            "[CV] END .......depth=3, learning_rate=0.1, n_estimators=100; total time=   0.4s\n",
            "[CV] END .......depth=3, learning_rate=0.1, n_estimators=100; total time=   0.4s\n",
            "[CV] END .......depth=3, learning_rate=0.1, n_estimators=200; total time=   0.8s\n",
            "[CV] END .......depth=3, learning_rate=0.1, n_estimators=200; total time=   0.6s\n",
            "[CV] END .......depth=3, learning_rate=0.1, n_estimators=200; total time=   0.6s\n",
            "[CV] END .......depth=3, learning_rate=0.1, n_estimators=200; total time=   0.6s\n",
            "[CV] END .......depth=6, learning_rate=0.01, n_estimators=50; total time=   0.3s\n",
            "[CV] END .......depth=6, learning_rate=0.01, n_estimators=50; total time=   0.4s\n",
            "[CV] END .......depth=6, learning_rate=0.01, n_estimators=50; total time=   0.3s\n",
            "[CV] END .......depth=6, learning_rate=0.01, n_estimators=50; total time=   0.3s\n",
            "[CV] END ......depth=6, learning_rate=0.01, n_estimators=100; total time=   0.5s\n",
            "[CV] END ......depth=6, learning_rate=0.01, n_estimators=100; total time=   0.5s\n",
            "[CV] END ......depth=6, learning_rate=0.01, n_estimators=100; total time=   0.6s\n",
            "[CV] END ......depth=6, learning_rate=0.01, n_estimators=100; total time=   0.4s\n",
            "[CV] END ......depth=6, learning_rate=0.01, n_estimators=200; total time=   1.2s\n",
            "[CV] END ......depth=6, learning_rate=0.01, n_estimators=200; total time=   1.7s\n",
            "[CV] END ......depth=6, learning_rate=0.01, n_estimators=200; total time=   1.6s\n",
            "[CV] END ......depth=6, learning_rate=0.01, n_estimators=200; total time=   1.3s\n",
            "[CV] END .......depth=6, learning_rate=0.05, n_estimators=50; total time=   0.4s\n",
            "[CV] END .......depth=6, learning_rate=0.05, n_estimators=50; total time=   0.5s\n",
            "[CV] END .......depth=6, learning_rate=0.05, n_estimators=50; total time=   0.6s\n",
            "[CV] END .......depth=6, learning_rate=0.05, n_estimators=50; total time=   0.4s\n",
            "[CV] END ......depth=6, learning_rate=0.05, n_estimators=100; total time=   1.4s\n",
            "[CV] END ......depth=6, learning_rate=0.05, n_estimators=100; total time=   0.8s\n",
            "[CV] END ......depth=6, learning_rate=0.05, n_estimators=100; total time=   0.6s\n",
            "[CV] END ......depth=6, learning_rate=0.05, n_estimators=100; total time=   0.5s\n",
            "[CV] END ......depth=6, learning_rate=0.05, n_estimators=200; total time=   1.2s\n",
            "[CV] END ......depth=6, learning_rate=0.05, n_estimators=200; total time=   1.4s\n",
            "[CV] END ......depth=6, learning_rate=0.05, n_estimators=200; total time=   0.8s\n",
            "[CV] END ......depth=6, learning_rate=0.05, n_estimators=200; total time=   0.5s\n",
            "[CV] END ........depth=6, learning_rate=0.1, n_estimators=50; total time=   0.1s\n",
            "[CV] END ........depth=6, learning_rate=0.1, n_estimators=50; total time=   0.2s\n",
            "[CV] END ........depth=6, learning_rate=0.1, n_estimators=50; total time=   0.1s\n",
            "[CV] END ........depth=6, learning_rate=0.1, n_estimators=50; total time=   0.1s\n",
            "[CV] END .......depth=6, learning_rate=0.1, n_estimators=100; total time=   0.2s\n",
            "[CV] END .......depth=6, learning_rate=0.1, n_estimators=100; total time=   0.2s\n",
            "[CV] END .......depth=6, learning_rate=0.1, n_estimators=100; total time=   0.3s\n",
            "[CV] END .......depth=6, learning_rate=0.1, n_estimators=100; total time=   0.2s\n",
            "[CV] END .......depth=6, learning_rate=0.1, n_estimators=200; total time=   0.4s\n",
            "[CV] END .......depth=6, learning_rate=0.1, n_estimators=200; total time=   0.5s\n",
            "[CV] END .......depth=6, learning_rate=0.1, n_estimators=200; total time=   0.4s\n",
            "[CV] END .......depth=6, learning_rate=0.1, n_estimators=200; total time=   0.5s\n",
            "[CV] END ......depth=10, learning_rate=0.01, n_estimators=50; total time=   0.8s\n",
            "[CV] END ......depth=10, learning_rate=0.01, n_estimators=50; total time=   1.0s\n",
            "[CV] END ......depth=10, learning_rate=0.01, n_estimators=50; total time=   1.6s\n",
            "[CV] END ......depth=10, learning_rate=0.01, n_estimators=50; total time=   1.2s\n",
            "[CV] END .....depth=10, learning_rate=0.01, n_estimators=100; total time=   1.6s\n",
            "[CV] END .....depth=10, learning_rate=0.01, n_estimators=100; total time=   1.7s\n",
            "[CV] END .....depth=10, learning_rate=0.01, n_estimators=100; total time=   1.7s\n",
            "[CV] END .....depth=10, learning_rate=0.01, n_estimators=100; total time=   3.3s\n",
            "[CV] END .....depth=10, learning_rate=0.01, n_estimators=200; total time=   4.5s\n",
            "[CV] END .....depth=10, learning_rate=0.01, n_estimators=200; total time=   3.2s\n",
            "[CV] END .....depth=10, learning_rate=0.01, n_estimators=200; total time=   3.3s\n",
            "[CV] END .....depth=10, learning_rate=0.01, n_estimators=200; total time=   3.3s\n",
            "[CV] END ......depth=10, learning_rate=0.05, n_estimators=50; total time=   1.5s\n",
            "[CV] END ......depth=10, learning_rate=0.05, n_estimators=50; total time=   1.3s\n",
            "[CV] END ......depth=10, learning_rate=0.05, n_estimators=50; total time=   0.8s\n",
            "[CV] END ......depth=10, learning_rate=0.05, n_estimators=50; total time=   0.9s\n",
            "[CV] END .....depth=10, learning_rate=0.05, n_estimators=100; total time=   1.6s\n",
            "[CV] END .....depth=10, learning_rate=0.05, n_estimators=100; total time=   1.7s\n",
            "[CV] END .....depth=10, learning_rate=0.05, n_estimators=100; total time=   1.7s\n",
            "[CV] END .....depth=10, learning_rate=0.05, n_estimators=100; total time=   1.7s\n",
            "[CV] END .....depth=10, learning_rate=0.05, n_estimators=200; total time=   4.5s\n",
            "[CV] END .....depth=10, learning_rate=0.05, n_estimators=200; total time=   3.4s\n",
            "[CV] END .....depth=10, learning_rate=0.05, n_estimators=200; total time=   3.3s\n",
            "[CV] END .....depth=10, learning_rate=0.05, n_estimators=200; total time=   3.7s\n",
            "[CV] END .......depth=10, learning_rate=0.1, n_estimators=50; total time=   1.5s\n",
            "[CV] END .......depth=10, learning_rate=0.1, n_estimators=50; total time=   1.0s\n",
            "[CV] END .......depth=10, learning_rate=0.1, n_estimators=50; total time=   0.8s\n",
            "[CV] END .......depth=10, learning_rate=0.1, n_estimators=50; total time=   0.9s\n",
            "[CV] END ......depth=10, learning_rate=0.1, n_estimators=100; total time=   1.6s\n",
            "[CV] END ......depth=10, learning_rate=0.1, n_estimators=100; total time=   1.7s\n",
            "[CV] END ......depth=10, learning_rate=0.1, n_estimators=100; total time=   1.7s\n",
            "[CV] END ......depth=10, learning_rate=0.1, n_estimators=100; total time=   1.7s\n",
            "[CV] END ......depth=10, learning_rate=0.1, n_estimators=200; total time=   4.5s\n",
            "[CV] END ......depth=10, learning_rate=0.1, n_estimators=200; total time=   3.3s\n",
            "[CV] END ......depth=10, learning_rate=0.1, n_estimators=200; total time=   3.3s\n",
            "[CV] END ......depth=10, learning_rate=0.1, n_estimators=200; total time=   3.9s\n",
            "Validation Accuracy: 0.9154929577464789\n",
            "Best Parameters: {'depth': 3, 'learning_rate': 0.1, 'n_estimators': 100}\n"
          ]
        }
      ],
      "source": [
        "param_grid = {\n",
        "    'learning_rate': [0.01, 0.05, 0.1],\n",
        "    'n_estimators': [50, 100, 200],  # More iterations for boosting\n",
        "    'depth': [3, 6, 10]  # Controls tree depth\n",
        "}\n",
        "\n",
        "# Initialize CatBoostClassifier\n",
        "model = CatBoostClassifier(random_state=7, verbose=0, loss_function=\"Logloss\")  # Silent training\n",
        "\n",
        "# Perform Grid Search\n",
        "grid_search = GridSearchCV(estimator=model, param_grid=param_grid, cv=4, scoring='accuracy', verbose=2)\n",
        "\n",
        "# Fit model\n",
        "grid_search.fit(features_train, target_train)\n",
        "\n",
        "# Get best model\n",
        "best_params = grid_search.best_params_\n",
        "best_model = grid_search.best_estimator_\n",
        "\n",
        "# Predict on validation set\n",
        "predictions_team_valid = best_model.predict(features_valid)\n",
        "\n",
        "# Calculate accuracy on validation set\n",
        "accuracy_team1_valid = accuracy_score(target_valid, predictions_team_valid)\n",
        "\n",
        "print(\"Validation Accuracy:\", accuracy_team1_valid)\n",
        "print(\"Best Parameters:\", best_params)"
      ]
    },
    {
      "cell_type": "code",
      "source": [
        "# Predict on the test set\n",
        "predictions_team_test = best_model.predict(features_test)\n",
        "\n",
        "# Evaluate on the test set\n",
        "accuracy_team_test = accuracy_score(target_test, predictions_team_test)\n",
        "\n",
        "print(\"Test Set Accuracy:\", accuracy_team_test)"
      ],
      "metadata": {
        "id": "kjxvaawV3otM",
        "colab": {
          "base_uri": "https://localhost:8080/"
        },
        "outputId": "79233f19-5d7a-4b3b-b6ae-e2c04b432f48"
      },
      "execution_count": null,
      "outputs": [
        {
          "output_type": "stream",
          "name": "stdout",
          "text": [
            "Test Set Accuracy: 0.9861111111111112\n"
          ]
        }
      ]
    },
    {
      "cell_type": "markdown",
      "metadata": {
        "id": "sLPjunVJRcDh"
      },
      "source": [
        "### Sanity Check"
      ]
    },
    {
      "cell_type": "code",
      "execution_count": null,
      "metadata": {
        "id": "4aszewRRRcDh",
        "colab": {
          "base_uri": "https://localhost:8080/",
          "height": 461
        },
        "outputId": "5a11b3a0-e986-496a-e251-948597976142"
      },
      "outputs": [
        {
          "output_type": "execute_result",
          "data": {
            "text/plain": [
              "<Axes: xlabel='winner'>"
            ]
          },
          "metadata": {},
          "execution_count": 101
        },
        {
          "output_type": "display_data",
          "data": {
            "text/plain": [
              "<Figure size 640x480 with 1 Axes>"
            ],
            "image/png": "[encoded data removed]"
          },
          "metadata": {}
        }
      ],
      "source": [
        "target_team_counts = team_matchups['winner'].value_counts(normalize=True)\n",
        "target_team_counts.plot(kind='bar')"
      ]
    },
    {
      "cell_type": "markdown",
      "metadata": {
        "id": "nI_7xHllRcDh"
      },
      "source": [
        "### Upsampling the dataset"
      ]
    },
    {
      "cell_type": "code",
      "source": [
        "train = pd.concat([features_train, target_train], axis=1)"
      ],
      "metadata": {
        "id": "ivasfi3QXJkg"
      },
      "execution_count": null,
      "outputs": []
    },
    {
      "cell_type": "code",
      "source": [
        "train.head()"
      ],
      "metadata": {
        "colab": {
          "base_uri": "https://localhost:8080/",
          "height": 256
        },
        "id": "XaWgnBskYpjy",
        "outputId": "946ca8b1-c847-4555-b981-85f94985c910"
      },
      "execution_count": null,
      "outputs": [
        {
          "output_type": "execute_result",
          "data": {
            "text/plain": [
              "     team1_bpi  team2_bpi  team1_points  team2_points  points_difference  \\\n",
              "246         22         53            74            80                  6   \n",
              "345         20         17            75            89                 14   \n",
              "69          23          8            72            67                  5   \n",
              "36          25         23            73            77                  4   \n",
              "40          24         31            85            96                 11   \n",
              "\n",
              "     offensive_efficiency_team1  offensive_efficiency_team2  \\\n",
              "246                       121.9                       113.2   \n",
              "345                       122.4                       113.9   \n",
              "69                        115.9                       124.3   \n",
              "36                        116.1                       115.9   \n",
              "40                        123.5                       118.1   \n",
              "\n",
              "     offensive_efficiency_difference  defensive_efficiency_team1  \\\n",
              "246                              8.7                        97.7   \n",
              "345                              8.5                       104.1   \n",
              "69                               8.4                        93.0   \n",
              "36                               0.2                        98.0   \n",
              "40                               5.4                       101.2   \n",
              "\n",
              "     defensive_efficiency_team2  ...  team1_efgpct  team2_efgpct  \\\n",
              "246                        97.6  ...         52.13         51.57   \n",
              "345                        89.2  ...         55.74         49.54   \n",
              "69                         96.7  ...         47.60         55.64   \n",
              "36                         93.0  ...         55.36         47.60   \n",
              "40                         96.0  ...         57.79         51.85   \n",
              "\n",
              "     efgpct_difference  team1_experience  team2_experience  \\\n",
              "246               0.56              1.07              2.79   \n",
              "345               6.20              1.75              2.36   \n",
              "69                8.04              2.97              2.67   \n",
              "36                7.76              2.65              2.97   \n",
              "40                5.95              1.92              3.46   \n",
              "\n",
              "     experience_difference  team1_rating  team2_rating  rating_difference  \\\n",
              "246                   1.71          24.2          15.6                8.6   \n",
              "345                   0.60          18.3          24.7                6.4   \n",
              "69                    0.29          22.9          27.6                4.7   \n",
              "36                    0.41          18.1          22.9                4.8   \n",
              "40                    0.39          22.3          22.1                0.2   \n",
              "\n",
              "     winner  \n",
              "246       0  \n",
              "345       0  \n",
              "69        1  \n",
              "36        0  \n",
              "40        0  \n",
              "\n",
              "[5 rows x 24 columns]"
            ],
            "text/html": [
              "\n",
              "  <div id=\"df-12b232e5-5873-4408-943a-4dfa0d67bf59\" class=\"colab-df-container\">\n",
              "    <div>\n",
              "<style scoped>\n",
              "    .dataframe tbody tr th:only-of-type {\n",
              "        vertical-align: middle;\n",
              "    }\n",
              "\n",
              "    .dataframe tbody tr th {\n",
              "        vertical-align: top;\n",
              "    }\n",
              "\n",
              "    .dataframe thead th {\n",
              "        text-align: right;\n",
              "    }\n",
              "</style>\n",
              "<table border=\"1\" class=\"dataframe\">\n",
              "  <thead>\n",
              "    <tr style=\"text-align: right;\">\n",
              "      <th></th>\n",
              "      <th>team1_bpi</th>\n",
              "      <th>team2_bpi</th>\n",
              "      <th>team1_points</th>\n",
              "      <th>team2_points</th>\n",
              "      <th>points_difference</th>\n",
              "      <th>offensive_efficiency_team1</th>\n",
              "      <th>offensive_efficiency_team2</th>\n",
              "      <th>offensive_efficiency_difference</th>\n",
              "      <th>defensive_efficiency_team1</th>\n",
              "      <th>defensive_efficiency_team2</th>\n",
              "      <th>...</th>\n",
              "      <th>team1_efgpct</th>\n",
              "      <th>team2_efgpct</th>\n",
              "      <th>efgpct_difference</th>\n",
              "      <th>team1_experience</th>\n",
              "      <th>team2_experience</th>\n",
              "      <th>experience_difference</th>\n",
              "      <th>team1_rating</th>\n",
              "      <th>team2_rating</th>\n",
              "      <th>rating_difference</th>\n",
              "      <th>winner</th>\n",
              "    </tr>\n",
              "  </thead>\n",
              "  <tbody>\n",
              "    <tr>\n",
              "      <th>246</th>\n",
              "      <td>22</td>\n",
              "      <td>53</td>\n",
              "      <td>74</td>\n",
              "      <td>80</td>\n",
              "      <td>6</td>\n",
              "      <td>121.9</td>\n",
              "      <td>113.2</td>\n",
              "      <td>8.7</td>\n",
              "      <td>97.7</td>\n",
              "      <td>97.6</td>\n",
              "      <td>...</td>\n",
              "      <td>52.13</td>\n",
              "      <td>51.57</td>\n",
              "      <td>0.56</td>\n",
              "      <td>1.07</td>\n",
              "      <td>2.79</td>\n",
              "      <td>1.71</td>\n",
              "      <td>24.2</td>\n",
              "      <td>15.6</td>\n",
              "      <td>8.6</td>\n",
              "      <td>0</td>\n",
              "    </tr>\n",
              "    <tr>\n",
              "      <th>345</th>\n",
              "      <td>20</td>\n",
              "      <td>17</td>\n",
              "      <td>75</td>\n",
              "      <td>89</td>\n",
              "      <td>14</td>\n",
              "      <td>122.4</td>\n",
              "      <td>113.9</td>\n",
              "      <td>8.5</td>\n",
              "      <td>104.1</td>\n",
              "      <td>89.2</td>\n",
              "      <td>...</td>\n",
              "      <td>55.74</td>\n",
              "      <td>49.54</td>\n",
              "      <td>6.20</td>\n",
              "      <td>1.75</td>\n",
              "      <td>2.36</td>\n",
              "      <td>0.60</td>\n",
              "      <td>18.3</td>\n",
              "      <td>24.7</td>\n",
              "      <td>6.4</td>\n",
              "      <td>0</td>\n",
              "    </tr>\n",
              "    <tr>\n",
              "      <th>69</th>\n",
              "      <td>23</td>\n",
              "      <td>8</td>\n",
              "      <td>72</td>\n",
              "      <td>67</td>\n",
              "      <td>5</td>\n",
              "      <td>115.9</td>\n",
              "      <td>124.3</td>\n",
              "      <td>8.4</td>\n",
              "      <td>93.0</td>\n",
              "      <td>96.7</td>\n",
              "      <td>...</td>\n",
              "      <td>47.60</td>\n",
              "      <td>55.64</td>\n",
              "      <td>8.04</td>\n",
              "      <td>2.97</td>\n",
              "      <td>2.67</td>\n",
              "      <td>0.29</td>\n",
              "      <td>22.9</td>\n",
              "      <td>27.6</td>\n",
              "      <td>4.7</td>\n",
              "      <td>1</td>\n",
              "    </tr>\n",
              "    <tr>\n",
              "      <th>36</th>\n",
              "      <td>25</td>\n",
              "      <td>23</td>\n",
              "      <td>73</td>\n",
              "      <td>77</td>\n",
              "      <td>4</td>\n",
              "      <td>116.1</td>\n",
              "      <td>115.9</td>\n",
              "      <td>0.2</td>\n",
              "      <td>98.0</td>\n",
              "      <td>93.0</td>\n",
              "      <td>...</td>\n",
              "      <td>55.36</td>\n",
              "      <td>47.60</td>\n",
              "      <td>7.76</td>\n",
              "      <td>2.65</td>\n",
              "      <td>2.97</td>\n",
              "      <td>0.41</td>\n",
              "      <td>18.1</td>\n",
              "      <td>22.9</td>\n",
              "      <td>4.8</td>\n",
              "      <td>0</td>\n",
              "    </tr>\n",
              "    <tr>\n",
              "      <th>40</th>\n",
              "      <td>24</td>\n",
              "      <td>31</td>\n",
              "      <td>85</td>\n",
              "      <td>96</td>\n",
              "      <td>11</td>\n",
              "      <td>123.5</td>\n",
              "      <td>118.1</td>\n",
              "      <td>5.4</td>\n",
              "      <td>101.2</td>\n",
              "      <td>96.0</td>\n",
              "      <td>...</td>\n",
              "      <td>57.79</td>\n",
              "      <td>51.85</td>\n",
              "      <td>5.95</td>\n",
              "      <td>1.92</td>\n",
              "      <td>3.46</td>\n",
              "      <td>0.39</td>\n",
              "      <td>22.3</td>\n",
              "      <td>22.1</td>\n",
              "      <td>0.2</td>\n",
              "      <td>0</td>\n",
              "    </tr>\n",
              "  </tbody>\n",
              "</table>\n",
              "<p>5 rows × 24 columns</p>\n",
              "</div>\n",
              "    <div class=\"colab-df-buttons\">\n",
              "\n",
              "  <div class=\"colab-df-container\">\n",
              "    <button class=\"colab-df-convert\" onclick=\"convertToInteractive('df-12b232e5-5873-4408-943a-4dfa0d67bf59')\"\n",
              "            title=\"Convert this dataframe to an interactive table.\"\n",
              "            style=\"display:none;\">\n",
              "\n",
              "  <svg xmlns=\"http://www.w3.org/2000/svg\" height=\"24px\" viewBox=\"0 -960 960 960\">\n",
              "    <path d=\"M120-120v-720h720v720H120Zm60-500h600v-160H180v160Zm220 220h160v-160H400v160Zm0 220h160v-160H400v160ZM180-400h160v-160H180v160Zm440 0h160v-160H620v160ZM180-180h160v-160H180v160Zm440 0h160v-160H620v160Z\"/>\n",
              "  </svg>\n",
              "    </button>\n",
              "\n",
              "  <style>\n",
              "    .colab-df-container {\n",
              "      display:flex;\n",
              "      gap: 12px;\n",
              "    }\n",
              "\n",
              "    .colab-df-convert {\n",
              "      background-color: #E8F0FE;\n",
              "      border: none;\n",
              "      border-radius: 50%;\n",
              "      cursor: pointer;\n",
              "      display: none;\n",
              "      fill: #1967D2;\n",
              "      height: 32px;\n",
              "      padding: 0 0 0 0;\n",
              "      width: 32px;\n",
              "    }\n",
              "\n",
              "    .colab-df-convert:hover {\n",
              "      background-color: #E2EBFA;\n",
              "      box-shadow: 0px 1px 2px rgba(60, 64, 67, 0.3), 0px 1px 3px 1px rgba(60, 64, 67, 0.15);\n",
              "      fill: #174EA6;\n",
              "    }\n",
              "\n",
              "    .colab-df-buttons div {\n",
              "      margin-bottom: 4px;\n",
              "    }\n",
              "\n",
              "    [theme=dark] .colab-df-convert {\n",
              "      background-color: #3B4455;\n",
              "      fill: #D2E3FC;\n",
              "    }\n",
              "\n",
              "    [theme=dark] .colab-df-convert:hover {\n",
              "      background-color: #434B5C;\n",
              "      box-shadow: 0px 1px 3px 1px rgba(0, 0, 0, 0.15);\n",
              "      filter: drop-shadow(0px 1px 2px rgba(0, 0, 0, 0.3));\n",
              "      fill: #FFFFFF;\n",
              "    }\n",
              "  </style>\n",
              "\n",
              "    <script>\n",
              "      const buttonEl =\n",
              "        document.querySelector('#df-12b232e5-5873-4408-943a-4dfa0d67bf59 button.colab-df-convert');\n",
              "      buttonEl.style.display =\n",
              "        google.colab.kernel.accessAllowed ? 'block' : 'none';\n",
              "\n",
              "      async function convertToInteractive(key) {\n",
              "        const element = document.querySelector('#df-12b232e5-5873-4408-943a-4dfa0d67bf59');\n",
              "        const dataTable =\n",
              "          await google.colab.kernel.invokeFunction('convertToInteractive',\n",
              "                                                    [key], {});\n",
              "        if (!dataTable) return;\n",
              "\n",
              "        const docLinkHtml = 'Like what you see? Visit the ' +\n",
              "          '<a target=\"_blank\" href=https://colab.research.google.com/notebooks/data_table.ipynb>data table notebook</a>'\n",
              "          + ' to learn more about interactive tables.';\n",
              "        element.innerHTML = '';\n",
              "        dataTable['output_type'] = 'display_data';\n",
              "        await google.colab.output.renderOutput(dataTable, element);\n",
              "        const docLink = document.createElement('div');\n",
              "        docLink.innerHTML = docLinkHtml;\n",
              "        element.appendChild(docLink);\n",
              "      }\n",
              "    </script>\n",
              "  </div>\n",
              "\n",
              "\n",
              "<div id=\"df-8de31324-bbcc-4fe3-a071-cb47743efa00\">\n",
              "  <button class=\"colab-df-quickchart\" onclick=\"quickchart('df-8de31324-bbcc-4fe3-a071-cb47743efa00')\"\n",
              "            title=\"Suggest charts\"\n",
              "            style=\"display:none;\">\n",
              "\n",
              "<svg xmlns=\"http://www.w3.org/2000/svg\" height=\"24px\"viewBox=\"0 0 24 24\"\n",
              "     width=\"24px\">\n",
              "    <g>\n",
              "        <path d=\"M19 3H5c-1.1 0-2 .9-2 2v14c0 1.1.9 2 2 2h14c1.1 0 2-.9 2-2V5c0-1.1-.9-2-2-2zM9 17H7v-7h2v7zm4 0h-2V7h2v10zm4 0h-2v-4h2v4z\"/>\n",
              "    </g>\n",
              "</svg>\n",
              "  </button>\n",
              "\n",
              "<style>\n",
              "  .colab-df-quickchart {\n",
              "      --bg-color: #E8F0FE;\n",
              "      --fill-color: #1967D2;\n",
              "      --hover-bg-color: #E2EBFA;\n",
              "      --hover-fill-color: #174EA6;\n",
              "      --disabled-fill-color: #AAA;\n",
              "      --disabled-bg-color: #DDD;\n",
              "  }\n",
              "\n",
              "  [theme=dark] .colab-df-quickchart {\n",
              "      --bg-color: #3B4455;\n",
              "      --fill-color: #D2E3FC;\n",
              "      --hover-bg-color: #434B5C;\n",
              "      --hover-fill-color: #FFFFFF;\n",
              "      --disabled-bg-color: #3B4455;\n",
              "      --disabled-fill-color: #666;\n",
              "  }\n",
              "\n",
              "  .colab-df-quickchart {\n",
              "    background-color: var(--bg-color);\n",
              "    border: none;\n",
              "    border-radius: 50%;\n",
              "    cursor: pointer;\n",
              "    display: none;\n",
              "    fill: var(--fill-color);\n",
              "    height: 32px;\n",
              "    padding: 0;\n",
              "    width: 32px;\n",
              "  }\n",
              "\n",
              "  .colab-df-quickchart:hover {\n",
              "    background-color: var(--hover-bg-color);\n",
              "    box-shadow: 0 1px 2px rgba(60, 64, 67, 0.3), 0 1px 3px 1px rgba(60, 64, 67, 0.15);\n",
              "    fill: var(--button-hover-fill-color);\n",
              "  }\n",
              "\n",
              "  .colab-df-quickchart-complete:disabled,\n",
              "  .colab-df-quickchart-complete:disabled:hover {\n",
              "    background-color: var(--disabled-bg-color);\n",
              "    fill: var(--disabled-fill-color);\n",
              "    box-shadow: none;\n",
              "  }\n",
              "\n",
              "  .colab-df-spinner {\n",
              "    border: 2px solid var(--fill-color);\n",
              "    border-color: transparent;\n",
              "    border-bottom-color: var(--fill-color);\n",
              "    animation:\n",
              "      spin 1s steps(1) infinite;\n",
              "  }\n",
              "\n",
              "  @keyframes spin {\n",
              "    0% {\n",
              "      border-color: transparent;\n",
              "      border-bottom-color: var(--fill-color);\n",
              "      border-left-color: var(--fill-color);\n",
              "    }\n",
              "    20% {\n",
              "      border-color: transparent;\n",
              "      border-left-color: var(--fill-color);\n",
              "      border-top-color: var(--fill-color);\n",
              "    }\n",
              "    30% {\n",
              "      border-color: transparent;\n",
              "      border-left-color: var(--fill-color);\n",
              "      border-top-color: var(--fill-color);\n",
              "      border-right-color: var(--fill-color);\n",
              "    }\n",
              "    40% {\n",
              "      border-color: transparent;\n",
              "      border-right-color: var(--fill-color);\n",
              "      border-top-color: var(--fill-color);\n",
              "    }\n",
              "    60% {\n",
              "      border-color: transparent;\n",
              "      border-right-color: var(--fill-color);\n",
              "    }\n",
              "    80% {\n",
              "      border-color: transparent;\n",
              "      border-right-color: var(--fill-color);\n",
              "      border-bottom-color: var(--fill-color);\n",
              "    }\n",
              "    90% {\n",
              "      border-color: transparent;\n",
              "      border-bottom-color: var(--fill-color);\n",
              "    }\n",
              "  }\n",
              "</style>\n",
              "\n",
              "  <script>\n",
              "    async function quickchart(key) {\n",
              "      const quickchartButtonEl =\n",
              "        document.querySelector('#' + key + ' button');\n",
              "      quickchartButtonEl.disabled = true;  // To prevent multiple clicks.\n",
              "      quickchartButtonEl.classList.add('colab-df-spinner');\n",
              "      try {\n",
              "        const charts = await google.colab.kernel.invokeFunction(\n",
              "            'suggestCharts', [key], {});\n",
              "      } catch (error) {\n",
              "        console.error('Error during call to suggestCharts:', error);\n",
              "      }\n",
              "      quickchartButtonEl.classList.remove('colab-df-spinner');\n",
              "      quickchartButtonEl.classList.add('colab-df-quickchart-complete');\n",
              "    }\n",
              "    (() => {\n",
              "      let quickchartButtonEl =\n",
              "        document.querySelector('#df-8de31324-bbcc-4fe3-a071-cb47743efa00 button');\n",
              "      quickchartButtonEl.style.display =\n",
              "        google.colab.kernel.accessAllowed ? 'block' : 'none';\n",
              "    })();\n",
              "  </script>\n",
              "</div>\n",
              "\n",
              "    </div>\n",
              "  </div>\n"
            ],
            "application/vnd.google.colaboratory.intrinsic+json": {
              "type": "dataframe",
              "variable_name": "train"
            }
          },
          "metadata": {},
          "execution_count": 103
        }
      ]
    },
    {
      "cell_type": "code",
      "source": [
        "# numerical/visual representation of composition of the class proportions before upsampling\n",
        "train.groupby('winner').size().plot(kind='pie', y='winner', label='winner', autopct='%1.1f%%')\n",
        "print(train['winner'].value_counts(normalize = True)) # Check the target distribution\n",
        "print(train['winner'].value_counts())"
      ],
      "metadata": {
        "id": "SO5jQV4S7peY",
        "colab": {
          "base_uri": "https://localhost:8080/",
          "height": 545
        },
        "outputId": "31cb2ae0-1d4f-45a9-f0a6-2ee03ef1ec93"
      },
      "execution_count": null,
      "outputs": [
        {
          "output_type": "stream",
          "name": "stdout",
          "text": [
            "winner\n",
            "0    0.579439\n",
            "1    0.420561\n",
            "Name: proportion, dtype: float64\n",
            "winner\n",
            "0    124\n",
            "1     90\n",
            "Name: count, dtype: int64\n"
          ]
        },
        {
          "output_type": "display_data",
          "data": {
            "text/plain": [
              "<Figure size 640x480 with 1 Axes>"
            ],
            "image/png": "[encoded data removed]"
          },
          "metadata": {}
        }
      ]
    },
    {
      "cell_type": "code",
      "execution_count": null,
      "metadata": {
        "id": "3hc9Gkb1RcDi"
      },
      "outputs": [],
      "source": [
        "# upsampling used to address class imbalance\n",
        "majority = train[train['winner'] == 0]\n",
        "minority = train[train['winner'] == 1 ]\n",
        "\n",
        "minority_upsampled = resample(minority, replace=True, n_samples=len(majority), random_state=7)\n",
        "\n",
        "train_us =pd.concat([majority, minority_upsampled])"
      ]
    },
    {
      "cell_type": "code",
      "source": [
        "# numerical/visual representation of composition of the class proportions after upsampling\n",
        "train_us.groupby('winner').size().plot(kind='pie', y='winner', label='winner', autopct='%1.1f%%')\n",
        "print(train_us['winner'].value_counts(normalize = True)) # Check the target distribution\n",
        "print(train_us['winner'].value_counts())"
      ],
      "metadata": {
        "id": "y-InZaFm8h9X",
        "colab": {
          "base_uri": "https://localhost:8080/",
          "height": 545
        },
        "outputId": "db273749-40df-4a0b-a0b3-b562d54686da"
      },
      "execution_count": null,
      "outputs": [
        {
          "output_type": "stream",
          "name": "stdout",
          "text": [
            "winner\n",
            "0    0.5\n",
            "1    0.5\n",
            "Name: proportion, dtype: float64\n",
            "winner\n",
            "0    124\n",
            "1    124\n",
            "Name: count, dtype: int64\n"
          ]
        },
        {
          "output_type": "display_data",
          "data": {
            "text/plain": [
              "<Figure size 640x480 with 1 Axes>"
            ],
            "image/png": "[encoded data removed]"
          },
          "metadata": {}
        }
      ]
    },
    {
      "cell_type": "markdown",
      "source": [
        "## Data Inspection of Upsampled DDataset"
      ],
      "metadata": {
        "id": "z2RPJ99xAgNE"
      }
    },
    {
      "cell_type": "code",
      "execution_count": null,
      "metadata": {
        "id": "KS21BJt1RcDi",
        "colab": {
          "base_uri": "https://localhost:8080/",
          "height": 256
        },
        "outputId": "78a2a099-1b7a-47be-9b23-a2986fd61208"
      },
      "outputs": [
        {
          "output_type": "execute_result",
          "data": {
            "text/plain": [
              "     team1_bpi  team2_bpi  team1_points  team2_points  points_difference  \\\n",
              "246         22         53            74            80                  6   \n",
              "345         20         17            75            89                 14   \n",
              "36          25         23            73            77                  4   \n",
              "40          24         31            85            96                 11   \n",
              "265         50          3            70            89                 19   \n",
              "\n",
              "     offensive_efficiency_team1  offensive_efficiency_team2  \\\n",
              "246                       121.9                       113.2   \n",
              "345                       122.4                       113.9   \n",
              "36                        116.1                       115.9   \n",
              "40                        123.5                       118.1   \n",
              "265                       118.4                       130.7   \n",
              "\n",
              "     offensive_efficiency_difference  defensive_efficiency_team1  \\\n",
              "246                              8.7                        97.7   \n",
              "345                              8.5                       104.1   \n",
              "36                               0.2                        98.0   \n",
              "40                               5.4                       101.2   \n",
              "265                             12.3                       101.8   \n",
              "\n",
              "     defensive_efficiency_team2  ...  team1_efgpct  team2_efgpct  \\\n",
              "246                        97.6  ...         52.13         51.57   \n",
              "345                        89.2  ...         55.74         49.54   \n",
              "36                         93.0  ...         55.36         47.60   \n",
              "40                         96.0  ...         57.79         51.85   \n",
              "265                        93.1  ...         54.78         56.05   \n",
              "\n",
              "     efgpct_difference  team1_experience  team2_experience  \\\n",
              "246               0.56              1.07              2.79   \n",
              "345               6.20              1.75              2.36   \n",
              "36                7.76              2.65              2.97   \n",
              "40                5.95              1.92              3.46   \n",
              "265               1.27              2.31              2.79   \n",
              "\n",
              "     experience_difference  team1_rating  team2_rating  rating_difference  \\\n",
              "246                   1.71          24.2          15.6                8.6   \n",
              "345                   0.60          18.3          24.7                6.4   \n",
              "36                    0.41          18.1          22.9                4.8   \n",
              "40                    0.39          22.3          22.1                0.2   \n",
              "265                   0.48          16.6          37.6               21.0   \n",
              "\n",
              "     winner  \n",
              "246       0  \n",
              "345       0  \n",
              "36        0  \n",
              "40        0  \n",
              "265       0  \n",
              "\n",
              "[5 rows x 24 columns]"
            ],
            "text/html": [
              "\n",
              "  <div id=\"df-425989b0-5723-432a-94e7-bf1aa3c79d93\" class=\"colab-df-container\">\n",
              "    <div>\n",
              "<style scoped>\n",
              "    .dataframe tbody tr th:only-of-type {\n",
              "        vertical-align: middle;\n",
              "    }\n",
              "\n",
              "    .dataframe tbody tr th {\n",
              "        vertical-align: top;\n",
              "    }\n",
              "\n",
              "    .dataframe thead th {\n",
              "        text-align: right;\n",
              "    }\n",
              "</style>\n",
              "<table border=\"1\" class=\"dataframe\">\n",
              "  <thead>\n",
              "    <tr style=\"text-align: right;\">\n",
              "      <th></th>\n",
              "      <th>team1_bpi</th>\n",
              "      <th>team2_bpi</th>\n",
              "      <th>team1_points</th>\n",
              "      <th>team2_points</th>\n",
              "      <th>points_difference</th>\n",
              "      <th>offensive_efficiency_team1</th>\n",
              "      <th>offensive_efficiency_team2</th>\n",
              "      <th>offensive_efficiency_difference</th>\n",
              "      <th>defensive_efficiency_team1</th>\n",
              "      <th>defensive_efficiency_team2</th>\n",
              "      <th>...</th>\n",
              "      <th>team1_efgpct</th>\n",
              "      <th>team2_efgpct</th>\n",
              "      <th>efgpct_difference</th>\n",
              "      <th>team1_experience</th>\n",
              "      <th>team2_experience</th>\n",
              "      <th>experience_difference</th>\n",
              "      <th>team1_rating</th>\n",
              "      <th>team2_rating</th>\n",
              "      <th>rating_difference</th>\n",
              "      <th>winner</th>\n",
              "    </tr>\n",
              "  </thead>\n",
              "  <tbody>\n",
              "    <tr>\n",
              "      <th>246</th>\n",
              "      <td>22</td>\n",
              "      <td>53</td>\n",
              "      <td>74</td>\n",
              "      <td>80</td>\n",
              "      <td>6</td>\n",
              "      <td>121.9</td>\n",
              "      <td>113.2</td>\n",
              "      <td>8.7</td>\n",
              "      <td>97.7</td>\n",
              "      <td>97.6</td>\n",
              "      <td>...</td>\n",
              "      <td>52.13</td>\n",
              "      <td>51.57</td>\n",
              "      <td>0.56</td>\n",
              "      <td>1.07</td>\n",
              "      <td>2.79</td>\n",
              "      <td>1.71</td>\n",
              "      <td>24.2</td>\n",
              "      <td>15.6</td>\n",
              "      <td>8.6</td>\n",
              "      <td>0</td>\n",
              "    </tr>\n",
              "    <tr>\n",
              "      <th>345</th>\n",
              "      <td>20</td>\n",
              "      <td>17</td>\n",
              "      <td>75</td>\n",
              "      <td>89</td>\n",
              "      <td>14</td>\n",
              "      <td>122.4</td>\n",
              "      <td>113.9</td>\n",
              "      <td>8.5</td>\n",
              "      <td>104.1</td>\n",
              "      <td>89.2</td>\n",
              "      <td>...</td>\n",
              "      <td>55.74</td>\n",
              "      <td>49.54</td>\n",
              "      <td>6.20</td>\n",
              "      <td>1.75</td>\n",
              "      <td>2.36</td>\n",
              "      <td>0.60</td>\n",
              "      <td>18.3</td>\n",
              "      <td>24.7</td>\n",
              "      <td>6.4</td>\n",
              "      <td>0</td>\n",
              "    </tr>\n",
              "    <tr>\n",
              "      <th>36</th>\n",
              "      <td>25</td>\n",
              "      <td>23</td>\n",
              "      <td>73</td>\n",
              "      <td>77</td>\n",
              "      <td>4</td>\n",
              "      <td>116.1</td>\n",
              "      <td>115.9</td>\n",
              "      <td>0.2</td>\n",
              "      <td>98.0</td>\n",
              "      <td>93.0</td>\n",
              "      <td>...</td>\n",
              "      <td>55.36</td>\n",
              "      <td>47.60</td>\n",
              "      <td>7.76</td>\n",
              "      <td>2.65</td>\n",
              "      <td>2.97</td>\n",
              "      <td>0.41</td>\n",
              "      <td>18.1</td>\n",
              "      <td>22.9</td>\n",
              "      <td>4.8</td>\n",
              "      <td>0</td>\n",
              "    </tr>\n",
              "    <tr>\n",
              "      <th>40</th>\n",
              "      <td>24</td>\n",
              "      <td>31</td>\n",
              "      <td>85</td>\n",
              "      <td>96</td>\n",
              "      <td>11</td>\n",
              "      <td>123.5</td>\n",
              "      <td>118.1</td>\n",
              "      <td>5.4</td>\n",
              "      <td>101.2</td>\n",
              "      <td>96.0</td>\n",
              "      <td>...</td>\n",
              "      <td>57.79</td>\n",
              "      <td>51.85</td>\n",
              "      <td>5.95</td>\n",
              "      <td>1.92</td>\n",
              "      <td>3.46</td>\n",
              "      <td>0.39</td>\n",
              "      <td>22.3</td>\n",
              "      <td>22.1</td>\n",
              "      <td>0.2</td>\n",
              "      <td>0</td>\n",
              "    </tr>\n",
              "    <tr>\n",
              "      <th>265</th>\n",
              "      <td>50</td>\n",
              "      <td>3</td>\n",
              "      <td>70</td>\n",
              "      <td>89</td>\n",
              "      <td>19</td>\n",
              "      <td>118.4</td>\n",
              "      <td>130.7</td>\n",
              "      <td>12.3</td>\n",
              "      <td>101.8</td>\n",
              "      <td>93.1</td>\n",
              "      <td>...</td>\n",
              "      <td>54.78</td>\n",
              "      <td>56.05</td>\n",
              "      <td>1.27</td>\n",
              "      <td>2.31</td>\n",
              "      <td>2.79</td>\n",
              "      <td>0.48</td>\n",
              "      <td>16.6</td>\n",
              "      <td>37.6</td>\n",
              "      <td>21.0</td>\n",
              "      <td>0</td>\n",
              "    </tr>\n",
              "  </tbody>\n",
              "</table>\n",
              "<p>5 rows × 24 columns</p>\n",
              "</div>\n",
              "    <div class=\"colab-df-buttons\">\n",
              "\n",
              "  <div class=\"colab-df-container\">\n",
              "    <button class=\"colab-df-convert\" onclick=\"convertToInteractive('df-425989b0-5723-432a-94e7-bf1aa3c79d93')\"\n",
              "            title=\"Convert this dataframe to an interactive table.\"\n",
              "            style=\"display:none;\">\n",
              "\n",
              "  <svg xmlns=\"http://www.w3.org/2000/svg\" height=\"24px\" viewBox=\"0 -960 960 960\">\n",
              "    <path d=\"M120-120v-720h720v720H120Zm60-500h600v-160H180v160Zm220 220h160v-160H400v160Zm0 220h160v-160H400v160ZM180-400h160v-160H180v160Zm440 0h160v-160H620v160ZM180-180h160v-160H180v160Zm440 0h160v-160H620v160Z\"/>\n",
              "  </svg>\n",
              "    </button>\n",
              "\n",
              "  <style>\n",
              "    .colab-df-container {\n",
              "      display:flex;\n",
              "      gap: 12px;\n",
              "    }\n",
              "\n",
              "    .colab-df-convert {\n",
              "      background-color: #E8F0FE;\n",
              "      border: none;\n",
              "      border-radius: 50%;\n",
              "      cursor: pointer;\n",
              "      display: none;\n",
              "      fill: #1967D2;\n",
              "      height: 32px;\n",
              "      padding: 0 0 0 0;\n",
              "      width: 32px;\n",
              "    }\n",
              "\n",
              "    .colab-df-convert:hover {\n",
              "      background-color: #E2EBFA;\n",
              "      box-shadow: 0px 1px 2px rgba(60, 64, 67, 0.3), 0px 1px 3px 1px rgba(60, 64, 67, 0.15);\n",
              "      fill: #174EA6;\n",
              "    }\n",
              "\n",
              "    .colab-df-buttons div {\n",
              "      margin-bottom: 4px;\n",
              "    }\n",
              "\n",
              "    [theme=dark] .colab-df-convert {\n",
              "      background-color: #3B4455;\n",
              "      fill: #D2E3FC;\n",
              "    }\n",
              "\n",
              "    [theme=dark] .colab-df-convert:hover {\n",
              "      background-color: #434B5C;\n",
              "      box-shadow: 0px 1px 3px 1px rgba(0, 0, 0, 0.15);\n",
              "      filter: drop-shadow(0px 1px 2px rgba(0, 0, 0, 0.3));\n",
              "      fill: #FFFFFF;\n",
              "    }\n",
              "  </style>\n",
              "\n",
              "    <script>\n",
              "      const buttonEl =\n",
              "        document.querySelector('#df-425989b0-5723-432a-94e7-bf1aa3c79d93 button.colab-df-convert');\n",
              "      buttonEl.style.display =\n",
              "        google.colab.kernel.accessAllowed ? 'block' : 'none';\n",
              "\n",
              "      async function convertToInteractive(key) {\n",
              "        const element = document.querySelector('#df-425989b0-5723-432a-94e7-bf1aa3c79d93');\n",
              "        const dataTable =\n",
              "          await google.colab.kernel.invokeFunction('convertToInteractive',\n",
              "                                                    [key], {});\n",
              "        if (!dataTable) return;\n",
              "\n",
              "        const docLinkHtml = 'Like what you see? Visit the ' +\n",
              "          '<a target=\"_blank\" href=https://colab.research.google.com/notebooks/data_table.ipynb>data table notebook</a>'\n",
              "          + ' to learn more about interactive tables.';\n",
              "        element.innerHTML = '';\n",
              "        dataTable['output_type'] = 'display_data';\n",
              "        await google.colab.output.renderOutput(dataTable, element);\n",
              "        const docLink = document.createElement('div');\n",
              "        docLink.innerHTML = docLinkHtml;\n",
              "        element.appendChild(docLink);\n",
              "      }\n",
              "    </script>\n",
              "  </div>\n",
              "\n",
              "\n",
              "<div id=\"df-e7b0be32-5909-4cfb-ab00-e166d98527b6\">\n",
              "  <button class=\"colab-df-quickchart\" onclick=\"quickchart('df-e7b0be32-5909-4cfb-ab00-e166d98527b6')\"\n",
              "            title=\"Suggest charts\"\n",
              "            style=\"display:none;\">\n",
              "\n",
              "<svg xmlns=\"http://www.w3.org/2000/svg\" height=\"24px\"viewBox=\"0 0 24 24\"\n",
              "     width=\"24px\">\n",
              "    <g>\n",
              "        <path d=\"M19 3H5c-1.1 0-2 .9-2 2v14c0 1.1.9 2 2 2h14c1.1 0 2-.9 2-2V5c0-1.1-.9-2-2-2zM9 17H7v-7h2v7zm4 0h-2V7h2v10zm4 0h-2v-4h2v4z\"/>\n",
              "    </g>\n",
              "</svg>\n",
              "  </button>\n",
              "\n",
              "<style>\n",
              "  .colab-df-quickchart {\n",
              "      --bg-color: #E8F0FE;\n",
              "      --fill-color: #1967D2;\n",
              "      --hover-bg-color: #E2EBFA;\n",
              "      --hover-fill-color: #174EA6;\n",
              "      --disabled-fill-color: #AAA;\n",
              "      --disabled-bg-color: #DDD;\n",
              "  }\n",
              "\n",
              "  [theme=dark] .colab-df-quickchart {\n",
              "      --bg-color: #3B4455;\n",
              "      --fill-color: #D2E3FC;\n",
              "      --hover-bg-color: #434B5C;\n",
              "      --hover-fill-color: #FFFFFF;\n",
              "      --disabled-bg-color: #3B4455;\n",
              "      --disabled-fill-color: #666;\n",
              "  }\n",
              "\n",
              "  .colab-df-quickchart {\n",
              "    background-color: var(--bg-color);\n",
              "    border: none;\n",
              "    border-radius: 50%;\n",
              "    cursor: pointer;\n",
              "    display: none;\n",
              "    fill: var(--fill-color);\n",
              "    height: 32px;\n",
              "    padding: 0;\n",
              "    width: 32px;\n",
              "  }\n",
              "\n",
              "  .colab-df-quickchart:hover {\n",
              "    background-color: var(--hover-bg-color);\n",
              "    box-shadow: 0 1px 2px rgba(60, 64, 67, 0.3), 0 1px 3px 1px rgba(60, 64, 67, 0.15);\n",
              "    fill: var(--button-hover-fill-color);\n",
              "  }\n",
              "\n",
              "  .colab-df-quickchart-complete:disabled,\n",
              "  .colab-df-quickchart-complete:disabled:hover {\n",
              "    background-color: var(--disabled-bg-color);\n",
              "    fill: var(--disabled-fill-color);\n",
              "    box-shadow: none;\n",
              "  }\n",
              "\n",
              "  .colab-df-spinner {\n",
              "    border: 2px solid var(--fill-color);\n",
              "    border-color: transparent;\n",
              "    border-bottom-color: var(--fill-color);\n",
              "    animation:\n",
              "      spin 1s steps(1) infinite;\n",
              "  }\n",
              "\n",
              "  @keyframes spin {\n",
              "    0% {\n",
              "      border-color: transparent;\n",
              "      border-bottom-color: var(--fill-color);\n",
              "      border-left-color: var(--fill-color);\n",
              "    }\n",
              "    20% {\n",
              "      border-color: transparent;\n",
              "      border-left-color: var(--fill-color);\n",
              "      border-top-color: var(--fill-color);\n",
              "    }\n",
              "    30% {\n",
              "      border-color: transparent;\n",
              "      border-left-color: var(--fill-color);\n",
              "      border-top-color: var(--fill-color);\n",
              "      border-right-color: var(--fill-color);\n",
              "    }\n",
              "    40% {\n",
              "      border-color: transparent;\n",
              "      border-right-color: var(--fill-color);\n",
              "      border-top-color: var(--fill-color);\n",
              "    }\n",
              "    60% {\n",
              "      border-color: transparent;\n",
              "      border-right-color: var(--fill-color);\n",
              "    }\n",
              "    80% {\n",
              "      border-color: transparent;\n",
              "      border-right-color: var(--fill-color);\n",
              "      border-bottom-color: var(--fill-color);\n",
              "    }\n",
              "    90% {\n",
              "      border-color: transparent;\n",
              "      border-bottom-color: var(--fill-color);\n",
              "    }\n",
              "  }\n",
              "</style>\n",
              "\n",
              "  <script>\n",
              "    async function quickchart(key) {\n",
              "      const quickchartButtonEl =\n",
              "        document.querySelector('#' + key + ' button');\n",
              "      quickchartButtonEl.disabled = true;  // To prevent multiple clicks.\n",
              "      quickchartButtonEl.classList.add('colab-df-spinner');\n",
              "      try {\n",
              "        const charts = await google.colab.kernel.invokeFunction(\n",
              "            'suggestCharts', [key], {});\n",
              "      } catch (error) {\n",
              "        console.error('Error during call to suggestCharts:', error);\n",
              "      }\n",
              "      quickchartButtonEl.classList.remove('colab-df-spinner');\n",
              "      quickchartButtonEl.classList.add('colab-df-quickchart-complete');\n",
              "    }\n",
              "    (() => {\n",
              "      let quickchartButtonEl =\n",
              "        document.querySelector('#df-e7b0be32-5909-4cfb-ab00-e166d98527b6 button');\n",
              "      quickchartButtonEl.style.display =\n",
              "        google.colab.kernel.accessAllowed ? 'block' : 'none';\n",
              "    })();\n",
              "  </script>\n",
              "</div>\n",
              "\n",
              "    </div>\n",
              "  </div>\n"
            ],
            "application/vnd.google.colaboratory.intrinsic+json": {
              "type": "dataframe",
              "variable_name": "train_us"
            }
          },
          "metadata": {},
          "execution_count": 107
        }
      ],
      "source": [
        "train_us.head()"
      ]
    },
    {
      "cell_type": "code",
      "execution_count": null,
      "metadata": {
        "id": "WBr-KjCwRcDj",
        "colab": {
          "base_uri": "https://localhost:8080/"
        },
        "outputId": "cc65c175-00db-4f17-f834-ccde25071850"
      },
      "outputs": [
        {
          "output_type": "stream",
          "name": "stdout",
          "text": [
            "<class 'pandas.core.frame.DataFrame'>\n",
            "Index: 248 entries, 246 to 203\n",
            "Data columns (total 24 columns):\n",
            " #   Column                           Non-Null Count  Dtype  \n",
            "---  ------                           --------------  -----  \n",
            " 0   team1_bpi                        248 non-null    int64  \n",
            " 1   team2_bpi                        248 non-null    int64  \n",
            " 2   team1_points                     248 non-null    int64  \n",
            " 3   team2_points                     248 non-null    int64  \n",
            " 4   points_difference                248 non-null    int64  \n",
            " 5   offensive_efficiency_team1       248 non-null    float64\n",
            " 6   offensive_efficiency_team2       248 non-null    float64\n",
            " 7   offensive_efficiency_difference  248 non-null    float64\n",
            " 8   defensive_efficiency_team1       248 non-null    float64\n",
            " 9   defensive_efficiency_team2       248 non-null    float64\n",
            " 10  defensive_efficiency_difference  248 non-null    float64\n",
            " 11  team1_tempo                      248 non-null    float64\n",
            " 12  team2_tempo                      248 non-null    float64\n",
            " 13  tempo_difference                 248 non-null    float64\n",
            " 14  team1_efgpct                     248 non-null    float64\n",
            " 15  team2_efgpct                     248 non-null    float64\n",
            " 16  efgpct_difference                248 non-null    float64\n",
            " 17  team1_experience                 248 non-null    float64\n",
            " 18  team2_experience                 248 non-null    float64\n",
            " 19  experience_difference            248 non-null    float64\n",
            " 20  team1_rating                     248 non-null    float64\n",
            " 21  team2_rating                     248 non-null    float64\n",
            " 22  rating_difference                248 non-null    float64\n",
            " 23  winner                           248 non-null    int64  \n",
            "dtypes: float64(18), int64(6)\n",
            "memory usage: 48.4 KB\n"
          ]
        }
      ],
      "source": [
        "#output of dataset column names, data types & presence of any null values\n",
        "train_us.info()"
      ]
    },
    {
      "cell_type": "markdown",
      "metadata": {
        "id": "D4UJ4am2RcDi"
      },
      "source": [
        "### Splitting the Upsampled Dataset"
      ]
    },
    {
      "cell_type": "code",
      "source": [
        "target_train_us = train_us['winner']\n",
        "features_train_us = train_us.drop(['winner'], axis=1)"
      ],
      "metadata": {
        "id": "f3Qhngvs9dX6"
      },
      "execution_count": null,
      "outputs": []
    },
    {
      "cell_type": "code",
      "source": [
        "print(features_train_us.shape)\n",
        "print(target_train_us.shape)"
      ],
      "metadata": {
        "id": "VjiedL6n-HSr",
        "colab": {
          "base_uri": "https://localhost:8080/"
        },
        "outputId": "e9307f0f-69a8-4555-b7c8-538476235ada"
      },
      "execution_count": null,
      "outputs": [
        {
          "output_type": "stream",
          "name": "stdout",
          "text": [
            "(248, 23)\n",
            "(248,)\n"
          ]
        }
      ]
    },
    {
      "cell_type": "markdown",
      "metadata": {
        "id": "TZ4fUkbXRcDj"
      },
      "source": [
        "### Models using Upsampled Dataset"
      ]
    },
    {
      "cell_type": "code",
      "execution_count": null,
      "metadata": {
        "id": "99-Io-MCRcDj",
        "colab": {
          "base_uri": "https://localhost:8080/"
        },
        "outputId": "42b4fab3-e2c9-434d-a426-73cd2e18fae2"
      },
      "outputs": [
        {
          "output_type": "stream",
          "name": "stdout",
          "text": [
            "Fitting 4 folds for each of 27 candidates, totalling 108 fits\n",
            "[CV] END .......depth=3, learning_rate=0.01, n_estimators=50; total time=   0.1s\n",
            "[CV] END .......depth=3, learning_rate=0.01, n_estimators=50; total time=   0.1s\n",
            "[CV] END .......depth=3, learning_rate=0.01, n_estimators=50; total time=   0.1s\n",
            "[CV] END .......depth=3, learning_rate=0.01, n_estimators=50; total time=   0.1s\n",
            "[CV] END ......depth=3, learning_rate=0.01, n_estimators=100; total time=   0.1s\n",
            "[CV] END ......depth=3, learning_rate=0.01, n_estimators=100; total time=   0.1s\n",
            "[CV] END ......depth=3, learning_rate=0.01, n_estimators=100; total time=   0.1s\n",
            "[CV] END ......depth=3, learning_rate=0.01, n_estimators=100; total time=   0.1s\n",
            "[CV] END ......depth=3, learning_rate=0.01, n_estimators=200; total time=   0.2s\n",
            "[CV] END ......depth=3, learning_rate=0.01, n_estimators=200; total time=   0.2s\n",
            "[CV] END ......depth=3, learning_rate=0.01, n_estimators=200; total time=   0.2s\n",
            "[CV] END ......depth=3, learning_rate=0.01, n_estimators=200; total time=   0.2s\n",
            "[CV] END .......depth=3, learning_rate=0.05, n_estimators=50; total time=   0.1s\n",
            "[CV] END .......depth=3, learning_rate=0.05, n_estimators=50; total time=   0.1s\n",
            "[CV] END .......depth=3, learning_rate=0.05, n_estimators=50; total time=   0.1s\n",
            "[CV] END .......depth=3, learning_rate=0.05, n_estimators=50; total time=   0.1s\n",
            "[CV] END ......depth=3, learning_rate=0.05, n_estimators=100; total time=   0.1s\n",
            "[CV] END ......depth=3, learning_rate=0.05, n_estimators=100; total time=   0.1s\n",
            "[CV] END ......depth=3, learning_rate=0.05, n_estimators=100; total time=   0.1s\n",
            "[CV] END ......depth=3, learning_rate=0.05, n_estimators=100; total time=   0.1s\n",
            "[CV] END ......depth=3, learning_rate=0.05, n_estimators=200; total time=   0.2s\n",
            "[CV] END ......depth=3, learning_rate=0.05, n_estimators=200; total time=   0.2s\n",
            "[CV] END ......depth=3, learning_rate=0.05, n_estimators=200; total time=   0.2s\n",
            "[CV] END ......depth=3, learning_rate=0.05, n_estimators=200; total time=   0.2s\n",
            "[CV] END ........depth=3, learning_rate=0.1, n_estimators=50; total time=   0.1s\n",
            "[CV] END ........depth=3, learning_rate=0.1, n_estimators=50; total time=   0.1s\n",
            "[CV] END ........depth=3, learning_rate=0.1, n_estimators=50; total time=   0.1s\n",
            "[CV] END ........depth=3, learning_rate=0.1, n_estimators=50; total time=   0.1s\n",
            "[CV] END .......depth=3, learning_rate=0.1, n_estimators=100; total time=   0.1s\n",
            "[CV] END .......depth=3, learning_rate=0.1, n_estimators=100; total time=   0.1s\n",
            "[CV] END .......depth=3, learning_rate=0.1, n_estimators=100; total time=   0.1s\n",
            "[CV] END .......depth=3, learning_rate=0.1, n_estimators=100; total time=   0.1s\n",
            "[CV] END .......depth=3, learning_rate=0.1, n_estimators=200; total time=   0.2s\n",
            "[CV] END .......depth=3, learning_rate=0.1, n_estimators=200; total time=   0.2s\n",
            "[CV] END .......depth=3, learning_rate=0.1, n_estimators=200; total time=   0.2s\n",
            "[CV] END .......depth=3, learning_rate=0.1, n_estimators=200; total time=   0.2s\n",
            "[CV] END .......depth=6, learning_rate=0.01, n_estimators=50; total time=   0.1s\n",
            "[CV] END .......depth=6, learning_rate=0.01, n_estimators=50; total time=   0.2s\n",
            "[CV] END .......depth=6, learning_rate=0.01, n_estimators=50; total time=   0.1s\n",
            "[CV] END .......depth=6, learning_rate=0.01, n_estimators=50; total time=   0.1s\n",
            "[CV] END ......depth=6, learning_rate=0.01, n_estimators=100; total time=   0.2s\n",
            "[CV] END ......depth=6, learning_rate=0.01, n_estimators=100; total time=   0.2s\n",
            "[CV] END ......depth=6, learning_rate=0.01, n_estimators=100; total time=   0.3s\n",
            "[CV] END ......depth=6, learning_rate=0.01, n_estimators=100; total time=   0.2s\n",
            "[CV] END ......depth=6, learning_rate=0.01, n_estimators=200; total time=   0.4s\n",
            "[CV] END ......depth=6, learning_rate=0.01, n_estimators=200; total time=   0.5s\n",
            "[CV] END ......depth=6, learning_rate=0.01, n_estimators=200; total time=   0.6s\n",
            "[CV] END ......depth=6, learning_rate=0.01, n_estimators=200; total time=   1.0s\n",
            "[CV] END .......depth=6, learning_rate=0.05, n_estimators=50; total time=   0.3s\n",
            "[CV] END .......depth=6, learning_rate=0.05, n_estimators=50; total time=   0.3s\n",
            "[CV] END .......depth=6, learning_rate=0.05, n_estimators=50; total time=   0.3s\n",
            "[CV] END .......depth=6, learning_rate=0.05, n_estimators=50; total time=   0.3s\n",
            "[CV] END ......depth=6, learning_rate=0.05, n_estimators=100; total time=   0.4s\n",
            "[CV] END ......depth=6, learning_rate=0.05, n_estimators=100; total time=   0.3s\n",
            "[CV] END ......depth=6, learning_rate=0.05, n_estimators=100; total time=   0.2s\n",
            "[CV] END ......depth=6, learning_rate=0.05, n_estimators=100; total time=   0.2s\n",
            "[CV] END ......depth=6, learning_rate=0.05, n_estimators=200; total time=   0.8s\n",
            "[CV] END ......depth=6, learning_rate=0.05, n_estimators=200; total time=   0.5s\n",
            "[CV] END ......depth=6, learning_rate=0.05, n_estimators=200; total time=   0.5s\n",
            "[CV] END ......depth=6, learning_rate=0.05, n_estimators=200; total time=   0.4s\n",
            "[CV] END ........depth=6, learning_rate=0.1, n_estimators=50; total time=   0.2s\n",
            "[CV] END ........depth=6, learning_rate=0.1, n_estimators=50; total time=   0.1s\n",
            "[CV] END ........depth=6, learning_rate=0.1, n_estimators=50; total time=   0.1s\n",
            "[CV] END ........depth=6, learning_rate=0.1, n_estimators=50; total time=   0.1s\n",
            "[CV] END .......depth=6, learning_rate=0.1, n_estimators=100; total time=   0.2s\n",
            "[CV] END .......depth=6, learning_rate=0.1, n_estimators=100; total time=   0.2s\n",
            "[CV] END .......depth=6, learning_rate=0.1, n_estimators=100; total time=   0.3s\n",
            "[CV] END .......depth=6, learning_rate=0.1, n_estimators=100; total time=   0.2s\n",
            "[CV] END .......depth=6, learning_rate=0.1, n_estimators=200; total time=   0.4s\n",
            "[CV] END .......depth=6, learning_rate=0.1, n_estimators=200; total time=   0.5s\n",
            "[CV] END .......depth=6, learning_rate=0.1, n_estimators=200; total time=   0.5s\n",
            "[CV] END .......depth=6, learning_rate=0.1, n_estimators=200; total time=   0.5s\n",
            "[CV] END ......depth=10, learning_rate=0.01, n_estimators=50; total time=   1.3s\n",
            "[CV] END ......depth=10, learning_rate=0.01, n_estimators=50; total time=   1.0s\n",
            "[CV] END ......depth=10, learning_rate=0.01, n_estimators=50; total time=   0.9s\n",
            "[CV] END ......depth=10, learning_rate=0.01, n_estimators=50; total time=   1.0s\n",
            "[CV] END .....depth=10, learning_rate=0.01, n_estimators=100; total time=   2.8s\n",
            "[CV] END .....depth=10, learning_rate=0.01, n_estimators=100; total time=   1.7s\n",
            "[CV] END .....depth=10, learning_rate=0.01, n_estimators=100; total time=   1.6s\n",
            "[CV] END .....depth=10, learning_rate=0.01, n_estimators=100; total time=   1.6s\n",
            "[CV] END .....depth=10, learning_rate=0.01, n_estimators=200; total time=   3.2s\n",
            "[CV] END .....depth=10, learning_rate=0.01, n_estimators=200; total time=   4.5s\n",
            "[CV] END .....depth=10, learning_rate=0.01, n_estimators=200; total time=   3.2s\n",
            "[CV] END .....depth=10, learning_rate=0.01, n_estimators=200; total time=   3.2s\n",
            "[CV] END ......depth=10, learning_rate=0.05, n_estimators=50; total time=   0.8s\n",
            "[CV] END ......depth=10, learning_rate=0.05, n_estimators=50; total time=   0.8s\n",
            "[CV] END ......depth=10, learning_rate=0.05, n_estimators=50; total time=   0.8s\n",
            "[CV] END ......depth=10, learning_rate=0.05, n_estimators=50; total time=   0.8s\n",
            "[CV] END .....depth=10, learning_rate=0.05, n_estimators=100; total time=   2.7s\n",
            "[CV] END .....depth=10, learning_rate=0.05, n_estimators=100; total time=   1.8s\n",
            "[CV] END .....depth=10, learning_rate=0.05, n_estimators=100; total time=   1.7s\n",
            "[CV] END .....depth=10, learning_rate=0.05, n_estimators=100; total time=   1.7s\n",
            "[CV] END .....depth=10, learning_rate=0.05, n_estimators=200; total time=   3.2s\n",
            "[CV] END .....depth=10, learning_rate=0.05, n_estimators=200; total time=   4.3s\n",
            "[CV] END .....depth=10, learning_rate=0.05, n_estimators=200; total time=   3.5s\n",
            "[CV] END .....depth=10, learning_rate=0.05, n_estimators=200; total time=   3.2s\n",
            "[CV] END .......depth=10, learning_rate=0.1, n_estimators=50; total time=   0.8s\n",
            "[CV] END .......depth=10, learning_rate=0.1, n_estimators=50; total time=   0.9s\n",
            "[CV] END .......depth=10, learning_rate=0.1, n_estimators=50; total time=   0.9s\n",
            "[CV] END .......depth=10, learning_rate=0.1, n_estimators=50; total time=   0.8s\n",
            "[CV] END ......depth=10, learning_rate=0.1, n_estimators=100; total time=   2.5s\n",
            "[CV] END ......depth=10, learning_rate=0.1, n_estimators=100; total time=   2.0s\n",
            "[CV] END ......depth=10, learning_rate=0.1, n_estimators=100; total time=   1.6s\n",
            "[CV] END ......depth=10, learning_rate=0.1, n_estimators=100; total time=   1.6s\n",
            "[CV] END ......depth=10, learning_rate=0.1, n_estimators=200; total time=   3.2s\n",
            "[CV] END ......depth=10, learning_rate=0.1, n_estimators=200; total time=   5.7s\n",
            "[CV] END ......depth=10, learning_rate=0.1, n_estimators=200; total time=   3.3s\n",
            "[CV] END ......depth=10, learning_rate=0.1, n_estimators=200; total time=   3.2s\n",
            "Validation Accuracy: 0.8873239436619719\n",
            "\n",
            "Best Parameters: {'depth': 3, 'learning_rate': 0.1, 'n_estimators': 200}\n"
          ]
        }
      ],
      "source": [
        "param_grid = {\n",
        "    'learning_rate': [0.01, 0.05, 0.1],\n",
        "    'n_estimators': [50, 100, 200],  # More iterations for boosting\n",
        "    'depth': [3, 6, 10]  # Controls tree depth\n",
        "}\n",
        "\n",
        "# Initialize CatBoostClassifier\n",
        "model = CatBoostClassifier(random_state=7, verbose=0, loss_function=\"Logloss\")  # Silent training\n",
        "\n",
        "# Perform Grid Search\n",
        "grid_search = GridSearchCV(estimator=model, param_grid=param_grid, cv=4, scoring='accuracy', verbose=2)\n",
        "\n",
        "# Fit the model\n",
        "grid_search.fit(features_train_us, target_train_us)\n",
        "\n",
        "# Get best model and parameters\n",
        "best_params = grid_search.best_params_\n",
        "best_model = grid_search.best_estimator_\n",
        "\n",
        "# Predict on validation set\n",
        "predictions_team_1_valid = best_model.predict(features_valid)\n",
        "accuracy_team_1_valid = accuracy_score(target_valid, predictions_team_1_valid)\n",
        "\n",
        "print(\"Validation Accuracy:\", accuracy_team_1_valid)\n",
        "print(\"\\nBest Parameters:\", best_params)\n"
      ]
    },
    {
      "cell_type": "code",
      "source": [
        "# Predict on the test set\n",
        "predictions_team_1_test = best_model.predict(features_test)\n",
        "accuracy_team_1_test = accuracy_score(target_test, predictions_team_1_test)\n",
        "\n",
        "print(\"Test Set Accuracy:\", accuracy_team_1_test)"
      ],
      "metadata": {
        "id": "VgxoWB_4_M6E",
        "colab": {
          "base_uri": "https://localhost:8080/"
        },
        "outputId": "13ec125f-21ba-4314-8506-7a87b339a56e"
      },
      "execution_count": null,
      "outputs": [
        {
          "output_type": "stream",
          "name": "stdout",
          "text": [
            "Test Set Accuracy: 0.9722222222222222\n"
          ]
        }
      ]
    },
    {
      "cell_type": "markdown",
      "metadata": {
        "id": "nOXD_1NTRcDk"
      },
      "source": [
        "## Model Analysis"
      ]
    },
    {
      "cell_type": "markdown",
      "source": [
        "After running the Catboost model, it appears the valid accuracy (0.89) and test accuracy (0.97) after balancing the classes are both lower than the validation accuracy (0.92) & test accuracy (0.99) before upsampling.\n",
        "\n",
        "For the model training before and after upsampling, the accuracy of the validation set to the test set increases. This indicates that overfitting or underfitting isnt' an issue."
      ],
      "metadata": {
        "id": "IfFtY4ef4xd2"
      }
    },
    {
      "cell_type": "markdown",
      "metadata": {
        "id": "fWLnQ9hGRcDk"
      },
      "source": [
        "## Conclusion\n",
        "\n",
        "1. This project aimed to predict NCAA Tournament winners using statistics of matchups between November 2024 to February 2025.\n",
        "\n",
        "2. The Exploratory Data Analysis (EDA) revealed that offensive efficiency, rating differences, and BPI were key indicators of success.\n",
        "\n",
        "3. Defensive efficiency had a less important relationship with winning.\n",
        "\n",
        "4. While tempo and experience are the same for winners and losers, winning teams typically have greater BPIs, offensive efficiency, and ratings.\n",
        "\n",
        "5. Feature correlation analysis helped in optimizing the dataset by identifying weaker attributes.\n",
        "\n",
        "6. The model first obtained a test accuracy of 0.99 and a validation accuracy of 0.92 using CatBoost.  The validation accuracy decreased to 0.89 and the test accuracy to 0.97 after upsampling to balance classes, indicating that the change added a little amount of uncertainty without significantly improving generalization.\n",
        "\n",
        "7. To fix the dataset's class imbalance, we upsampled.  The model may have favored the majority class (losing teams) because there were initially more losing games than winning games.\n",
        "\n",
        "8. The model performed strongly in predicting match outcomes, demonstrating that Catboost model can effectively analyze team matchups.\n",
        "\n",
        "9. The model's performance stayed continuously high after upsampling, despite minor decreases in validation and test accuracy, indicating that it was resilient to changes in class balancing.\n",
        "\n"
      ]
    }
  ],
  "metadata": {
    "ExecuteTimeLog": [
      {
        "duration": 2682,
        "start_time": "2025-03-09T23:48:00.790Z"
      },
      {
        "duration": 1399,
        "start_time": "2025-03-09T23:48:03.474Z"
      },
      {
        "duration": 511,
        "start_time": "2025-03-09T23:48:04.875Z"
      },
      {
        "duration": 198,
        "start_time": "2025-03-09T23:48:05.472Z"
      },
      {
        "duration": 6,
        "start_time": "2025-03-09T23:48:05.672Z"
      },
      {
        "duration": 102,
        "start_time": "2025-03-09T23:48:05.679Z"
      },
      {
        "duration": 587,
        "start_time": "2025-03-09T23:48:05.787Z"
      },
      {
        "duration": 10,
        "start_time": "2025-03-09T23:48:06.470Z"
      },
      {
        "duration": 6,
        "start_time": "2025-03-09T23:48:06.484Z"
      },
      {
        "duration": 91,
        "start_time": "2025-03-09T23:48:06.494Z"
      },
      {
        "duration": 82,
        "start_time": "2025-03-09T23:48:06.590Z"
      },
      {
        "duration": 7,
        "start_time": "2025-03-09T23:48:06.677Z"
      },
      {
        "duration": 80,
        "start_time": "2025-03-09T23:48:06.689Z"
      },
      {
        "duration": 6,
        "start_time": "2025-03-09T23:48:06.775Z"
      },
      {
        "duration": 3,
        "start_time": "2025-03-09T23:48:06.785Z"
      },
      {
        "duration": 81,
        "start_time": "2025-03-09T23:48:06.790Z"
      },
      {
        "duration": 1411,
        "start_time": "2025-03-09T23:49:09.671Z"
      },
      {
        "duration": 6,
        "start_time": "2025-03-09T23:53:36.371Z"
      },
      {
        "duration": 3705,
        "start_time": "2025-03-09T23:53:37.872Z"
      },
      {
        "duration": 6,
        "start_time": "2025-03-09T23:53:55.573Z"
      },
      {
        "duration": 7,
        "start_time": "2025-03-09T23:56:44.578Z"
      },
      {
        "duration": 5,
        "start_time": "2025-03-09T23:56:45.971Z"
      },
      {
        "duration": 3,
        "start_time": "2025-03-09T23:56:47.571Z"
      },
      {
        "duration": 4,
        "start_time": "2025-03-09T23:56:48.778Z"
      },
      {
        "duration": 9,
        "start_time": "2025-03-09T23:56:50.371Z"
      },
      {
        "duration": 6,
        "start_time": "2025-03-09T23:56:51.871Z"
      },
      {
        "duration": 114,
        "start_time": "2025-03-09T23:59:17.571Z"
      },
      {
        "duration": 416204,
        "start_time": "2025-03-09T23:59:34.173Z"
      },
      {
        "duration": 31492,
        "start_time": "2025-03-10T00:06:30.379Z"
      },
      {
        "duration": 100,
        "start_time": "2025-03-10T00:07:58.771Z"
      },
      {
        "duration": 12,
        "start_time": "2025-03-10T00:08:06.971Z"
      },
      {
        "duration": 10,
        "start_time": "2025-03-10T00:08:12.571Z"
      },
      {
        "duration": 1001,
        "start_time": "2025-03-10T00:09:37.771Z"
      },
      {
        "duration": 514,
        "start_time": "2025-03-10T00:09:41.971Z"
      },
      {
        "duration": 444592,
        "start_time": "2025-03-10T00:10:00.885Z"
      },
      {
        "duration": 109,
        "start_time": "2025-03-10T00:55:16.271Z"
      },
      {
        "duration": 2615,
        "start_time": "2025-03-10T02:24:55.163Z"
      },
      {
        "duration": 137,
        "start_time": "2025-03-10T02:24:57.780Z"
      },
      {
        "duration": 105,
        "start_time": "2025-03-10T02:24:57.920Z"
      },
      {
        "duration": 13,
        "start_time": "2025-03-10T02:24:58.027Z"
      },
      {
        "duration": 2,
        "start_time": "2025-03-10T02:24:58.043Z"
      },
      {
        "duration": 10,
        "start_time": "2025-03-10T02:24:58.047Z"
      },
      {
        "duration": 49,
        "start_time": "2025-03-10T02:24:58.058Z"
      },
      {
        "duration": 7,
        "start_time": "2025-03-10T02:24:58.124Z"
      },
      {
        "duration": 7,
        "start_time": "2025-03-10T02:24:58.135Z"
      },
      {
        "duration": 7,
        "start_time": "2025-03-10T02:24:58.143Z"
      },
      {
        "duration": 6,
        "start_time": "2025-03-10T02:24:58.152Z"
      },
      {
        "duration": 5,
        "start_time": "2025-03-10T02:24:58.159Z"
      },
      {
        "duration": 4,
        "start_time": "2025-03-10T02:24:58.165Z"
      },
      {
        "duration": 3,
        "start_time": "2025-03-10T02:24:58.172Z"
      },
      {
        "duration": 2,
        "start_time": "2025-03-10T02:24:58.178Z"
      },
      {
        "duration": 42,
        "start_time": "2025-03-10T02:24:58.182Z"
      },
      {
        "duration": 8,
        "start_time": "2025-03-10T02:24:58.226Z"
      },
      {
        "duration": 4,
        "start_time": "2025-03-10T02:24:58.235Z"
      },
      {
        "duration": 3,
        "start_time": "2025-03-10T02:24:58.241Z"
      },
      {
        "duration": 4,
        "start_time": "2025-03-10T02:24:58.246Z"
      },
      {
        "duration": 4,
        "start_time": "2025-03-10T02:24:58.251Z"
      },
      {
        "duration": 4,
        "start_time": "2025-03-10T02:24:58.256Z"
      },
      {
        "duration": 4,
        "start_time": "2025-03-10T02:24:58.262Z"
      },
      {
        "duration": 3,
        "start_time": "2025-03-10T02:24:58.268Z"
      },
      {
        "duration": 142,
        "start_time": "2025-03-10T02:24:58.273Z"
      },
      {
        "duration": 145,
        "start_time": "2025-03-10T02:24:58.416Z"
      },
      {
        "duration": 12297,
        "start_time": "2025-03-10T02:24:58.562Z"
      },
      {
        "duration": 14077,
        "start_time": "2025-03-10T02:26:56.284Z"
      },
      {
        "duration": 0,
        "start_time": "2025-03-10T02:27:10.363Z"
      },
      {
        "duration": 3,
        "start_time": "2025-03-10T02:27:26.997Z"
      },
      {
        "duration": 3,
        "start_time": "2025-03-10T02:27:29.424Z"
      },
      {
        "duration": 3,
        "start_time": "2025-03-10T02:27:30.898Z"
      },
      {
        "duration": 3,
        "start_time": "2025-03-10T02:27:33.932Z"
      },
      {
        "duration": 3,
        "start_time": "2025-03-10T02:27:35.396Z"
      },
      {
        "duration": 3,
        "start_time": "2025-03-10T02:27:35.869Z"
      },
      {
        "duration": 9,
        "start_time": "2025-03-10T02:27:36.373Z"
      },
      {
        "duration": 2,
        "start_time": "2025-03-10T02:27:38.091Z"
      },
      {
        "duration": 11,
        "start_time": "2025-03-10T02:27:38.518Z"
      },
      {
        "duration": 46,
        "start_time": "2025-03-10T02:27:38.906Z"
      },
      {
        "duration": 7,
        "start_time": "2025-03-10T02:27:40.909Z"
      },
      {
        "duration": 7,
        "start_time": "2025-03-10T02:27:41.533Z"
      },
      {
        "duration": 8,
        "start_time": "2025-03-10T02:27:42.080Z"
      },
      {
        "duration": 7,
        "start_time": "2025-03-10T02:27:43.768Z"
      },
      {
        "duration": 5,
        "start_time": "2025-03-10T02:27:44.392Z"
      },
      {
        "duration": 4,
        "start_time": "2025-03-10T02:27:45.023Z"
      },
      {
        "duration": 5,
        "start_time": "2025-03-10T02:27:46.273Z"
      },
      {
        "duration": 3,
        "start_time": "2025-03-10T02:27:46.873Z"
      },
      {
        "duration": 3,
        "start_time": "2025-03-10T02:27:47.442Z"
      },
      {
        "duration": 5,
        "start_time": "2025-03-10T02:27:47.853Z"
      },
      {
        "duration": 5,
        "start_time": "2025-03-10T02:27:48.174Z"
      },
      {
        "duration": 3,
        "start_time": "2025-03-10T02:27:48.587Z"
      },
      {
        "duration": 4,
        "start_time": "2025-03-10T02:27:48.852Z"
      },
      {
        "duration": 5,
        "start_time": "2025-03-10T02:27:49.171Z"
      },
      {
        "duration": 4,
        "start_time": "2025-03-10T02:27:49.374Z"
      },
      {
        "duration": 4,
        "start_time": "2025-03-10T02:27:49.781Z"
      },
      {
        "duration": 3,
        "start_time": "2025-03-10T02:27:50.092Z"
      },
      {
        "duration": 89,
        "start_time": "2025-03-10T02:27:50.301Z"
      },
      {
        "duration": 83,
        "start_time": "2025-03-10T02:27:50.851Z"
      },
      {
        "duration": 25,
        "start_time": "2025-03-10T02:27:51.611Z"
      },
      {
        "duration": 19,
        "start_time": "2025-03-10T02:27:52.308Z"
      },
      {
        "duration": 19,
        "start_time": "2025-03-10T02:28:07.810Z"
      },
      {
        "duration": 12,
        "start_time": "2025-03-10T02:28:46.312Z"
      },
      {
        "duration": 8,
        "start_time": "2025-03-10T02:30:14.802Z"
      },
      {
        "duration": 9,
        "start_time": "2025-03-10T02:30:30.012Z"
      },
      {
        "duration": 92,
        "start_time": "2025-03-10T02:31:36.857Z"
      },
      {
        "duration": 23,
        "start_time": "2025-03-10T02:31:39.397Z"
      },
      {
        "duration": 83,
        "start_time": "2025-03-10T02:32:34.277Z"
      },
      {
        "duration": 95,
        "start_time": "2025-03-10T02:32:53.816Z"
      },
      {
        "duration": 4,
        "start_time": "2025-03-10T02:34:28.884Z"
      },
      {
        "duration": 102,
        "start_time": "2025-03-10T02:35:58.113Z"
      },
      {
        "duration": 4,
        "start_time": "2025-03-10T02:36:14.305Z"
      },
      {
        "duration": 5,
        "start_time": "2025-03-10T02:37:30.157Z"
      },
      {
        "duration": 5,
        "start_time": "2025-03-10T02:41:30.883Z"
      },
      {
        "duration": 6,
        "start_time": "2025-03-10T02:42:07.957Z"
      },
      {
        "duration": 5,
        "start_time": "2025-03-10T02:42:28.064Z"
      },
      {
        "duration": 12482,
        "start_time": "2025-03-10T02:42:34.370Z"
      },
      {
        "duration": 49431,
        "start_time": "2025-03-10T02:43:19.974Z"
      },
      {
        "duration": 49796,
        "start_time": "2025-03-10T02:44:09.407Z"
      },
      {
        "duration": 10782,
        "start_time": "2025-03-10T02:48:58.951Z"
      },
      {
        "duration": 5,
        "start_time": "2025-03-10T02:50:46.259Z"
      },
      {
        "duration": 3,
        "start_time": "2025-03-10T02:52:40.268Z"
      },
      {
        "duration": 3,
        "start_time": "2025-03-10T02:52:40.274Z"
      },
      {
        "duration": 6,
        "start_time": "2025-03-10T02:52:40.278Z"
      },
      {
        "duration": 12,
        "start_time": "2025-03-10T02:52:40.286Z"
      },
      {
        "duration": 3,
        "start_time": "2025-03-10T02:52:40.301Z"
      },
      {
        "duration": 11,
        "start_time": "2025-03-10T02:52:40.306Z"
      },
      {
        "duration": 48,
        "start_time": "2025-03-10T02:52:40.319Z"
      },
      {
        "duration": 8,
        "start_time": "2025-03-10T02:52:40.368Z"
      },
      {
        "duration": 7,
        "start_time": "2025-03-10T02:52:40.377Z"
      },
      {
        "duration": 9,
        "start_time": "2025-03-10T02:52:40.386Z"
      },
      {
        "duration": 28,
        "start_time": "2025-03-10T02:52:40.397Z"
      },
      {
        "duration": 5,
        "start_time": "2025-03-10T02:52:40.428Z"
      },
      {
        "duration": 3,
        "start_time": "2025-03-10T02:52:40.435Z"
      },
      {
        "duration": 4,
        "start_time": "2025-03-10T02:52:40.442Z"
      },
      {
        "duration": 3,
        "start_time": "2025-03-10T02:52:40.448Z"
      },
      {
        "duration": 3,
        "start_time": "2025-03-10T02:52:40.453Z"
      },
      {
        "duration": 4,
        "start_time": "2025-03-10T02:52:40.458Z"
      },
      {
        "duration": 5,
        "start_time": "2025-03-10T02:52:40.463Z"
      },
      {
        "duration": 4,
        "start_time": "2025-03-10T02:52:40.469Z"
      },
      {
        "duration": 50,
        "start_time": "2025-03-10T02:52:40.475Z"
      },
      {
        "duration": 5,
        "start_time": "2025-03-10T02:52:40.527Z"
      },
      {
        "duration": 4,
        "start_time": "2025-03-10T02:52:40.534Z"
      },
      {
        "duration": 4,
        "start_time": "2025-03-10T02:52:40.539Z"
      },
      {
        "duration": 5,
        "start_time": "2025-03-10T02:52:40.544Z"
      },
      {
        "duration": 126,
        "start_time": "2025-03-10T02:52:40.551Z"
      },
      {
        "duration": 210,
        "start_time": "2025-03-10T02:52:40.679Z"
      },
      {
        "duration": 97,
        "start_time": "2025-03-10T02:52:40.892Z"
      },
      {
        "duration": 99,
        "start_time": "2025-03-10T02:52:40.991Z"
      },
      {
        "duration": 13,
        "start_time": "2025-03-10T02:52:45.486Z"
      },
      {
        "duration": 60339,
        "start_time": "2025-03-10T02:55:34.723Z"
      },
      {
        "duration": 2640,
        "start_time": "2025-03-10T05:36:42.084Z"
      },
      {
        "duration": 140,
        "start_time": "2025-03-10T05:36:44.726Z"
      },
      {
        "duration": 102,
        "start_time": "2025-03-10T05:36:44.867Z"
      },
      {
        "duration": 12,
        "start_time": "2025-03-10T05:36:44.972Z"
      },
      {
        "duration": 3,
        "start_time": "2025-03-10T05:36:44.985Z"
      },
      {
        "duration": 9,
        "start_time": "2025-03-10T05:36:44.990Z"
      },
      {
        "duration": 51,
        "start_time": "2025-03-10T05:36:45.001Z"
      },
      {
        "duration": 7,
        "start_time": "2025-03-10T05:36:45.054Z"
      },
      {
        "duration": 14,
        "start_time": "2025-03-10T05:36:45.086Z"
      },
      {
        "duration": 7,
        "start_time": "2025-03-10T05:45:15.726Z"
      },
      {
        "duration": 9,
        "start_time": "2025-03-10T05:45:16.765Z"
      },
      {
        "duration": 5,
        "start_time": "2025-03-10T05:45:23.711Z"
      },
      {
        "duration": 5,
        "start_time": "2025-03-10T05:45:23.907Z"
      },
      {
        "duration": 4,
        "start_time": "2025-03-10T05:45:24.105Z"
      },
      {
        "duration": 4,
        "start_time": "2025-03-10T05:45:25.227Z"
      },
      {
        "duration": 3,
        "start_time": "2025-03-10T05:45:25.399Z"
      },
      {
        "duration": 3,
        "start_time": "2025-03-10T05:45:25.578Z"
      },
      {
        "duration": 4,
        "start_time": "2025-03-10T05:45:25.789Z"
      },
      {
        "duration": 5,
        "start_time": "2025-03-10T05:45:26.059Z"
      },
      {
        "duration": 4,
        "start_time": "2025-03-10T05:45:26.286Z"
      },
      {
        "duration": 5,
        "start_time": "2025-03-10T05:45:27.248Z"
      },
      {
        "duration": 4,
        "start_time": "2025-03-10T05:45:27.458Z"
      },
      {
        "duration": 3,
        "start_time": "2025-03-10T05:45:28.315Z"
      },
      {
        "duration": 3,
        "start_time": "2025-03-10T05:45:28.538Z"
      },
      {
        "duration": 4,
        "start_time": "2025-03-10T05:45:28.740Z"
      },
      {
        "duration": 101,
        "start_time": "2025-03-10T05:45:28.956Z"
      },
      {
        "duration": 82,
        "start_time": "2025-03-10T05:45:29.184Z"
      },
      {
        "duration": 4,
        "start_time": "2025-03-10T05:50:35.348Z"
      },
      {
        "duration": 2,
        "start_time": "2025-03-10T05:54:55.430Z"
      },
      {
        "duration": 2,
        "start_time": "2025-03-10T05:54:55.437Z"
      },
      {
        "duration": 5,
        "start_time": "2025-03-10T05:54:55.441Z"
      },
      {
        "duration": 10,
        "start_time": "2025-03-10T05:54:55.448Z"
      },
      {
        "duration": 2,
        "start_time": "2025-03-10T05:54:55.461Z"
      },
      {
        "duration": 61,
        "start_time": "2025-03-10T05:54:55.465Z"
      },
      {
        "duration": 45,
        "start_time": "2025-03-10T05:54:55.528Z"
      },
      {
        "duration": 12,
        "start_time": "2025-03-10T05:54:55.575Z"
      },
      {
        "duration": 13,
        "start_time": "2025-03-10T05:54:55.590Z"
      },
      {
        "duration": 6,
        "start_time": "2025-03-10T05:54:55.604Z"
      },
      {
        "duration": 8,
        "start_time": "2025-03-10T05:54:55.612Z"
      },
      {
        "duration": 5,
        "start_time": "2025-03-10T05:54:55.621Z"
      },
      {
        "duration": 4,
        "start_time": "2025-03-10T05:54:55.628Z"
      },
      {
        "duration": 4,
        "start_time": "2025-03-10T05:54:55.633Z"
      },
      {
        "duration": 4,
        "start_time": "2025-03-10T05:54:55.638Z"
      },
      {
        "duration": 44,
        "start_time": "2025-03-10T05:54:55.643Z"
      },
      {
        "duration": 3,
        "start_time": "2025-03-10T05:54:55.689Z"
      },
      {
        "duration": 3,
        "start_time": "2025-03-10T05:54:55.694Z"
      },
      {
        "duration": 5,
        "start_time": "2025-03-10T05:54:55.698Z"
      },
      {
        "duration": 5,
        "start_time": "2025-03-10T05:54:55.704Z"
      },
      {
        "duration": 4,
        "start_time": "2025-03-10T05:54:55.711Z"
      },
      {
        "duration": 5,
        "start_time": "2025-03-10T05:54:55.716Z"
      },
      {
        "duration": 5,
        "start_time": "2025-03-10T05:54:55.722Z"
      },
      {
        "duration": 59789,
        "start_time": "2025-03-10T05:54:55.728Z"
      },
      {
        "duration": 59475,
        "start_time": "2025-03-10T05:55:55.519Z"
      },
      {
        "duration": 83,
        "start_time": "2025-03-10T05:56:54.997Z"
      },
      {
        "duration": 87,
        "start_time": "2025-03-10T05:56:55.082Z"
      },
      {
        "duration": 7,
        "start_time": "2025-03-10T05:58:33.592Z"
      },
      {
        "duration": 233,
        "start_time": "2025-03-10T05:58:36.959Z"
      },
      {
        "duration": 7561,
        "start_time": "2025-03-10T05:59:46.758Z"
      },
      {
        "duration": 7,
        "start_time": "2025-03-10T06:01:12.921Z"
      },
      {
        "duration": 81,
        "start_time": "2025-03-10T06:01:18.736Z"
      },
      {
        "duration": 7,
        "start_time": "2025-03-10T06:01:39.240Z"
      },
      {
        "duration": 80,
        "start_time": "2025-03-10T06:01:50.100Z"
      },
      {
        "duration": 4,
        "start_time": "2025-03-10T06:09:14.811Z"
      },
      {
        "duration": 17,
        "start_time": "2025-03-10T06:10:41.490Z"
      },
      {
        "duration": 3,
        "start_time": "2025-03-10T06:11:03.626Z"
      },
      {
        "duration": 3,
        "start_time": "2025-03-10T06:11:27.936Z"
      },
      {
        "duration": 4,
        "start_time": "2025-03-10T06:12:07.459Z"
      },
      {
        "duration": 10,
        "start_time": "2025-03-10T06:12:48.457Z"
      },
      {
        "duration": 14,
        "start_time": "2025-03-10T06:13:33.318Z"
      },
      {
        "duration": 8,
        "start_time": "2025-03-10T06:13:40.501Z"
      },
      {
        "duration": 6,
        "start_time": "2025-03-10T06:17:52.373Z"
      },
      {
        "duration": 77,
        "start_time": "2025-03-10T06:17:54.329Z"
      },
      {
        "duration": 79,
        "start_time": "2025-03-10T06:17:55.062Z"
      },
      {
        "duration": 15,
        "start_time": "2025-03-10T06:18:01.972Z"
      },
      {
        "duration": 9,
        "start_time": "2025-03-10T06:18:09.393Z"
      },
      {
        "duration": 3,
        "start_time": "2025-03-10T06:19:59.206Z"
      },
      {
        "duration": 3,
        "start_time": "2025-03-10T06:19:59.212Z"
      },
      {
        "duration": 4,
        "start_time": "2025-03-10T06:19:59.217Z"
      },
      {
        "duration": 35,
        "start_time": "2025-03-10T06:19:59.222Z"
      },
      {
        "duration": 3,
        "start_time": "2025-03-10T06:19:59.259Z"
      },
      {
        "duration": 10,
        "start_time": "2025-03-10T06:19:59.263Z"
      },
      {
        "duration": 45,
        "start_time": "2025-03-10T06:19:59.274Z"
      },
      {
        "duration": 7,
        "start_time": "2025-03-10T06:19:59.321Z"
      },
      {
        "duration": 14,
        "start_time": "2025-03-10T06:19:59.330Z"
      },
      {
        "duration": 6,
        "start_time": "2025-03-10T06:19:59.347Z"
      },
      {
        "duration": 32,
        "start_time": "2025-03-10T06:19:59.356Z"
      },
      {
        "duration": 5,
        "start_time": "2025-03-10T06:19:59.389Z"
      },
      {
        "duration": 4,
        "start_time": "2025-03-10T06:19:59.396Z"
      },
      {
        "duration": 4,
        "start_time": "2025-03-10T06:19:59.401Z"
      },
      {
        "duration": 5,
        "start_time": "2025-03-10T06:19:59.406Z"
      },
      {
        "duration": 4,
        "start_time": "2025-03-10T06:19:59.412Z"
      },
      {
        "duration": 4,
        "start_time": "2025-03-10T06:19:59.417Z"
      },
      {
        "duration": 4,
        "start_time": "2025-03-10T06:19:59.423Z"
      },
      {
        "duration": 5,
        "start_time": "2025-03-10T06:19:59.428Z"
      },
      {
        "duration": 3,
        "start_time": "2025-03-10T06:19:59.434Z"
      },
      {
        "duration": 47,
        "start_time": "2025-03-10T06:19:59.439Z"
      },
      {
        "duration": 4,
        "start_time": "2025-03-10T06:19:59.489Z"
      },
      {
        "duration": 5,
        "start_time": "2025-03-10T06:19:59.495Z"
      },
      {
        "duration": 59515,
        "start_time": "2025-03-10T06:19:59.501Z"
      },
      {
        "duration": 59529,
        "start_time": "2025-03-10T06:20:59.021Z"
      },
      {
        "duration": 84,
        "start_time": "2025-03-10T06:21:58.552Z"
      },
      {
        "duration": 85,
        "start_time": "2025-03-10T06:21:58.638Z"
      },
      {
        "duration": 6,
        "start_time": "2025-03-10T06:21:58.725Z"
      },
      {
        "duration": 94,
        "start_time": "2025-03-10T06:21:58.733Z"
      },
      {
        "duration": 15,
        "start_time": "2025-03-10T06:21:58.829Z"
      },
      {
        "duration": 8,
        "start_time": "2025-03-10T06:21:58.846Z"
      },
      {
        "duration": 18,
        "start_time": "2025-03-10T06:24:18.518Z"
      },
      {
        "duration": 28,
        "start_time": "2025-03-10T06:24:42.873Z"
      },
      {
        "duration": 3,
        "start_time": "2025-03-10T06:25:16.114Z"
      },
      {
        "duration": 9,
        "start_time": "2025-03-10T06:25:38.543Z"
      },
      {
        "duration": 80,
        "start_time": "2025-03-10T06:26:06.470Z"
      },
      {
        "duration": 15,
        "start_time": "2025-03-10T06:27:52.375Z"
      },
      {
        "duration": 16,
        "start_time": "2025-03-10T06:28:50.196Z"
      },
      {
        "duration": 4,
        "start_time": "2025-03-10T06:28:58.133Z"
      },
      {
        "duration": 3,
        "start_time": "2025-03-10T06:28:58.141Z"
      },
      {
        "duration": 3,
        "start_time": "2025-03-10T06:28:58.146Z"
      },
      {
        "duration": 10,
        "start_time": "2025-03-10T06:28:58.151Z"
      },
      {
        "duration": 3,
        "start_time": "2025-03-10T06:28:58.163Z"
      },
      {
        "duration": 8,
        "start_time": "2025-03-10T06:28:58.168Z"
      },
      {
        "duration": 45,
        "start_time": "2025-03-10T06:28:58.178Z"
      },
      {
        "duration": 7,
        "start_time": "2025-03-10T06:28:58.225Z"
      },
      {
        "duration": 14,
        "start_time": "2025-03-10T06:28:58.233Z"
      },
      {
        "duration": 6,
        "start_time": "2025-03-10T06:28:58.248Z"
      },
      {
        "duration": 8,
        "start_time": "2025-03-10T06:28:58.255Z"
      },
      {
        "duration": 26,
        "start_time": "2025-03-10T06:28:58.265Z"
      },
      {
        "duration": 5,
        "start_time": "2025-03-10T06:28:58.293Z"
      },
      {
        "duration": 4,
        "start_time": "2025-03-10T06:28:58.299Z"
      },
      {
        "duration": 3,
        "start_time": "2025-03-10T06:28:58.307Z"
      },
      {
        "duration": 4,
        "start_time": "2025-03-10T06:28:58.312Z"
      },
      {
        "duration": 3,
        "start_time": "2025-03-10T06:28:58.318Z"
      },
      {
        "duration": 5,
        "start_time": "2025-03-10T06:28:58.323Z"
      },
      {
        "duration": 4,
        "start_time": "2025-03-10T06:28:58.330Z"
      },
      {
        "duration": 52,
        "start_time": "2025-03-10T06:28:58.335Z"
      },
      {
        "duration": 4,
        "start_time": "2025-03-10T06:28:58.388Z"
      },
      {
        "duration": 5,
        "start_time": "2025-03-10T06:28:58.394Z"
      },
      {
        "duration": 4,
        "start_time": "2025-03-10T06:28:58.400Z"
      },
      {
        "duration": 46001,
        "start_time": "2025-03-10T06:28:58.406Z"
      },
      {
        "duration": 0,
        "start_time": "2025-03-10T06:29:44.408Z"
      },
      {
        "duration": 0,
        "start_time": "2025-03-10T06:29:44.409Z"
      },
      {
        "duration": 0,
        "start_time": "2025-03-10T06:29:44.410Z"
      },
      {
        "duration": 0,
        "start_time": "2025-03-10T06:29:44.411Z"
      },
      {
        "duration": 0,
        "start_time": "2025-03-10T06:29:44.412Z"
      },
      {
        "duration": 0,
        "start_time": "2025-03-10T06:29:44.413Z"
      },
      {
        "duration": 0,
        "start_time": "2025-03-10T06:29:44.414Z"
      },
      {
        "duration": 0,
        "start_time": "2025-03-10T06:29:44.415Z"
      },
      {
        "duration": 0,
        "start_time": "2025-03-10T06:29:44.416Z"
      },
      {
        "duration": 0,
        "start_time": "2025-03-10T06:29:44.417Z"
      },
      {
        "duration": 0,
        "start_time": "2025-03-10T06:29:44.419Z"
      },
      {
        "duration": 0,
        "start_time": "2025-03-10T06:29:44.420Z"
      },
      {
        "duration": 0,
        "start_time": "2025-03-10T06:29:44.420Z"
      },
      {
        "duration": 84,
        "start_time": "2025-03-10T06:29:52.992Z"
      },
      {
        "duration": 82,
        "start_time": "2025-03-10T06:29:55.135Z"
      },
      {
        "duration": 10,
        "start_time": "2025-03-10T06:29:58.207Z"
      },
      {
        "duration": 87,
        "start_time": "2025-03-10T06:30:01.352Z"
      },
      {
        "duration": 10,
        "start_time": "2025-03-10T06:31:01.840Z"
      },
      {
        "duration": 81,
        "start_time": "2025-03-10T06:31:04.252Z"
      },
      {
        "duration": 3,
        "start_time": "2025-03-10T06:33:26.204Z"
      },
      {
        "duration": 2,
        "start_time": "2025-03-10T06:33:26.216Z"
      },
      {
        "duration": 4,
        "start_time": "2025-03-10T06:33:26.221Z"
      },
      {
        "duration": 10,
        "start_time": "2025-03-10T06:33:26.226Z"
      },
      {
        "duration": 3,
        "start_time": "2025-03-10T06:33:26.238Z"
      },
      {
        "duration": 12,
        "start_time": "2025-03-10T06:33:26.244Z"
      },
      {
        "duration": 74,
        "start_time": "2025-03-10T06:33:26.258Z"
      },
      {
        "duration": 8,
        "start_time": "2025-03-10T06:33:26.334Z"
      },
      {
        "duration": 23,
        "start_time": "2025-03-10T06:33:26.344Z"
      },
      {
        "duration": 19,
        "start_time": "2025-03-10T06:33:26.370Z"
      },
      {
        "duration": 9,
        "start_time": "2025-03-10T06:33:26.392Z"
      },
      {
        "duration": 8,
        "start_time": "2025-03-10T06:33:26.403Z"
      },
      {
        "duration": 6,
        "start_time": "2025-03-10T06:33:26.412Z"
      },
      {
        "duration": 4,
        "start_time": "2025-03-10T06:33:26.420Z"
      },
      {
        "duration": 4,
        "start_time": "2025-03-10T06:33:26.428Z"
      },
      {
        "duration": 4,
        "start_time": "2025-03-10T06:33:26.434Z"
      },
      {
        "duration": 3,
        "start_time": "2025-03-10T06:33:26.441Z"
      },
      {
        "duration": 41,
        "start_time": "2025-03-10T06:33:26.446Z"
      },
      {
        "duration": 5,
        "start_time": "2025-03-10T06:33:26.489Z"
      },
      {
        "duration": 4,
        "start_time": "2025-03-10T06:33:26.496Z"
      },
      {
        "duration": 4,
        "start_time": "2025-03-10T06:33:26.501Z"
      },
      {
        "duration": 6,
        "start_time": "2025-03-10T06:33:26.507Z"
      },
      {
        "duration": 5,
        "start_time": "2025-03-10T06:33:26.515Z"
      },
      {
        "duration": 29731,
        "start_time": "2025-03-10T06:33:26.521Z"
      },
      {
        "duration": 0,
        "start_time": "2025-03-10T06:33:56.254Z"
      },
      {
        "duration": 0,
        "start_time": "2025-03-10T06:33:56.255Z"
      },
      {
        "duration": 0,
        "start_time": "2025-03-10T06:33:56.257Z"
      },
      {
        "duration": 0,
        "start_time": "2025-03-10T06:33:56.258Z"
      },
      {
        "duration": 0,
        "start_time": "2025-03-10T06:33:56.260Z"
      },
      {
        "duration": 0,
        "start_time": "2025-03-10T06:33:56.261Z"
      },
      {
        "duration": 82,
        "start_time": "2025-03-10T06:34:00.883Z"
      },
      {
        "duration": 82,
        "start_time": "2025-03-10T06:34:03.305Z"
      },
      {
        "duration": 139,
        "start_time": "2025-03-10T06:34:05.824Z"
      },
      {
        "duration": 7,
        "start_time": "2025-03-10T06:35:02.915Z"
      },
      {
        "duration": 10,
        "start_time": "2025-03-10T06:36:17.827Z"
      },
      {
        "duration": 78,
        "start_time": "2025-03-10T06:36:20.107Z"
      },
      {
        "duration": 15,
        "start_time": "2025-03-10T06:36:23.856Z"
      },
      {
        "duration": 10,
        "start_time": "2025-03-10T06:36:28.816Z"
      },
      {
        "duration": 3,
        "start_time": "2025-03-10T06:37:20.463Z"
      },
      {
        "duration": 3,
        "start_time": "2025-03-10T06:37:20.485Z"
      },
      {
        "duration": 3,
        "start_time": "2025-03-10T06:37:20.491Z"
      },
      {
        "duration": 9,
        "start_time": "2025-03-10T06:37:20.496Z"
      },
      {
        "duration": 3,
        "start_time": "2025-03-10T06:37:20.506Z"
      },
      {
        "duration": 8,
        "start_time": "2025-03-10T06:37:20.512Z"
      },
      {
        "duration": 78,
        "start_time": "2025-03-10T06:37:20.522Z"
      },
      {
        "duration": 6,
        "start_time": "2025-03-10T06:37:20.602Z"
      },
      {
        "duration": 14,
        "start_time": "2025-03-10T06:37:20.610Z"
      },
      {
        "duration": 5,
        "start_time": "2025-03-10T06:37:20.626Z"
      },
      {
        "duration": 8,
        "start_time": "2025-03-10T06:37:20.632Z"
      },
      {
        "duration": 5,
        "start_time": "2025-03-10T06:37:20.642Z"
      },
      {
        "duration": 36,
        "start_time": "2025-03-10T06:37:20.650Z"
      },
      {
        "duration": 3,
        "start_time": "2025-03-10T06:37:20.688Z"
      },
      {
        "duration": 3,
        "start_time": "2025-03-10T06:37:20.695Z"
      },
      {
        "duration": 4,
        "start_time": "2025-03-10T06:37:20.700Z"
      },
      {
        "duration": 4,
        "start_time": "2025-03-10T06:37:20.705Z"
      },
      {
        "duration": 4,
        "start_time": "2025-03-10T06:37:20.710Z"
      },
      {
        "duration": 4,
        "start_time": "2025-03-10T06:37:20.716Z"
      },
      {
        "duration": 4,
        "start_time": "2025-03-10T06:37:20.721Z"
      },
      {
        "duration": 4,
        "start_time": "2025-03-10T06:37:20.727Z"
      },
      {
        "duration": 5,
        "start_time": "2025-03-10T06:37:20.733Z"
      },
      {
        "duration": 50,
        "start_time": "2025-03-10T06:37:20.739Z"
      },
      {
        "duration": 59891,
        "start_time": "2025-03-10T06:37:20.791Z"
      },
      {
        "duration": 59441,
        "start_time": "2025-03-10T06:38:20.684Z"
      },
      {
        "duration": 83,
        "start_time": "2025-03-10T06:39:20.127Z"
      },
      {
        "duration": 83,
        "start_time": "2025-03-10T06:39:20.213Z"
      },
      {
        "duration": 8,
        "start_time": "2025-03-10T06:39:20.298Z"
      },
      {
        "duration": 97,
        "start_time": "2025-03-10T06:39:20.307Z"
      },
      {
        "duration": 7,
        "start_time": "2025-03-10T06:39:20.407Z"
      },
      {
        "duration": 94,
        "start_time": "2025-03-10T06:39:20.415Z"
      },
      {
        "duration": 9,
        "start_time": "2025-03-10T06:39:20.512Z"
      },
      {
        "duration": 5,
        "start_time": "2025-03-10T06:39:20.522Z"
      },
      {
        "duration": 17,
        "start_time": "2025-03-10T06:40:01.728Z"
      },
      {
        "duration": 3,
        "start_time": "2025-03-10T06:40:06.172Z"
      },
      {
        "duration": 4,
        "start_time": "2025-03-10T06:40:41.013Z"
      },
      {
        "duration": 5,
        "start_time": "2025-03-10T06:41:31.859Z"
      },
      {
        "duration": 4,
        "start_time": "2025-03-10T06:41:37.026Z"
      },
      {
        "duration": 52926,
        "start_time": "2025-03-10T06:42:41.443Z"
      },
      {
        "duration": 55,
        "start_time": "2025-03-10T06:43:34.372Z"
      },
      {
        "duration": 6,
        "start_time": "2025-03-10T06:52:41.236Z"
      },
      {
        "duration": 85,
        "start_time": "2025-03-10T06:52:43.460Z"
      },
      {
        "duration": 6,
        "start_time": "2025-03-10T06:52:48.217Z"
      },
      {
        "duration": 3,
        "start_time": "2025-03-10T06:52:57.876Z"
      },
      {
        "duration": 3,
        "start_time": "2025-03-10T06:52:57.884Z"
      },
      {
        "duration": 4,
        "start_time": "2025-03-10T06:52:57.889Z"
      },
      {
        "duration": 11,
        "start_time": "2025-03-10T06:52:57.894Z"
      },
      {
        "duration": 3,
        "start_time": "2025-03-10T06:52:57.906Z"
      },
      {
        "duration": 9,
        "start_time": "2025-03-10T06:52:57.911Z"
      },
      {
        "duration": 68,
        "start_time": "2025-03-10T06:52:57.922Z"
      },
      {
        "duration": 7,
        "start_time": "2025-03-10T06:52:57.991Z"
      },
      {
        "duration": 14,
        "start_time": "2025-03-10T06:52:57.999Z"
      },
      {
        "duration": 4,
        "start_time": "2025-03-10T06:52:58.015Z"
      },
      {
        "duration": 8,
        "start_time": "2025-03-10T06:52:58.021Z"
      },
      {
        "duration": 5,
        "start_time": "2025-03-10T06:52:58.030Z"
      },
      {
        "duration": 4,
        "start_time": "2025-03-10T06:52:58.037Z"
      },
      {
        "duration": 44,
        "start_time": "2025-03-10T06:52:58.042Z"
      },
      {
        "duration": 3,
        "start_time": "2025-03-10T06:52:58.090Z"
      },
      {
        "duration": 4,
        "start_time": "2025-03-10T06:52:58.094Z"
      },
      {
        "duration": 4,
        "start_time": "2025-03-10T06:52:58.099Z"
      },
      {
        "duration": 3,
        "start_time": "2025-03-10T06:52:58.106Z"
      },
      {
        "duration": 4,
        "start_time": "2025-03-10T06:52:58.111Z"
      },
      {
        "duration": 4,
        "start_time": "2025-03-10T06:52:58.117Z"
      },
      {
        "duration": 4,
        "start_time": "2025-03-10T06:52:58.123Z"
      },
      {
        "duration": 8,
        "start_time": "2025-03-10T06:52:58.129Z"
      },
      {
        "duration": 5,
        "start_time": "2025-03-10T06:53:00.327Z"
      },
      {
        "duration": 81,
        "start_time": "2025-03-10T06:53:05.065Z"
      },
      {
        "duration": 80,
        "start_time": "2025-03-10T06:53:07.163Z"
      },
      {
        "duration": 7,
        "start_time": "2025-03-10T06:53:09.338Z"
      },
      {
        "duration": 81,
        "start_time": "2025-03-10T06:53:11.329Z"
      },
      {
        "duration": 7,
        "start_time": "2025-03-10T06:53:13.890Z"
      },
      {
        "duration": 82,
        "start_time": "2025-03-10T06:53:15.605Z"
      },
      {
        "duration": 19,
        "start_time": "2025-03-10T06:53:27.692Z"
      },
      {
        "duration": 16,
        "start_time": "2025-03-10T06:53:58.350Z"
      },
      {
        "duration": 9,
        "start_time": "2025-03-10T06:54:17.328Z"
      },
      {
        "duration": 5,
        "start_time": "2025-03-10T06:54:20.145Z"
      },
      {
        "duration": 4,
        "start_time": "2025-03-10T06:54:21.499Z"
      },
      {
        "duration": 4,
        "start_time": "2025-03-10T06:54:23.005Z"
      },
      {
        "duration": 52892,
        "start_time": "2025-03-10T06:54:26.187Z"
      },
      {
        "duration": 53200,
        "start_time": "2025-03-10T06:55:19.081Z"
      },
      {
        "duration": 95,
        "start_time": "2025-03-10T07:01:44.884Z"
      },
      {
        "duration": 3,
        "start_time": "2025-03-10T07:02:02.598Z"
      },
      {
        "duration": 16,
        "start_time": "2025-03-10T07:02:13.759Z"
      },
      {
        "duration": 1146,
        "start_time": "2025-03-10T07:02:37.418Z"
      },
      {
        "duration": 4,
        "start_time": "2025-03-10T07:05:52.062Z"
      },
      {
        "duration": 4,
        "start_time": "2025-03-10T07:06:03.543Z"
      },
      {
        "duration": 3,
        "start_time": "2025-03-10T07:06:04.544Z"
      },
      {
        "duration": 760,
        "start_time": "2025-03-10T07:06:13.162Z"
      },
      {
        "duration": 3,
        "start_time": "2025-03-10T07:06:31.401Z"
      },
      {
        "duration": 3,
        "start_time": "2025-03-10T07:06:34.560Z"
      },
      {
        "duration": 7,
        "start_time": "2025-03-10T07:06:40.151Z"
      },
      {
        "duration": 204,
        "start_time": "2025-03-10T07:06:46.767Z"
      },
      {
        "duration": 3,
        "start_time": "2025-03-10T07:06:50.237Z"
      },
      {
        "duration": 88,
        "start_time": "2025-03-10T07:06:55.060Z"
      },
      {
        "duration": 294,
        "start_time": "2025-03-10T07:07:07.445Z"
      },
      {
        "duration": 3,
        "start_time": "2025-03-10T07:07:21.335Z"
      },
      {
        "duration": 3,
        "start_time": "2025-03-10T07:07:21.349Z"
      },
      {
        "duration": 3,
        "start_time": "2025-03-10T07:07:21.354Z"
      },
      {
        "duration": 10,
        "start_time": "2025-03-10T07:07:21.359Z"
      },
      {
        "duration": 3,
        "start_time": "2025-03-10T07:07:21.370Z"
      },
      {
        "duration": 11,
        "start_time": "2025-03-10T07:07:21.376Z"
      },
      {
        "duration": 44,
        "start_time": "2025-03-10T07:07:21.388Z"
      },
      {
        "duration": 8,
        "start_time": "2025-03-10T07:07:21.434Z"
      },
      {
        "duration": 20,
        "start_time": "2025-03-10T07:07:21.443Z"
      },
      {
        "duration": 26,
        "start_time": "2025-03-10T07:07:21.465Z"
      },
      {
        "duration": 7,
        "start_time": "2025-03-10T07:07:21.492Z"
      },
      {
        "duration": 117,
        "start_time": "2025-03-10T07:07:21.501Z"
      },
      {
        "duration": 3,
        "start_time": "2025-03-10T07:07:21.620Z"
      },
      {
        "duration": 1210,
        "start_time": "2025-03-10T07:07:21.624Z"
      },
      {
        "duration": 4,
        "start_time": "2025-03-10T07:07:22.839Z"
      },
      {
        "duration": 4,
        "start_time": "2025-03-10T07:07:22.845Z"
      },
      {
        "duration": 4,
        "start_time": "2025-03-10T07:07:22.850Z"
      },
      {
        "duration": 774,
        "start_time": "2025-03-10T07:07:22.855Z"
      },
      {
        "duration": 3,
        "start_time": "2025-03-10T07:07:23.632Z"
      },
      {
        "duration": 4,
        "start_time": "2025-03-10T07:07:23.636Z"
      },
      {
        "duration": 7,
        "start_time": "2025-03-10T07:07:23.642Z"
      },
      {
        "duration": 236,
        "start_time": "2025-03-10T07:07:23.650Z"
      },
      {
        "duration": 3,
        "start_time": "2025-03-10T07:07:23.888Z"
      },
      {
        "duration": 127,
        "start_time": "2025-03-10T07:07:23.893Z"
      },
      {
        "duration": 0,
        "start_time": "2025-03-10T07:07:24.022Z"
      },
      {
        "duration": 0,
        "start_time": "2025-03-10T07:07:24.023Z"
      },
      {
        "duration": 0,
        "start_time": "2025-03-10T07:07:24.024Z"
      },
      {
        "duration": 0,
        "start_time": "2025-03-10T07:07:24.025Z"
      },
      {
        "duration": 0,
        "start_time": "2025-03-10T07:07:24.026Z"
      },
      {
        "duration": 0,
        "start_time": "2025-03-10T07:07:24.027Z"
      },
      {
        "duration": 0,
        "start_time": "2025-03-10T07:07:24.028Z"
      },
      {
        "duration": 0,
        "start_time": "2025-03-10T07:07:24.029Z"
      },
      {
        "duration": 0,
        "start_time": "2025-03-10T07:07:24.030Z"
      },
      {
        "duration": 0,
        "start_time": "2025-03-10T07:07:24.031Z"
      },
      {
        "duration": 0,
        "start_time": "2025-03-10T07:07:24.032Z"
      },
      {
        "duration": 0,
        "start_time": "2025-03-10T07:07:24.033Z"
      },
      {
        "duration": 0,
        "start_time": "2025-03-10T07:07:24.034Z"
      },
      {
        "duration": 0,
        "start_time": "2025-03-10T07:07:24.035Z"
      },
      {
        "duration": 0,
        "start_time": "2025-03-10T07:07:24.036Z"
      },
      {
        "duration": 0,
        "start_time": "2025-03-10T07:07:24.037Z"
      },
      {
        "duration": 0,
        "start_time": "2025-03-10T07:07:24.038Z"
      },
      {
        "duration": 0,
        "start_time": "2025-03-10T07:07:24.039Z"
      },
      {
        "duration": 0,
        "start_time": "2025-03-10T07:07:24.040Z"
      },
      {
        "duration": 0,
        "start_time": "2025-03-10T07:07:24.041Z"
      },
      {
        "duration": 0,
        "start_time": "2025-03-10T07:07:24.042Z"
      },
      {
        "duration": 0,
        "start_time": "2025-03-10T07:07:24.043Z"
      },
      {
        "duration": 0,
        "start_time": "2025-03-10T07:07:24.044Z"
      },
      {
        "duration": 0,
        "start_time": "2025-03-10T07:07:24.045Z"
      },
      {
        "duration": 0,
        "start_time": "2025-03-10T07:07:24.046Z"
      },
      {
        "duration": 0,
        "start_time": "2025-03-10T07:07:24.047Z"
      },
      {
        "duration": 0,
        "start_time": "2025-03-10T07:07:24.088Z"
      },
      {
        "duration": 120,
        "start_time": "2025-03-10T07:08:24.092Z"
      },
      {
        "duration": 826,
        "start_time": "2025-03-10T07:08:50.342Z"
      },
      {
        "duration": 176,
        "start_time": "2025-03-10T07:08:51.170Z"
      },
      {
        "duration": 103,
        "start_time": "2025-03-10T07:08:51.347Z"
      },
      {
        "duration": 8,
        "start_time": "2025-03-10T07:08:51.453Z"
      },
      {
        "duration": 3,
        "start_time": "2025-03-10T07:08:51.463Z"
      },
      {
        "duration": 21,
        "start_time": "2025-03-10T07:08:51.467Z"
      },
      {
        "duration": 47,
        "start_time": "2025-03-10T07:08:51.490Z"
      },
      {
        "duration": 7,
        "start_time": "2025-03-10T07:08:51.539Z"
      },
      {
        "duration": 39,
        "start_time": "2025-03-10T07:08:51.548Z"
      },
      {
        "duration": 5,
        "start_time": "2025-03-10T07:08:51.590Z"
      },
      {
        "duration": 8,
        "start_time": "2025-03-10T07:08:51.596Z"
      },
      {
        "duration": 127,
        "start_time": "2025-03-10T07:08:51.605Z"
      },
      {
        "duration": 3,
        "start_time": "2025-03-10T07:08:51.733Z"
      },
      {
        "duration": 1053,
        "start_time": "2025-03-10T07:08:51.738Z"
      },
      {
        "duration": 4,
        "start_time": "2025-03-10T07:08:52.793Z"
      },
      {
        "duration": 4,
        "start_time": "2025-03-10T07:08:52.799Z"
      },
      {
        "duration": 4,
        "start_time": "2025-03-10T07:08:52.804Z"
      },
      {
        "duration": 780,
        "start_time": "2025-03-10T07:08:52.809Z"
      },
      {
        "duration": 2,
        "start_time": "2025-03-10T07:08:53.591Z"
      },
      {
        "duration": 7,
        "start_time": "2025-03-10T07:08:53.598Z"
      },
      {
        "duration": 6,
        "start_time": "2025-03-10T07:08:53.606Z"
      },
      {
        "duration": 234,
        "start_time": "2025-03-10T07:08:53.614Z"
      },
      {
        "duration": 3,
        "start_time": "2025-03-10T07:08:53.853Z"
      },
      {
        "duration": 620,
        "start_time": "2025-03-10T07:08:53.861Z"
      },
      {
        "duration": 1161,
        "start_time": "2025-03-10T07:10:02.464Z"
      },
      {
        "duration": 123,
        "start_time": "2025-03-10T07:10:27.019Z"
      },
      {
        "duration": 995,
        "start_time": "2025-03-10T07:11:55.668Z"
      },
      {
        "duration": 113,
        "start_time": "2025-03-10T07:12:32.722Z"
      },
      {
        "duration": 1126,
        "start_time": "2025-03-10T07:12:52.597Z"
      },
      {
        "duration": 5,
        "start_time": "2025-03-10T07:13:21.467Z"
      },
      {
        "duration": 875,
        "start_time": "2025-03-10T07:13:27.496Z"
      },
      {
        "duration": 184,
        "start_time": "2025-03-10T07:13:28.373Z"
      },
      {
        "duration": 96,
        "start_time": "2025-03-10T07:13:28.559Z"
      },
      {
        "duration": 8,
        "start_time": "2025-03-10T07:13:28.657Z"
      },
      {
        "duration": 3,
        "start_time": "2025-03-10T07:13:28.667Z"
      },
      {
        "duration": 23,
        "start_time": "2025-03-10T07:13:28.672Z"
      },
      {
        "duration": 48,
        "start_time": "2025-03-10T07:13:28.697Z"
      },
      {
        "duration": 8,
        "start_time": "2025-03-10T07:13:28.748Z"
      },
      {
        "duration": 31,
        "start_time": "2025-03-10T07:13:28.757Z"
      },
      {
        "duration": 6,
        "start_time": "2025-03-10T07:13:28.790Z"
      },
      {
        "duration": 7,
        "start_time": "2025-03-10T07:13:28.798Z"
      },
      {
        "duration": 138,
        "start_time": "2025-03-10T07:13:28.807Z"
      },
      {
        "duration": 4,
        "start_time": "2025-03-10T07:13:28.947Z"
      },
      {
        "duration": 1102,
        "start_time": "2025-03-10T07:13:28.957Z"
      },
      {
        "duration": 4,
        "start_time": "2025-03-10T07:13:30.061Z"
      },
      {
        "duration": 3,
        "start_time": "2025-03-10T07:13:30.067Z"
      },
      {
        "duration": 3,
        "start_time": "2025-03-10T07:13:30.072Z"
      },
      {
        "duration": 753,
        "start_time": "2025-03-10T07:13:30.076Z"
      },
      {
        "duration": 5,
        "start_time": "2025-03-10T07:13:30.831Z"
      },
      {
        "duration": 3,
        "start_time": "2025-03-10T07:13:30.838Z"
      },
      {
        "duration": 6,
        "start_time": "2025-03-10T07:13:30.843Z"
      },
      {
        "duration": 226,
        "start_time": "2025-03-10T07:13:30.851Z"
      },
      {
        "duration": 11,
        "start_time": "2025-03-10T07:13:31.079Z"
      },
      {
        "duration": 1139,
        "start_time": "2025-03-10T07:13:31.091Z"
      },
      {
        "duration": 5,
        "start_time": "2025-03-10T07:13:32.232Z"
      },
      {
        "duration": 5,
        "start_time": "2025-03-10T07:13:32.239Z"
      },
      {
        "duration": 4,
        "start_time": "2025-03-10T07:13:32.245Z"
      },
      {
        "duration": 5,
        "start_time": "2025-03-10T07:13:32.250Z"
      },
      {
        "duration": 32,
        "start_time": "2025-03-10T07:13:32.256Z"
      },
      {
        "duration": 4,
        "start_time": "2025-03-10T07:13:32.290Z"
      },
      {
        "duration": 4,
        "start_time": "2025-03-10T07:13:32.295Z"
      },
      {
        "duration": 4,
        "start_time": "2025-03-10T07:13:32.301Z"
      },
      {
        "duration": 3,
        "start_time": "2025-03-10T07:13:32.307Z"
      },
      {
        "duration": 4,
        "start_time": "2025-03-10T07:13:32.312Z"
      },
      {
        "duration": 4,
        "start_time": "2025-03-10T07:13:32.318Z"
      },
      {
        "duration": 5,
        "start_time": "2025-03-10T07:13:32.323Z"
      },
      {
        "duration": 43309,
        "start_time": "2025-03-10T07:13:32.329Z"
      },
      {
        "duration": 43232,
        "start_time": "2025-03-10T07:14:15.640Z"
      },
      {
        "duration": 80,
        "start_time": "2025-03-10T07:14:58.874Z"
      },
      {
        "duration": 85,
        "start_time": "2025-03-10T07:14:58.956Z"
      },
      {
        "duration": 7,
        "start_time": "2025-03-10T07:14:59.046Z"
      },
      {
        "duration": 256,
        "start_time": "2025-03-10T07:14:59.054Z"
      },
      {
        "duration": 0,
        "start_time": "2025-03-10T07:14:59.312Z"
      },
      {
        "duration": 0,
        "start_time": "2025-03-10T07:14:59.314Z"
      },
      {
        "duration": 0,
        "start_time": "2025-03-10T07:14:59.315Z"
      },
      {
        "duration": 1,
        "start_time": "2025-03-10T07:14:59.315Z"
      },
      {
        "duration": 0,
        "start_time": "2025-03-10T07:14:59.317Z"
      },
      {
        "duration": 0,
        "start_time": "2025-03-10T07:14:59.318Z"
      },
      {
        "duration": 0,
        "start_time": "2025-03-10T07:14:59.319Z"
      },
      {
        "duration": 0,
        "start_time": "2025-03-10T07:14:59.320Z"
      },
      {
        "duration": 0,
        "start_time": "2025-03-10T07:14:59.321Z"
      },
      {
        "duration": 7,
        "start_time": "2025-03-10T07:19:35.442Z"
      },
      {
        "duration": 19,
        "start_time": "2025-03-10T07:19:36.666Z"
      },
      {
        "duration": 103,
        "start_time": "2025-03-10T07:20:01.667Z"
      },
      {
        "duration": 7,
        "start_time": "2025-03-10T07:20:04.182Z"
      },
      {
        "duration": 94,
        "start_time": "2025-03-10T07:20:05.916Z"
      },
      {
        "duration": 17,
        "start_time": "2025-03-10T07:20:08.706Z"
      },
      {
        "duration": 21,
        "start_time": "2025-03-10T07:21:07.274Z"
      },
      {
        "duration": 10,
        "start_time": "2025-03-10T07:21:09.639Z"
      },
      {
        "duration": 802,
        "start_time": "2025-03-10T07:21:55.722Z"
      },
      {
        "duration": 3,
        "start_time": "2025-03-10T07:22:28.896Z"
      },
      {
        "duration": 93,
        "start_time": "2025-03-10T07:23:00.158Z"
      },
      {
        "duration": 882,
        "start_time": "2025-03-10T07:23:07.494Z"
      },
      {
        "duration": 221,
        "start_time": "2025-03-10T07:23:08.379Z"
      },
      {
        "duration": 103,
        "start_time": "2025-03-10T07:23:08.602Z"
      },
      {
        "duration": 8,
        "start_time": "2025-03-10T07:23:08.707Z"
      },
      {
        "duration": 3,
        "start_time": "2025-03-10T07:23:08.716Z"
      },
      {
        "duration": 11,
        "start_time": "2025-03-10T07:23:08.721Z"
      },
      {
        "duration": 76,
        "start_time": "2025-03-10T07:23:08.734Z"
      },
      {
        "duration": 16,
        "start_time": "2025-03-10T07:23:08.812Z"
      },
      {
        "duration": 18,
        "start_time": "2025-03-10T07:23:08.831Z"
      },
      {
        "duration": 6,
        "start_time": "2025-03-10T07:23:08.853Z"
      },
      {
        "duration": 26,
        "start_time": "2025-03-10T07:23:08.861Z"
      },
      {
        "duration": 124,
        "start_time": "2025-03-10T07:23:08.889Z"
      },
      {
        "duration": 2,
        "start_time": "2025-03-10T07:23:09.016Z"
      },
      {
        "duration": 1194,
        "start_time": "2025-03-10T07:23:09.021Z"
      },
      {
        "duration": 4,
        "start_time": "2025-03-10T07:23:10.217Z"
      },
      {
        "duration": 4,
        "start_time": "2025-03-10T07:23:10.224Z"
      },
      {
        "duration": 3,
        "start_time": "2025-03-10T07:23:10.230Z"
      },
      {
        "duration": 752,
        "start_time": "2025-03-10T07:23:10.234Z"
      },
      {
        "duration": 4,
        "start_time": "2025-03-10T07:23:10.988Z"
      },
      {
        "duration": 3,
        "start_time": "2025-03-10T07:23:10.995Z"
      },
      {
        "duration": 7,
        "start_time": "2025-03-10T07:23:11.000Z"
      },
      {
        "duration": 239,
        "start_time": "2025-03-10T07:23:11.009Z"
      },
      {
        "duration": 2,
        "start_time": "2025-03-10T07:23:11.251Z"
      },
      {
        "duration": 1168,
        "start_time": "2025-03-10T07:23:11.255Z"
      },
      {
        "duration": 5,
        "start_time": "2025-03-10T07:23:12.425Z"
      },
      {
        "duration": 5,
        "start_time": "2025-03-10T07:23:12.433Z"
      },
      {
        "duration": 4,
        "start_time": "2025-03-10T07:23:12.440Z"
      },
      {
        "duration": 3,
        "start_time": "2025-03-10T07:23:12.449Z"
      },
      {
        "duration": 32,
        "start_time": "2025-03-10T07:23:12.456Z"
      },
      {
        "duration": 3,
        "start_time": "2025-03-10T07:23:12.490Z"
      },
      {
        "duration": 4,
        "start_time": "2025-03-10T07:23:12.495Z"
      },
      {
        "duration": 6,
        "start_time": "2025-03-10T07:23:12.500Z"
      },
      {
        "duration": 6,
        "start_time": "2025-03-10T07:23:12.508Z"
      },
      {
        "duration": 4,
        "start_time": "2025-03-10T07:23:12.515Z"
      },
      {
        "duration": 5,
        "start_time": "2025-03-10T07:23:12.521Z"
      },
      {
        "duration": 5,
        "start_time": "2025-03-10T07:23:12.528Z"
      },
      {
        "duration": 62909,
        "start_time": "2025-03-10T07:23:12.535Z"
      },
      {
        "duration": 62631,
        "start_time": "2025-03-10T07:24:15.447Z"
      },
      {
        "duration": 111,
        "start_time": "2025-03-10T07:25:18.080Z"
      },
      {
        "duration": 110,
        "start_time": "2025-03-10T07:25:18.193Z"
      },
      {
        "duration": 8,
        "start_time": "2025-03-10T07:25:18.306Z"
      },
      {
        "duration": 110,
        "start_time": "2025-03-10T07:25:18.316Z"
      },
      {
        "duration": 7,
        "start_time": "2025-03-10T07:25:18.428Z"
      },
      {
        "duration": 99,
        "start_time": "2025-03-10T07:25:18.437Z"
      },
      {
        "duration": 16,
        "start_time": "2025-03-10T07:25:18.539Z"
      },
      {
        "duration": 10,
        "start_time": "2025-03-10T07:25:18.557Z"
      },
      {
        "duration": 21,
        "start_time": "2025-03-10T07:25:18.569Z"
      },
      {
        "duration": 4,
        "start_time": "2025-03-10T07:25:18.594Z"
      },
      {
        "duration": 4,
        "start_time": "2025-03-10T07:25:18.600Z"
      },
      {
        "duration": 55620,
        "start_time": "2025-03-10T07:25:18.606Z"
      },
      {
        "duration": 55444,
        "start_time": "2025-03-10T07:26:14.228Z"
      },
      {
        "duration": 56008,
        "start_time": "2025-03-10T07:45:47.384Z"
      },
      {
        "duration": 53901,
        "start_time": "2025-03-10T07:51:19.457Z"
      },
      {
        "duration": 53149,
        "start_time": "2025-03-10T07:52:13.360Z"
      }
    ],
    "kernelspec": {
      "display_name": "Python 3 (ipykernel)",
      "language": "python",
      "name": "python3"
    },
    "language_info": {
      "codemirror_mode": {
        "name": "ipython",
        "version": 3
      },
      "file_extension": ".py",
      "mimetype": "text/x-python",
      "name": "python",
      "nbconvert_exporter": "python",
      "pygments_lexer": "ipython3",
      "version": "3.9.19"
    },
    "toc": {
      "base_numbering": 1,
      "nav_menu": {},
      "number_sections": true,
      "sideBar": true,
      "skip_h1_title": true,
      "title_cell": "Table of Contents",
      "title_sidebar": "Contents",
      "toc_cell": false,
      "toc_position": {},
      "toc_section_display": true,
      "toc_window_display": false
    },
    "colab": {
      "provenance": []
    }
  },
  "nbformat": 4,
  "nbformat_minor": 0
}